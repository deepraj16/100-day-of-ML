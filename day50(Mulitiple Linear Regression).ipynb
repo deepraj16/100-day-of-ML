{
 "cells": [
  {
   "cell_type": "markdown",
   "id": "2aaa32df-6984-4308-a116-42ebb424eb54",
   "metadata": {},
   "source": [
    "# Mulitiple Linear Regression"
   ]
  },
  {
   "cell_type": "code",
   "execution_count": 4,
   "id": "0aa2b89d-4dcb-421e-a5c1-521c9a1332f2",
   "metadata": {},
   "outputs": [],
   "source": [
    "from sklearn.datasets import make_regression \n",
    "import pandas as pd\n",
    "import numpy as np\n",
    "import plotly.express as px\n",
    "import plotly.graph_objects as go\n",
    "\n",
    "from sklearn.metrics import mean_absolute_error , mean_squared_error , r2_score\n",
    "\n",
    "\n"
   ]
  },
  {
   "cell_type": "code",
   "execution_count": 22,
   "id": "ddb53891-0c06-4a75-824d-d1e4c8225dfc",
   "metadata": {},
   "outputs": [],
   "source": [
    "x,y = make_regression(n_samples=100, n_features=2, n_informative=2, n_targets=1, noise=50)"
   ]
  },
  {
   "cell_type": "code",
   "execution_count": 23,
   "id": "63ae844d-d216-4860-97da-fb054d5b9c69",
   "metadata": {},
   "outputs": [],
   "source": [
    "df = pd.DataFrame({'feature1':x[:,0],'feature2':x[:,1],'target':y})"
   ]
  },
  {
   "cell_type": "code",
   "execution_count": 24,
   "id": "fb7ba375-ca6d-4fa9-8b02-a047597e058b",
   "metadata": {},
   "outputs": [
    {
     "data": {
      "text/html": [
       "<div>\n",
       "<style scoped>\n",
       "    .dataframe tbody tr th:only-of-type {\n",
       "        vertical-align: middle;\n",
       "    }\n",
       "\n",
       "    .dataframe tbody tr th {\n",
       "        vertical-align: top;\n",
       "    }\n",
       "\n",
       "    .dataframe thead th {\n",
       "        text-align: right;\n",
       "    }\n",
       "</style>\n",
       "<table border=\"1\" class=\"dataframe\">\n",
       "  <thead>\n",
       "    <tr style=\"text-align: right;\">\n",
       "      <th></th>\n",
       "      <th>feature1</th>\n",
       "      <th>feature2</th>\n",
       "      <th>target</th>\n",
       "    </tr>\n",
       "  </thead>\n",
       "  <tbody>\n",
       "    <tr>\n",
       "      <th>0</th>\n",
       "      <td>-0.430734</td>\n",
       "      <td>0.956068</td>\n",
       "      <td>69.279271</td>\n",
       "    </tr>\n",
       "    <tr>\n",
       "      <th>1</th>\n",
       "      <td>-0.020783</td>\n",
       "      <td>-2.260362</td>\n",
       "      <td>-206.099089</td>\n",
       "    </tr>\n",
       "    <tr>\n",
       "      <th>2</th>\n",
       "      <td>0.468307</td>\n",
       "      <td>1.103321</td>\n",
       "      <td>50.132026</td>\n",
       "    </tr>\n",
       "    <tr>\n",
       "      <th>3</th>\n",
       "      <td>0.435760</td>\n",
       "      <td>-2.824830</td>\n",
       "      <td>-246.957040</td>\n",
       "    </tr>\n",
       "    <tr>\n",
       "      <th>4</th>\n",
       "      <td>2.397392</td>\n",
       "      <td>1.199482</td>\n",
       "      <td>115.803431</td>\n",
       "    </tr>\n",
       "  </tbody>\n",
       "</table>\n",
       "</div>"
      ],
      "text/plain": [
       "   feature1  feature2      target\n",
       "0 -0.430734  0.956068   69.279271\n",
       "1 -0.020783 -2.260362 -206.099089\n",
       "2  0.468307  1.103321   50.132026\n",
       "3  0.435760 -2.824830 -246.957040\n",
       "4  2.397392  1.199482  115.803431"
      ]
     },
     "execution_count": 24,
     "metadata": {},
     "output_type": "execute_result"
    }
   ],
   "source": [
    "df.head()"
   ]
  },
  {
   "cell_type": "code",
   "execution_count": 25,
   "id": "a49981f4-8d2f-4edc-bf92-4e30b9324fc4",
   "metadata": {},
   "outputs": [
    {
     "data": {
      "application/vnd.plotly.v1+json": {
       "config": {
        "plotlyServerURL": "https://plot.ly"
       },
       "data": [
        {
         "hovertemplate": "feature1=%{x}<br>feature2=%{y}<br>target=%{z}<extra></extra>",
         "legendgroup": "",
         "marker": {
          "color": "#636efa",
          "symbol": "circle"
         },
         "mode": "markers",
         "name": "",
         "scene": "scene",
         "showlegend": false,
         "type": "scatter3d",
         "x": [
          -0.4307343137776842,
          -0.02078344041084271,
          0.46830659078350684,
          0.4357599257191885,
          2.3973916659318744,
          -0.9631802372405195,
          -1.1982424192861205,
          -0.4499858595733766,
          0.5577180274306712,
          -0.931833675746477,
          -0.5149119922366561,
          -0.01343627594685954,
          0.5572527086879561,
          -0.5390295839187655,
          -0.32865004031126244,
          0.23371990109947754,
          1.5298383184034734,
          0.07420533671668693,
          1.776642565137611,
          0.3846096653106349,
          1.556226951516636,
          0.13538936586985476,
          1.543457683875376,
          -1.2664765324672855,
          2.17776354658065,
          1.1323916381403094,
          -1.0004087836517308,
          0.15162716554845834,
          -0.04056362582771598,
          -0.1445851820380883,
          1.5300370610067724,
          -0.3852551712759338,
          -1.3520108264254413,
          -0.35126354966592427,
          -0.3877846936389349,
          -1.0937775623113208,
          0.301206848994,
          -0.07424776549067041,
          -1.319166181362717,
          0.2936002575106181,
          0.23736895863240068,
          0.2882892201637069,
          0.635774351702729,
          0.0027345748630246973,
          0.8679640583122784,
          -1.5998368944163663,
          1.2451940745603087,
          -1.6192955664156552,
          -0.1377107705443966,
          0.3257013277966175,
          0.4595246254781512,
          -1.677164069393663,
          -0.5208794720057275,
          0.6247916986583082,
          -0.4549960068442446,
          -1.9363721920036032,
          -0.4039631564375606,
          2.1789437554890685,
          1.1163453629634912,
          -0.7312539540204483,
          0.5056826326321423,
          -0.18945907401068363,
          -1.4150662779452523,
          -0.34108605161261,
          1.3157191798326997,
          -0.6298596267997284,
          -0.09393148166039599,
          0.17806588642261353,
          -0.043824505827492796,
          1.7585159183776358,
          1.9171715107980485,
          -1.2417415064970694,
          -0.3999544911688004,
          -0.14488526842444424,
          -0.5585197521825275,
          2.565709486102989,
          -1.1031438766232056,
          0.30587459769896574,
          -0.0913489789067486,
          -0.05292461971768486,
          0.14609052376019913,
          -1.3334708650437594,
          1.800753630609147,
          1.253480961408164,
          0.14239248615926248,
          1.8846505358947023,
          -0.4959759537695206,
          -1.2544731516492937,
          0.28275061714710475,
          -0.32874215646796356,
          -0.20546062222714442,
          0.025460811642345014,
          -0.21670997722041363,
          1.8265411144720165,
          -0.8412511735941293,
          0.8051930077350047,
          0.5828342280234562,
          -1.0622486660580386,
          -1.3257276115705867,
          -0.3497969133647856
         ],
         "y": [
          0.9560681876191011,
          -2.260361862414009,
          1.1033211818818756,
          -2.824829528503685,
          1.199481790142051,
          1.8114984136574095,
          0.023586463671729393,
          -0.02544942353991562,
          0.040235985636997144,
          -0.42449689632676013,
          0.3821677330917565,
          1.1019526979536085,
          -0.8166032540005111,
          -1.096186577044672,
          -1.0113371921795684,
          0.07563562644225671,
          0.21694406339790395,
          1.4125292606579716,
          -0.9884549422943539,
          -0.23715025632787037,
          -0.5506754113205051,
          1.172360898782683,
          -1.2246252203248915,
          -0.319243233342517,
          1.789181809602777,
          -0.4895729204359838,
          0.2706586438346335,
          0.641252558548385,
          0.0051996096926026575,
          0.22175322083448476,
          -2.199283923642862,
          0.3379812923168236,
          -0.24823962777885072,
          -0.3235259183780667,
          -0.21421747637112037,
          -0.6098648716742711,
          1.9433156903569777,
          0.1954843940826453,
          0.3366802436785281,
          -1.4821542503863412,
          -0.9029931388386857,
          -0.5940381129609417,
          0.28186038007908715,
          -1.5013926600420695,
          0.748100254710548,
          0.000398490230121379,
          -0.9015535250372692,
          0.6643733378098126,
          -1.100295017580934,
          -0.5564665622762207,
          0.9986776273538711,
          0.6497455260888352,
          0.6532704101413692,
          -2.2966275567384664,
          -0.34640462396684474,
          -2.0941941892945652,
          -0.47729104421708873,
          0.5312589650151762,
          1.2424160355421907,
          0.6786163324572227,
          0.518696734889028,
          0.731496602236535,
          0.19792232265727475,
          -1.3583320207889882,
          -1.3600852280573976,
          1.5035616902530102,
          0.2843794500533387,
          0.9219034629243278,
          -0.9862452222256045,
          3.201555908755492,
          0.5292009020710166,
          0.19601144190570305,
          -0.7445794993662539,
          0.7008671426415802,
          0.03532981889957388,
          -0.08014059656711811,
          0.5856846164358642,
          -1.3970595583621095,
          0.1584196580880755,
          0.0662919045090424,
          -1.4092813068026149,
          -0.2861357014216675,
          -0.7535858960327317,
          -0.3179706083583993,
          1.6217452874476406,
          -0.766577973965423,
          -1.0805371503752155,
          -0.34531987312868195,
          -0.07676154580835401,
          -1.1942471890156572,
          -0.7002661618764671,
          1.0583226012856135,
          0.5857496230141279,
          0.39946944847867016,
          -0.21889612151823323,
          1.4019156122778709,
          -0.9648228177688699,
          0.3233512129551436,
          -0.18028095242006154,
          0.4318645990734179
         ],
         "z": [
          69.2792707529766,
          -206.09908850688655,
          50.132026096177896,
          -246.95703987469534,
          115.80343145170836,
          61.543359650165655,
          -31.72043834069637,
          -16.558813922511664,
          11.514797685805664,
          -49.588531997295796,
          -125.41022535907672,
          122.04051120217494,
          -63.99295824532896,
          -154.23057365628875,
          -83.57210810340743,
          64.40178187865632,
          69.36999883569842,
          162.12799003618443,
          -56.185664527218165,
          -42.78473943548339,
          42.35941447479705,
          43.91842385824328,
          -31.037913910420208,
          -76.78818006826539,
          161.56464385566906,
          -29.105326252299953,
          -1.1848119536920043,
          69.0691943687344,
          100.9908278984804,
          67.09797900794764,
          -73.56532356939636,
          1.1516314780149202,
          -101.92805384064519,
          -179.94285020580668,
          -41.70188630480053,
          -96.33395887091632,
          164.12207167628225,
          1.3114447111126513,
          -54.50808280507872,
          -98.76324917692484,
          -51.11021589789634,
          -128.53540608377676,
          80.2177568762456,
          -142.04482096309084,
          54.27696729147014,
          -48.19388947139065,
          -27.068024280481666,
          54.4938546009057,
          -84.16384147642984,
          -61.242617608342925,
          56.32786265767982,
          -29.762269729851354,
          47.425620651160656,
          -296.8552593624467,
          -44.945119523224065,
          -151.10296008232302,
          -12.779551596018251,
          112.55187274614609,
          15.851070336669295,
          5.403300576902051,
          20.246618111103402,
          33.316349109836985,
          -52.19960659388826,
          -173.7776007296813,
          -78.9427076359332,
          116.91478950239524,
          82.43277304423034,
          105.02606751969105,
          -62.949668429702534,
          334.3166844381771,
          126.3580807383131,
          -113.91279309925649,
          -69.4608022370485,
          76.47929328071461,
          -7.815945699484879,
          3.0585047688699873,
          -37.044411910389584,
          -101.84011585460401,
          -31.807536206008017,
          -61.59090796179883,
          -74.48507057615649,
          -78.6331211086653,
          29.44325852553839,
          -13.442241538702906,
          140.3879788562526,
          17.790266459058007,
          -165.58821693086065,
          -19.030190016577066,
          39.614501784645746,
          -88.8784769284685,
          -127.24538331469537,
          56.11252013893174,
          25.098266676273553,
          42.57640205447195,
          -93.20579218753103,
          189.17025286522517,
          -31.095191603729212,
          59.69088485008323,
          -59.0515927616174,
          11.495657224175336
         ]
        }
       ],
       "layout": {
        "autosize": true,
        "dragmode": "zoom",
        "legend": {
         "tracegroupgap": 0
        },
        "margin": {
         "t": 60
        },
        "scene": {
         "aspectmode": "auto",
         "aspectratio": {
          "x": 1,
          "y": 1,
          "z": 1
         },
         "camera": {
          "center": {
           "x": 0,
           "y": 0,
           "z": 0
          },
          "eye": {
           "x": 1.9698956933628988,
           "y": 1.9698956933628995,
           "z": 1.9698956933628953
          },
          "projection": {
           "type": "perspective"
          },
          "up": {
           "x": 0,
           "y": 0,
           "z": 1
          }
         },
         "domain": {
          "x": [
           0,
           1
          ],
          "y": [
           0,
           1
          ]
         },
         "dragmode": "turntable",
         "xaxis": {
          "title": {
           "text": "feature1"
          },
          "type": "linear"
         },
         "yaxis": {
          "title": {
           "text": "feature2"
          },
          "type": "linear"
         },
         "zaxis": {
          "title": {
           "text": "target"
          },
          "type": "linear"
         }
        },
        "template": {
         "data": {
          "bar": [
           {
            "error_x": {
             "color": "#2a3f5f"
            },
            "error_y": {
             "color": "#2a3f5f"
            },
            "marker": {
             "line": {
              "color": "#E5ECF6",
              "width": 0.5
             },
             "pattern": {
              "fillmode": "overlay",
              "size": 10,
              "solidity": 0.2
             }
            },
            "type": "bar"
           }
          ],
          "barpolar": [
           {
            "marker": {
             "line": {
              "color": "#E5ECF6",
              "width": 0.5
             },
             "pattern": {
              "fillmode": "overlay",
              "size": 10,
              "solidity": 0.2
             }
            },
            "type": "barpolar"
           }
          ],
          "carpet": [
           {
            "aaxis": {
             "endlinecolor": "#2a3f5f",
             "gridcolor": "white",
             "linecolor": "white",
             "minorgridcolor": "white",
             "startlinecolor": "#2a3f5f"
            },
            "baxis": {
             "endlinecolor": "#2a3f5f",
             "gridcolor": "white",
             "linecolor": "white",
             "minorgridcolor": "white",
             "startlinecolor": "#2a3f5f"
            },
            "type": "carpet"
           }
          ],
          "choropleth": [
           {
            "colorbar": {
             "outlinewidth": 0,
             "ticks": ""
            },
            "type": "choropleth"
           }
          ],
          "contour": [
           {
            "colorbar": {
             "outlinewidth": 0,
             "ticks": ""
            },
            "colorscale": [
             [
              0,
              "#0d0887"
             ],
             [
              0.1111111111111111,
              "#46039f"
             ],
             [
              0.2222222222222222,
              "#7201a8"
             ],
             [
              0.3333333333333333,
              "#9c179e"
             ],
             [
              0.4444444444444444,
              "#bd3786"
             ],
             [
              0.5555555555555556,
              "#d8576b"
             ],
             [
              0.6666666666666666,
              "#ed7953"
             ],
             [
              0.7777777777777778,
              "#fb9f3a"
             ],
             [
              0.8888888888888888,
              "#fdca26"
             ],
             [
              1,
              "#f0f921"
             ]
            ],
            "type": "contour"
           }
          ],
          "contourcarpet": [
           {
            "colorbar": {
             "outlinewidth": 0,
             "ticks": ""
            },
            "type": "contourcarpet"
           }
          ],
          "heatmap": [
           {
            "colorbar": {
             "outlinewidth": 0,
             "ticks": ""
            },
            "colorscale": [
             [
              0,
              "#0d0887"
             ],
             [
              0.1111111111111111,
              "#46039f"
             ],
             [
              0.2222222222222222,
              "#7201a8"
             ],
             [
              0.3333333333333333,
              "#9c179e"
             ],
             [
              0.4444444444444444,
              "#bd3786"
             ],
             [
              0.5555555555555556,
              "#d8576b"
             ],
             [
              0.6666666666666666,
              "#ed7953"
             ],
             [
              0.7777777777777778,
              "#fb9f3a"
             ],
             [
              0.8888888888888888,
              "#fdca26"
             ],
             [
              1,
              "#f0f921"
             ]
            ],
            "type": "heatmap"
           }
          ],
          "heatmapgl": [
           {
            "colorbar": {
             "outlinewidth": 0,
             "ticks": ""
            },
            "colorscale": [
             [
              0,
              "#0d0887"
             ],
             [
              0.1111111111111111,
              "#46039f"
             ],
             [
              0.2222222222222222,
              "#7201a8"
             ],
             [
              0.3333333333333333,
              "#9c179e"
             ],
             [
              0.4444444444444444,
              "#bd3786"
             ],
             [
              0.5555555555555556,
              "#d8576b"
             ],
             [
              0.6666666666666666,
              "#ed7953"
             ],
             [
              0.7777777777777778,
              "#fb9f3a"
             ],
             [
              0.8888888888888888,
              "#fdca26"
             ],
             [
              1,
              "#f0f921"
             ]
            ],
            "type": "heatmapgl"
           }
          ],
          "histogram": [
           {
            "marker": {
             "pattern": {
              "fillmode": "overlay",
              "size": 10,
              "solidity": 0.2
             }
            },
            "type": "histogram"
           }
          ],
          "histogram2d": [
           {
            "colorbar": {
             "outlinewidth": 0,
             "ticks": ""
            },
            "colorscale": [
             [
              0,
              "#0d0887"
             ],
             [
              0.1111111111111111,
              "#46039f"
             ],
             [
              0.2222222222222222,
              "#7201a8"
             ],
             [
              0.3333333333333333,
              "#9c179e"
             ],
             [
              0.4444444444444444,
              "#bd3786"
             ],
             [
              0.5555555555555556,
              "#d8576b"
             ],
             [
              0.6666666666666666,
              "#ed7953"
             ],
             [
              0.7777777777777778,
              "#fb9f3a"
             ],
             [
              0.8888888888888888,
              "#fdca26"
             ],
             [
              1,
              "#f0f921"
             ]
            ],
            "type": "histogram2d"
           }
          ],
          "histogram2dcontour": [
           {
            "colorbar": {
             "outlinewidth": 0,
             "ticks": ""
            },
            "colorscale": [
             [
              0,
              "#0d0887"
             ],
             [
              0.1111111111111111,
              "#46039f"
             ],
             [
              0.2222222222222222,
              "#7201a8"
             ],
             [
              0.3333333333333333,
              "#9c179e"
             ],
             [
              0.4444444444444444,
              "#bd3786"
             ],
             [
              0.5555555555555556,
              "#d8576b"
             ],
             [
              0.6666666666666666,
              "#ed7953"
             ],
             [
              0.7777777777777778,
              "#fb9f3a"
             ],
             [
              0.8888888888888888,
              "#fdca26"
             ],
             [
              1,
              "#f0f921"
             ]
            ],
            "type": "histogram2dcontour"
           }
          ],
          "mesh3d": [
           {
            "colorbar": {
             "outlinewidth": 0,
             "ticks": ""
            },
            "type": "mesh3d"
           }
          ],
          "parcoords": [
           {
            "line": {
             "colorbar": {
              "outlinewidth": 0,
              "ticks": ""
             }
            },
            "type": "parcoords"
           }
          ],
          "pie": [
           {
            "automargin": true,
            "type": "pie"
           }
          ],
          "scatter": [
           {
            "fillpattern": {
             "fillmode": "overlay",
             "size": 10,
             "solidity": 0.2
            },
            "type": "scatter"
           }
          ],
          "scatter3d": [
           {
            "line": {
             "colorbar": {
              "outlinewidth": 0,
              "ticks": ""
             }
            },
            "marker": {
             "colorbar": {
              "outlinewidth": 0,
              "ticks": ""
             }
            },
            "type": "scatter3d"
           }
          ],
          "scattercarpet": [
           {
            "marker": {
             "colorbar": {
              "outlinewidth": 0,
              "ticks": ""
             }
            },
            "type": "scattercarpet"
           }
          ],
          "scattergeo": [
           {
            "marker": {
             "colorbar": {
              "outlinewidth": 0,
              "ticks": ""
             }
            },
            "type": "scattergeo"
           }
          ],
          "scattergl": [
           {
            "marker": {
             "colorbar": {
              "outlinewidth": 0,
              "ticks": ""
             }
            },
            "type": "scattergl"
           }
          ],
          "scattermapbox": [
           {
            "marker": {
             "colorbar": {
              "outlinewidth": 0,
              "ticks": ""
             }
            },
            "type": "scattermapbox"
           }
          ],
          "scatterpolar": [
           {
            "marker": {
             "colorbar": {
              "outlinewidth": 0,
              "ticks": ""
             }
            },
            "type": "scatterpolar"
           }
          ],
          "scatterpolargl": [
           {
            "marker": {
             "colorbar": {
              "outlinewidth": 0,
              "ticks": ""
             }
            },
            "type": "scatterpolargl"
           }
          ],
          "scatterternary": [
           {
            "marker": {
             "colorbar": {
              "outlinewidth": 0,
              "ticks": ""
             }
            },
            "type": "scatterternary"
           }
          ],
          "surface": [
           {
            "colorbar": {
             "outlinewidth": 0,
             "ticks": ""
            },
            "colorscale": [
             [
              0,
              "#0d0887"
             ],
             [
              0.1111111111111111,
              "#46039f"
             ],
             [
              0.2222222222222222,
              "#7201a8"
             ],
             [
              0.3333333333333333,
              "#9c179e"
             ],
             [
              0.4444444444444444,
              "#bd3786"
             ],
             [
              0.5555555555555556,
              "#d8576b"
             ],
             [
              0.6666666666666666,
              "#ed7953"
             ],
             [
              0.7777777777777778,
              "#fb9f3a"
             ],
             [
              0.8888888888888888,
              "#fdca26"
             ],
             [
              1,
              "#f0f921"
             ]
            ],
            "type": "surface"
           }
          ],
          "table": [
           {
            "cells": {
             "fill": {
              "color": "#EBF0F8"
             },
             "line": {
              "color": "white"
             }
            },
            "header": {
             "fill": {
              "color": "#C8D4E3"
             },
             "line": {
              "color": "white"
             }
            },
            "type": "table"
           }
          ]
         },
         "layout": {
          "annotationdefaults": {
           "arrowcolor": "#2a3f5f",
           "arrowhead": 0,
           "arrowwidth": 1
          },
          "autotypenumbers": "strict",
          "coloraxis": {
           "colorbar": {
            "outlinewidth": 0,
            "ticks": ""
           }
          },
          "colorscale": {
           "diverging": [
            [
             0,
             "#8e0152"
            ],
            [
             0.1,
             "#c51b7d"
            ],
            [
             0.2,
             "#de77ae"
            ],
            [
             0.3,
             "#f1b6da"
            ],
            [
             0.4,
             "#fde0ef"
            ],
            [
             0.5,
             "#f7f7f7"
            ],
            [
             0.6,
             "#e6f5d0"
            ],
            [
             0.7,
             "#b8e186"
            ],
            [
             0.8,
             "#7fbc41"
            ],
            [
             0.9,
             "#4d9221"
            ],
            [
             1,
             "#276419"
            ]
           ],
           "sequential": [
            [
             0,
             "#0d0887"
            ],
            [
             0.1111111111111111,
             "#46039f"
            ],
            [
             0.2222222222222222,
             "#7201a8"
            ],
            [
             0.3333333333333333,
             "#9c179e"
            ],
            [
             0.4444444444444444,
             "#bd3786"
            ],
            [
             0.5555555555555556,
             "#d8576b"
            ],
            [
             0.6666666666666666,
             "#ed7953"
            ],
            [
             0.7777777777777778,
             "#fb9f3a"
            ],
            [
             0.8888888888888888,
             "#fdca26"
            ],
            [
             1,
             "#f0f921"
            ]
           ],
           "sequentialminus": [
            [
             0,
             "#0d0887"
            ],
            [
             0.1111111111111111,
             "#46039f"
            ],
            [
             0.2222222222222222,
             "#7201a8"
            ],
            [
             0.3333333333333333,
             "#9c179e"
            ],
            [
             0.4444444444444444,
             "#bd3786"
            ],
            [
             0.5555555555555556,
             "#d8576b"
            ],
            [
             0.6666666666666666,
             "#ed7953"
            ],
            [
             0.7777777777777778,
             "#fb9f3a"
            ],
            [
             0.8888888888888888,
             "#fdca26"
            ],
            [
             1,
             "#f0f921"
            ]
           ]
          },
          "colorway": [
           "#636efa",
           "#EF553B",
           "#00cc96",
           "#ab63fa",
           "#FFA15A",
           "#19d3f3",
           "#FF6692",
           "#B6E880",
           "#FF97FF",
           "#FECB52"
          ],
          "font": {
           "color": "#2a3f5f"
          },
          "geo": {
           "bgcolor": "white",
           "lakecolor": "white",
           "landcolor": "#E5ECF6",
           "showlakes": true,
           "showland": true,
           "subunitcolor": "white"
          },
          "hoverlabel": {
           "align": "left"
          },
          "hovermode": "closest",
          "mapbox": {
           "style": "light"
          },
          "paper_bgcolor": "white",
          "plot_bgcolor": "#E5ECF6",
          "polar": {
           "angularaxis": {
            "gridcolor": "white",
            "linecolor": "white",
            "ticks": ""
           },
           "bgcolor": "#E5ECF6",
           "radialaxis": {
            "gridcolor": "white",
            "linecolor": "white",
            "ticks": ""
           }
          },
          "scene": {
           "xaxis": {
            "backgroundcolor": "#E5ECF6",
            "gridcolor": "white",
            "gridwidth": 2,
            "linecolor": "white",
            "showbackground": true,
            "ticks": "",
            "zerolinecolor": "white"
           },
           "yaxis": {
            "backgroundcolor": "#E5ECF6",
            "gridcolor": "white",
            "gridwidth": 2,
            "linecolor": "white",
            "showbackground": true,
            "ticks": "",
            "zerolinecolor": "white"
           },
           "zaxis": {
            "backgroundcolor": "#E5ECF6",
            "gridcolor": "white",
            "gridwidth": 2,
            "linecolor": "white",
            "showbackground": true,
            "ticks": "",
            "zerolinecolor": "white"
           }
          },
          "shapedefaults": {
           "line": {
            "color": "#2a3f5f"
           }
          },
          "ternary": {
           "aaxis": {
            "gridcolor": "white",
            "linecolor": "white",
            "ticks": ""
           },
           "baxis": {
            "gridcolor": "white",
            "linecolor": "white",
            "ticks": ""
           },
           "bgcolor": "#E5ECF6",
           "caxis": {
            "gridcolor": "white",
            "linecolor": "white",
            "ticks": ""
           }
          },
          "title": {
           "x": 0.05
          },
          "xaxis": {
           "automargin": true,
           "gridcolor": "white",
           "linecolor": "white",
           "ticks": "",
           "title": {
            "standoff": 15
           },
           "zerolinecolor": "white",
           "zerolinewidth": 2
          },
          "yaxis": {
           "automargin": true,
           "gridcolor": "white",
           "linecolor": "white",
           "ticks": "",
           "title": {
            "standoff": 15
           },
           "zerolinecolor": "white",
           "zerolinewidth": 2
          }
         }
        }
       }
      },
      "image/png": "[encoded data removed]",
      "text/html": [
       "<div>                            <div id=\"2f272b48-ac84-4a1b-bf61-fcbbcb71ea92\" class=\"plotly-graph-div\" style=\"height:525px; width:100%;\"></div>            <script type=\"text/javascript\">                require([\"plotly\"], function(Plotly) {                    window.PLOTLYENV=window.PLOTLYENV || {};                                    if (document.getElementById(\"2f272b48-ac84-4a1b-bf61-fcbbcb71ea92\")) {                    Plotly.newPlot(                        \"2f272b48-ac84-4a1b-bf61-fcbbcb71ea92\",                        [{\"hovertemplate\":\"feature1=%{x}<br>feature2=%{y}<br>target=%{z}<extra></extra>\",\"legendgroup\":\"\",\"marker\":{\"color\":\"#636efa\",\"symbol\":\"circle\"},\"mode\":\"markers\",\"name\":\"\",\"scene\":\"scene\",\"showlegend\":false,\"x\":[-0.4307343137776842,-0.02078344041084271,0.46830659078350684,0.4357599257191885,2.3973916659318744,-0.9631802372405195,-1.1982424192861205,-0.4499858595733766,0.5577180274306712,-0.931833675746477,-0.5149119922366561,-0.01343627594685954,0.5572527086879561,-0.5390295839187655,-0.32865004031126244,0.23371990109947754,1.5298383184034734,0.07420533671668693,1.776642565137611,0.3846096653106349,1.556226951516636,0.13538936586985476,1.543457683875376,-1.2664765324672855,2.17776354658065,1.1323916381403094,-1.0004087836517308,0.15162716554845834,-0.04056362582771598,-0.1445851820380883,1.5300370610067724,-0.3852551712759338,-1.3520108264254413,-0.35126354966592427,-0.3877846936389349,-1.0937775623113208,0.301206848994,-0.07424776549067041,-1.319166181362717,0.2936002575106181,0.23736895863240068,0.2882892201637069,0.635774351702729,0.0027345748630246973,0.8679640583122784,-1.5998368944163663,1.2451940745603087,-1.6192955664156552,-0.1377107705443966,0.3257013277966175,0.4595246254781512,-1.677164069393663,-0.5208794720057275,0.6247916986583082,-0.4549960068442446,-1.9363721920036032,-0.4039631564375606,2.1789437554890685,1.1163453629634912,-0.7312539540204483,0.5056826326321423,-0.18945907401068363,-1.4150662779452523,-0.34108605161261,1.3157191798326997,-0.6298596267997284,-0.09393148166039599,0.17806588642261353,-0.043824505827492796,1.7585159183776358,1.9171715107980485,-1.2417415064970694,-0.3999544911688004,-0.14488526842444424,-0.5585197521825275,2.565709486102989,-1.1031438766232056,0.30587459769896574,-0.0913489789067486,-0.05292461971768486,0.14609052376019913,-1.3334708650437594,1.800753630609147,1.253480961408164,0.14239248615926248,1.8846505358947023,-0.4959759537695206,-1.2544731516492937,0.28275061714710475,-0.32874215646796356,-0.20546062222714442,0.025460811642345014,-0.21670997722041363,1.8265411144720165,-0.8412511735941293,0.8051930077350047,0.5828342280234562,-1.0622486660580386,-1.3257276115705867,-0.3497969133647856],\"y\":[0.9560681876191011,-2.260361862414009,1.1033211818818756,-2.824829528503685,1.199481790142051,1.8114984136574095,0.023586463671729393,-0.02544942353991562,0.040235985636997144,-0.42449689632676013,0.3821677330917565,1.1019526979536085,-0.8166032540005111,-1.096186577044672,-1.0113371921795684,0.07563562644225671,0.21694406339790395,1.4125292606579716,-0.9884549422943539,-0.23715025632787037,-0.5506754113205051,1.172360898782683,-1.2246252203248915,-0.319243233342517,1.789181809602777,-0.4895729204359838,0.2706586438346335,0.641252558548385,0.0051996096926026575,0.22175322083448476,-2.199283923642862,0.3379812923168236,-0.24823962777885072,-0.3235259183780667,-0.21421747637112037,-0.6098648716742711,1.9433156903569777,0.1954843940826453,0.3366802436785281,-1.4821542503863412,-0.9029931388386857,-0.5940381129609417,0.28186038007908715,-1.5013926600420695,0.748100254710548,0.000398490230121379,-0.9015535250372692,0.6643733378098126,-1.100295017580934,-0.5564665622762207,0.9986776273538711,0.6497455260888352,0.6532704101413692,-2.2966275567384664,-0.34640462396684474,-2.0941941892945652,-0.47729104421708873,0.5312589650151762,1.2424160355421907,0.6786163324572227,0.518696734889028,0.731496602236535,0.19792232265727475,-1.3583320207889882,-1.3600852280573976,1.5035616902530102,0.2843794500533387,0.9219034629243278,-0.9862452222256045,3.201555908755492,0.5292009020710166,0.19601144190570305,-0.7445794993662539,0.7008671426415802,0.03532981889957388,-0.08014059656711811,0.5856846164358642,-1.3970595583621095,0.1584196580880755,0.0662919045090424,-1.4092813068026149,-0.2861357014216675,-0.7535858960327317,-0.3179706083583993,1.6217452874476406,-0.766577973965423,-1.0805371503752155,-0.34531987312868195,-0.07676154580835401,-1.1942471890156572,-0.7002661618764671,1.0583226012856135,0.5857496230141279,0.39946944847867016,-0.21889612151823323,1.4019156122778709,-0.9648228177688699,0.3233512129551436,-0.18028095242006154,0.4318645990734179],\"z\":[69.2792707529766,-206.09908850688655,50.132026096177896,-246.95703987469534,115.80343145170836,61.543359650165655,-31.72043834069637,-16.558813922511664,11.514797685805664,-49.588531997295796,-125.41022535907672,122.04051120217494,-63.99295824532896,-154.23057365628875,-83.57210810340743,64.40178187865632,69.36999883569842,162.12799003618443,-56.185664527218165,-42.78473943548339,42.35941447479705,43.91842385824328,-31.037913910420208,-76.78818006826539,161.56464385566906,-29.105326252299953,-1.1848119536920043,69.0691943687344,100.9908278984804,67.09797900794764,-73.56532356939636,1.1516314780149202,-101.92805384064519,-179.94285020580668,-41.70188630480053,-96.33395887091632,164.12207167628225,1.3114447111126513,-54.50808280507872,-98.76324917692484,-51.11021589789634,-128.53540608377676,80.2177568762456,-142.04482096309084,54.27696729147014,-48.19388947139065,-27.068024280481666,54.4938546009057,-84.16384147642984,-61.242617608342925,56.32786265767982,-29.762269729851354,47.425620651160656,-296.8552593624467,-44.945119523224065,-151.10296008232302,-12.779551596018251,112.55187274614609,15.851070336669295,5.403300576902051,20.246618111103402,33.316349109836985,-52.19960659388826,-173.7776007296813,-78.9427076359332,116.91478950239524,82.43277304423034,105.02606751969105,-62.949668429702534,334.3166844381771,126.3580807383131,-113.91279309925649,-69.4608022370485,76.47929328071461,-7.815945699484879,3.0585047688699873,-37.044411910389584,-101.84011585460401,-31.807536206008017,-61.59090796179883,-74.48507057615649,-78.6331211086653,29.44325852553839,-13.442241538702906,140.3879788562526,17.790266459058007,-165.58821693086065,-19.030190016577066,39.614501784645746,-88.8784769284685,-127.24538331469537,56.11252013893174,25.098266676273553,42.57640205447195,-93.20579218753103,189.17025286522517,-31.095191603729212,59.69088485008323,-59.0515927616174,11.495657224175336],\"type\":\"scatter3d\"}],                        {\"template\":{\"data\":{\"histogram2dcontour\":[{\"type\":\"histogram2dcontour\",\"colorbar\":{\"outlinewidth\":0,\"ticks\":\"\"},\"colorscale\":[[0.0,\"#0d0887\"],[0.1111111111111111,\"#46039f\"],[0.2222222222222222,\"#7201a8\"],[0.3333333333333333,\"#9c179e\"],[0.4444444444444444,\"#bd3786\"],[0.5555555555555556,\"#d8576b\"],[0.6666666666666666,\"#ed7953\"],[0.7777777777777778,\"#fb9f3a\"],[0.8888888888888888,\"#fdca26\"],[1.0,\"#f0f921\"]]}],\"choropleth\":[{\"type\":\"choropleth\",\"colorbar\":{\"outlinewidth\":0,\"ticks\":\"\"}}],\"histogram2d\":[{\"type\":\"histogram2d\",\"colorbar\":{\"outlinewidth\":0,\"ticks\":\"\"},\"colorscale\":[[0.0,\"#0d0887\"],[0.1111111111111111,\"#46039f\"],[0.2222222222222222,\"#7201a8\"],[0.3333333333333333,\"#9c179e\"],[0.4444444444444444,\"#bd3786\"],[0.5555555555555556,\"#d8576b\"],[0.6666666666666666,\"#ed7953\"],[0.7777777777777778,\"#fb9f3a\"],[0.8888888888888888,\"#fdca26\"],[1.0,\"#f0f921\"]]}],\"heatmap\":[{\"type\":\"heatmap\",\"colorbar\":{\"outlinewidth\":0,\"ticks\":\"\"},\"colorscale\":[[0.0,\"#0d0887\"],[0.1111111111111111,\"#46039f\"],[0.2222222222222222,\"#7201a8\"],[0.3333333333333333,\"#9c179e\"],[0.4444444444444444,\"#bd3786\"],[0.5555555555555556,\"#d8576b\"],[0.6666666666666666,\"#ed7953\"],[0.7777777777777778,\"#fb9f3a\"],[0.8888888888888888,\"#fdca26\"],[1.0,\"#f0f921\"]]}],\"heatmapgl\":[{\"type\":\"heatmapgl\",\"colorbar\":{\"outlinewidth\":0,\"ticks\":\"\"},\"colorscale\":[[0.0,\"#0d0887\"],[0.1111111111111111,\"#46039f\"],[0.2222222222222222,\"#7201a8\"],[0.3333333333333333,\"#9c179e\"],[0.4444444444444444,\"#bd3786\"],[0.5555555555555556,\"#d8576b\"],[0.6666666666666666,\"#ed7953\"],[0.7777777777777778,\"#fb9f3a\"],[0.8888888888888888,\"#fdca26\"],[1.0,\"#f0f921\"]]}],\"contourcarpet\":[{\"type\":\"contourcarpet\",\"colorbar\":{\"outlinewidth\":0,\"ticks\":\"\"}}],\"contour\":[{\"type\":\"contour\",\"colorbar\":{\"outlinewidth\":0,\"ticks\":\"\"},\"colorscale\":[[0.0,\"#0d0887\"],[0.1111111111111111,\"#46039f\"],[0.2222222222222222,\"#7201a8\"],[0.3333333333333333,\"#9c179e\"],[0.4444444444444444,\"#bd3786\"],[0.5555555555555556,\"#d8576b\"],[0.6666666666666666,\"#ed7953\"],[0.7777777777777778,\"#fb9f3a\"],[0.8888888888888888,\"#fdca26\"],[1.0,\"#f0f921\"]]}],\"surface\":[{\"type\":\"surface\",\"colorbar\":{\"outlinewidth\":0,\"ticks\":\"\"},\"colorscale\":[[0.0,\"#0d0887\"],[0.1111111111111111,\"#46039f\"],[0.2222222222222222,\"#7201a8\"],[0.3333333333333333,\"#9c179e\"],[0.4444444444444444,\"#bd3786\"],[0.5555555555555556,\"#d8576b\"],[0.6666666666666666,\"#ed7953\"],[0.7777777777777778,\"#fb9f3a\"],[0.8888888888888888,\"#fdca26\"],[1.0,\"#f0f921\"]]}],\"mesh3d\":[{\"type\":\"mesh3d\",\"colorbar\":{\"outlinewidth\":0,\"ticks\":\"\"}}],\"scatter\":[{\"fillpattern\":{\"fillmode\":\"overlay\",\"size\":10,\"solidity\":0.2},\"type\":\"scatter\"}],\"parcoords\":[{\"type\":\"parcoords\",\"line\":{\"colorbar\":{\"outlinewidth\":0,\"ticks\":\"\"}}}],\"scatterpolargl\":[{\"type\":\"scatterpolargl\",\"marker\":{\"colorbar\":{\"outlinewidth\":0,\"ticks\":\"\"}}}],\"bar\":[{\"error_x\":{\"color\":\"#2a3f5f\"},\"error_y\":{\"color\":\"#2a3f5f\"},\"marker\":{\"line\":{\"color\":\"#E5ECF6\",\"width\":0.5},\"pattern\":{\"fillmode\":\"overlay\",\"size\":10,\"solidity\":0.2}},\"type\":\"bar\"}],\"scattergeo\":[{\"type\":\"scattergeo\",\"marker\":{\"colorbar\":{\"outlinewidth\":0,\"ticks\":\"\"}}}],\"scatterpolar\":[{\"type\":\"scatterpolar\",\"marker\":{\"colorbar\":{\"outlinewidth\":0,\"ticks\":\"\"}}}],\"histogram\":[{\"marker\":{\"pattern\":{\"fillmode\":\"overlay\",\"size\":10,\"solidity\":0.2}},\"type\":\"histogram\"}],\"scattergl\":[{\"type\":\"scattergl\",\"marker\":{\"colorbar\":{\"outlinewidth\":0,\"ticks\":\"\"}}}],\"scatter3d\":[{\"type\":\"scatter3d\",\"line\":{\"colorbar\":{\"outlinewidth\":0,\"ticks\":\"\"}},\"marker\":{\"colorbar\":{\"outlinewidth\":0,\"ticks\":\"\"}}}],\"scattermapbox\":[{\"type\":\"scattermapbox\",\"marker\":{\"colorbar\":{\"outlinewidth\":0,\"ticks\":\"\"}}}],\"scatterternary\":[{\"type\":\"scatterternary\",\"marker\":{\"colorbar\":{\"outlinewidth\":0,\"ticks\":\"\"}}}],\"scattercarpet\":[{\"type\":\"scattercarpet\",\"marker\":{\"colorbar\":{\"outlinewidth\":0,\"ticks\":\"\"}}}],\"carpet\":[{\"aaxis\":{\"endlinecolor\":\"#2a3f5f\",\"gridcolor\":\"white\",\"linecolor\":\"white\",\"minorgridcolor\":\"white\",\"startlinecolor\":\"#2a3f5f\"},\"baxis\":{\"endlinecolor\":\"#2a3f5f\",\"gridcolor\":\"white\",\"linecolor\":\"white\",\"minorgridcolor\":\"white\",\"startlinecolor\":\"#2a3f5f\"},\"type\":\"carpet\"}],\"table\":[{\"cells\":{\"fill\":{\"color\":\"#EBF0F8\"},\"line\":{\"color\":\"white\"}},\"header\":{\"fill\":{\"color\":\"#C8D4E3\"},\"line\":{\"color\":\"white\"}},\"type\":\"table\"}],\"barpolar\":[{\"marker\":{\"line\":{\"color\":\"#E5ECF6\",\"width\":0.5},\"pattern\":{\"fillmode\":\"overlay\",\"size\":10,\"solidity\":0.2}},\"type\":\"barpolar\"}],\"pie\":[{\"automargin\":true,\"type\":\"pie\"}]},\"layout\":{\"autotypenumbers\":\"strict\",\"colorway\":[\"#636efa\",\"#EF553B\",\"#00cc96\",\"#ab63fa\",\"#FFA15A\",\"#19d3f3\",\"#FF6692\",\"#B6E880\",\"#FF97FF\",\"#FECB52\"],\"font\":{\"color\":\"#2a3f5f\"},\"hovermode\":\"closest\",\"hoverlabel\":{\"align\":\"left\"},\"paper_bgcolor\":\"white\",\"plot_bgcolor\":\"#E5ECF6\",\"polar\":{\"bgcolor\":\"#E5ECF6\",\"angularaxis\":{\"gridcolor\":\"white\",\"linecolor\":\"white\",\"ticks\":\"\"},\"radialaxis\":{\"gridcolor\":\"white\",\"linecolor\":\"white\",\"ticks\":\"\"}},\"ternary\":{\"bgcolor\":\"#E5ECF6\",\"aaxis\":{\"gridcolor\":\"white\",\"linecolor\":\"white\",\"ticks\":\"\"},\"baxis\":{\"gridcolor\":\"white\",\"linecolor\":\"white\",\"ticks\":\"\"},\"caxis\":{\"gridcolor\":\"white\",\"linecolor\":\"white\",\"ticks\":\"\"}},\"coloraxis\":{\"colorbar\":{\"outlinewidth\":0,\"ticks\":\"\"}},\"colorscale\":{\"sequential\":[[0.0,\"#0d0887\"],[0.1111111111111111,\"#46039f\"],[0.2222222222222222,\"#7201a8\"],[0.3333333333333333,\"#9c179e\"],[0.4444444444444444,\"#bd3786\"],[0.5555555555555556,\"#d8576b\"],[0.6666666666666666,\"#ed7953\"],[0.7777777777777778,\"#fb9f3a\"],[0.8888888888888888,\"#fdca26\"],[1.0,\"#f0f921\"]],\"sequentialminus\":[[0.0,\"#0d0887\"],[0.1111111111111111,\"#46039f\"],[0.2222222222222222,\"#7201a8\"],[0.3333333333333333,\"#9c179e\"],[0.4444444444444444,\"#bd3786\"],[0.5555555555555556,\"#d8576b\"],[0.6666666666666666,\"#ed7953\"],[0.7777777777777778,\"#fb9f3a\"],[0.8888888888888888,\"#fdca26\"],[1.0,\"#f0f921\"]],\"diverging\":[[0,\"#8e0152\"],[0.1,\"#c51b7d\"],[0.2,\"#de77ae\"],[0.3,\"#f1b6da\"],[0.4,\"#fde0ef\"],[0.5,\"#f7f7f7\"],[0.6,\"#e6f5d0\"],[0.7,\"#b8e186\"],[0.8,\"#7fbc41\"],[0.9,\"#4d9221\"],[1,\"#276419\"]]},\"xaxis\":{\"gridcolor\":\"white\",\"linecolor\":\"white\",\"ticks\":\"\",\"title\":{\"standoff\":15},\"zerolinecolor\":\"white\",\"automargin\":true,\"zerolinewidth\":2},\"yaxis\":{\"gridcolor\":\"white\",\"linecolor\":\"white\",\"ticks\":\"\",\"title\":{\"standoff\":15},\"zerolinecolor\":\"white\",\"automargin\":true,\"zerolinewidth\":2},\"scene\":{\"xaxis\":{\"backgroundcolor\":\"#E5ECF6\",\"gridcolor\":\"white\",\"linecolor\":\"white\",\"showbackground\":true,\"ticks\":\"\",\"zerolinecolor\":\"white\",\"gridwidth\":2},\"yaxis\":{\"backgroundcolor\":\"#E5ECF6\",\"gridcolor\":\"white\",\"linecolor\":\"white\",\"showbackground\":true,\"ticks\":\"\",\"zerolinecolor\":\"white\",\"gridwidth\":2},\"zaxis\":{\"backgroundcolor\":\"#E5ECF6\",\"gridcolor\":\"white\",\"linecolor\":\"white\",\"showbackground\":true,\"ticks\":\"\",\"zerolinecolor\":\"white\",\"gridwidth\":2}},\"shapedefaults\":{\"line\":{\"color\":\"#2a3f5f\"}},\"annotationdefaults\":{\"arrowcolor\":\"#2a3f5f\",\"arrowhead\":0,\"arrowwidth\":1},\"geo\":{\"bgcolor\":\"white\",\"landcolor\":\"#E5ECF6\",\"subunitcolor\":\"white\",\"showland\":true,\"showlakes\":true,\"lakecolor\":\"white\"},\"title\":{\"x\":0.05},\"mapbox\":{\"style\":\"light\"}}},\"scene\":{\"domain\":{\"x\":[0.0,1.0],\"y\":[0.0,1.0]},\"xaxis\":{\"title\":{\"text\":\"feature1\"}},\"yaxis\":{\"title\":{\"text\":\"feature2\"}},\"zaxis\":{\"title\":{\"text\":\"target\"}}},\"legend\":{\"tracegroupgap\":0},\"margin\":{\"t\":60}},                        {\"responsive\": true}                    ).then(function(){\n",
       "                            \n",
       "var gd = document.getElementById('2f272b48-ac84-4a1b-bf61-fcbbcb71ea92');\n",
       "var x = new MutationObserver(function (mutations, observer) {{\n",
       "        var display = window.getComputedStyle(gd).display;\n",
       "        if (!display || display === 'none') {{\n",
       "            console.log([gd, 'removed!']);\n",
       "            Plotly.purge(gd);\n",
       "            observer.disconnect();\n",
       "        }}\n",
       "}});\n",
       "\n",
       "// Listen for the removal of the full notebook cells\n",
       "var notebookContainer = gd.closest('#notebook-container');\n",
       "if (notebookContainer) {{\n",
       "    x.observe(notebookContainer, {childList: true});\n",
       "}}\n",
       "\n",
       "// Listen for the clearing of the current output cell\n",
       "var outputEl = gd.closest('.output');\n",
       "if (outputEl) {{\n",
       "    x.observe(outputEl, {childList: true});\n",
       "}}\n",
       "\n",
       "                        })                };                });            </script>        </div>"
      ]
     },
     "metadata": {},
     "output_type": "display_data"
    }
   ],
   "source": [
    "fig=px.scatter_3d(df,x='feature1',y='feature2',z='target')\n",
    "fig.show()"
   ]
  },
  {
   "cell_type": "code",
   "execution_count": 27,
   "id": "8d156a7e-3af5-44e7-8806-3e40b44c15ae",
   "metadata": {},
   "outputs": [
    {
     "data": {
      "text/plain": [
       "<Axes: xlabel='feature1', ylabel='target'>"
      ]
     },
     "execution_count": 27,
     "metadata": {},
     "output_type": "execute_result"
    },
    {
     "data": {
      "image/png": "[encoded data removed]",
      "text/plain": [
       "<Figure size 640x480 with 1 Axes>"
      ]
     },
     "metadata": {},
     "output_type": "display_data"
    }
   ],
   "source": [
    "import seaborn as sns\n",
    "sns.scatterplot(data=df,x='feature1',y='target')"
   ]
  },
  {
   "cell_type": "code",
   "execution_count": 28,
   "id": "1acbb841-f6ae-4a14-9f14-bc53fe585239",
   "metadata": {},
   "outputs": [],
   "source": [
    "# drowthe sheet on it"
   ]
  },
  {
   "cell_type": "code",
   "execution_count": 29,
   "id": "83943735-8b36-4ea8-baaa-c2883b6d8b9b",
   "metadata": {},
   "outputs": [],
   "source": [
    "from sklearn.model_selection import train_test_split"
   ]
  },
  {
   "cell_type": "code",
   "execution_count": 31,
   "id": "27eec7f2-370f-4592-85a1-a00b81f140e5",
   "metadata": {},
   "outputs": [],
   "source": [
    "x_train,x_test,y_train,y_test=train_test_split(x,y,test_size=0.2,random_state=42)"
   ]
  },
  {
   "cell_type": "code",
   "execution_count": 32,
   "id": "575dcb6a-76b2-4a17-968e-675d2fdcfe97",
   "metadata": {},
   "outputs": [],
   "source": [
    "from sklearn.linear_model import LinearRegression\n",
    "lr=LinearRegression()"
   ]
  },
  {
   "cell_type": "code",
   "execution_count": 33,
   "id": "840c0b2f-31ce-4950-9237-20730e0cd0d3",
   "metadata": {},
   "outputs": [
    {
     "data": {
      "text/html": [
       "<style>#sk-container-id-1 {color: black;background-color: white;}#sk-container-id-1 pre{padding: 0;}#sk-container-id-1 div.sk-toggleable {background-color: white;}#sk-container-id-1 label.sk-toggleable__label {cursor: pointer;display: block;width: 100%;margin-bottom: 0;padding: 0.3em;box-sizing: border-box;text-align: center;}#sk-container-id-1 label.sk-toggleable__label-arrow:before {content: \"▸\";float: left;margin-right: 0.25em;color: #696969;}#sk-container-id-1 label.sk-toggleable__label-arrow:hover:before {color: black;}#sk-container-id-1 div.sk-estimator:hover label.sk-toggleable__label-arrow:before {color: black;}#sk-container-id-1 div.sk-toggleable__content {max-height: 0;max-width: 0;overflow: hidden;text-align: left;background-color: #f0f8ff;}#sk-container-id-1 div.sk-toggleable__content pre {margin: 0.2em;color: black;border-radius: 0.25em;background-color: #f0f8ff;}#sk-container-id-1 input.sk-toggleable__control:checked~div.sk-toggleable__content {max-height: 200px;max-width: 100%;overflow: auto;}#sk-container-id-1 input.sk-toggleable__control:checked~label.sk-toggleable__label-arrow:before {content: \"▾\";}#sk-container-id-1 div.sk-estimator input.sk-toggleable__control:checked~label.sk-toggleable__label {background-color: #d4ebff;}#sk-container-id-1 div.sk-label input.sk-toggleable__control:checked~label.sk-toggleable__label {background-color: #d4ebff;}#sk-container-id-1 input.sk-hidden--visually {border: 0;clip: rect(1px 1px 1px 1px);clip: rect(1px, 1px, 1px, 1px);height: 1px;margin: -1px;overflow: hidden;padding: 0;position: absolute;width: 1px;}#sk-container-id-1 div.sk-estimator {font-family: monospace;background-color: #f0f8ff;border: 1px dotted black;border-radius: 0.25em;box-sizing: border-box;margin-bottom: 0.5em;}#sk-container-id-1 div.sk-estimator:hover {background-color: #d4ebff;}#sk-container-id-1 div.sk-parallel-item::after {content: \"\";width: 100%;border-bottom: 1px solid gray;flex-grow: 1;}#sk-container-id-1 div.sk-label:hover label.sk-toggleable__label {background-color: #d4ebff;}#sk-container-id-1 div.sk-serial::before {content: \"\";position: absolute;border-left: 1px solid gray;box-sizing: border-box;top: 0;bottom: 0;left: 50%;z-index: 0;}#sk-container-id-1 div.sk-serial {display: flex;flex-direction: column;align-items: center;background-color: white;padding-right: 0.2em;padding-left: 0.2em;position: relative;}#sk-container-id-1 div.sk-item {position: relative;z-index: 1;}#sk-container-id-1 div.sk-parallel {display: flex;align-items: stretch;justify-content: center;background-color: white;position: relative;}#sk-container-id-1 div.sk-item::before, #sk-container-id-1 div.sk-parallel-item::before {content: \"\";position: absolute;border-left: 1px solid gray;box-sizing: border-box;top: 0;bottom: 0;left: 50%;z-index: -1;}#sk-container-id-1 div.sk-parallel-item {display: flex;flex-direction: column;z-index: 1;position: relative;background-color: white;}#sk-container-id-1 div.sk-parallel-item:first-child::after {align-self: flex-end;width: 50%;}#sk-container-id-1 div.sk-parallel-item:last-child::after {align-self: flex-start;width: 50%;}#sk-container-id-1 div.sk-parallel-item:only-child::after {width: 0;}#sk-container-id-1 div.sk-dashed-wrapped {border: 1px dashed gray;margin: 0 0.4em 0.5em 0.4em;box-sizing: border-box;padding-bottom: 0.4em;background-color: white;}#sk-container-id-1 div.sk-label label {font-family: monospace;font-weight: bold;display: inline-block;line-height: 1.2em;}#sk-container-id-1 div.sk-label-container {text-align: center;}#sk-container-id-1 div.sk-container {/* jupyter's `normalize.less` sets `[hidden] { display: none; }` but bootstrap.min.css set `[hidden] { display: none !important; }` so we also need the `!important` here to be able to override the default hidden behavior on the sphinx rendered scikit-learn.org. See: https://github.com/scikit-learn/scikit-learn/issues/21755 */display: inline-block !important;position: relative;}#sk-container-id-1 div.sk-text-repr-fallback {display: none;}</style><div id=\"sk-container-id-1\" class=\"sk-top-container\"><div class=\"sk-text-repr-fallback\"><pre>LinearRegression()</pre><b>In a Jupyter environment, please rerun this cell to show the HTML representation or trust the notebook. <br />On GitHub, the HTML representation is unable to render, please try loading this page with nbviewer.org.</b></div><div class=\"sk-container\" hidden><div class=\"sk-item\"><div class=\"sk-estimator sk-toggleable\"><input class=\"sk-toggleable__control sk-hidden--visually\" id=\"sk-estimator-id-1\" type=\"checkbox\" checked><label for=\"sk-estimator-id-1\" class=\"sk-toggleable__label sk-toggleable__label-arrow\">LinearRegression</label><div class=\"sk-toggleable__content\"><pre>LinearRegression()</pre></div></div></div></div></div>"
      ],
      "text/plain": [
       "LinearRegression()"
      ]
     },
     "execution_count": 33,
     "metadata": {},
     "output_type": "execute_result"
    }
   ],
   "source": [
    "lr.fit(x_train,y_train)"
   ]
  },
  {
   "cell_type": "code",
   "execution_count": 34,
   "id": "b3e7d783-ada6-4fae-86d1-83c09d6dd0d4",
   "metadata": {},
   "outputs": [],
   "source": [
    "y_pred=lr.predict(x_test)"
   ]
  },
  {
   "cell_type": "code",
   "execution_count": 36,
   "id": "7671c9ca-cbee-44a6-91ff-a0a3fbcc16e8",
   "metadata": {},
   "outputs": [
    {
     "name": "stdout",
     "output_type": "stream",
     "text": [
      "MAE 43.287074693532006\n",
      "MSE 3592.2269970383227\n",
      "R2 score 0.6397686229326425\n"
     ]
    }
   ],
   "source": [
    "print(\"MAE\",mean_absolute_error(y_test,y_pred))\n",
    "print(\"MSE\",mean_squared_error(y_test,y_pred))\n",
    "print(\"R2 score\",r2_score(y_test,y_pred))"
   ]
  },
  {
   "cell_type": "code",
   "execution_count": 40,
   "id": "a6be7b9e-07ab-4579-9db1-893928a184ce",
   "metadata": {},
   "outputs": [
    {
     "ename": "ValueError",
     "evalue": "X has 100 features, but LinearRegression is expecting 2 features as input.",
     "output_type": "error",
     "traceback": [
      "\u001b[1;31m---------------------------------------------------------------------------\u001b[0m",
      "\u001b[1;31mValueError\u001b[0m                                Traceback (most recent call last)",
      "Cell \u001b[1;32mIn[40], line 5\u001b[0m\n\u001b[0;32m      3\u001b[0m xGrid, yGrid \u001b[38;5;241m=\u001b[39m np\u001b[38;5;241m.\u001b[39mmeshgrid(y, x)\n\u001b[0;32m      4\u001b[0m final \u001b[38;5;241m=\u001b[39m np\u001b[38;5;241m.\u001b[39mvstack((xGrid\u001b[38;5;241m.\u001b[39mravel()\u001b[38;5;241m.\u001b[39mreshape(\u001b[38;5;241m1\u001b[39m,\u001b[38;5;241m100\u001b[39m),yGrid\u001b[38;5;241m.\u001b[39mravel()\u001b[38;5;241m.\u001b[39mreshape(\u001b[38;5;241m1\u001b[39m,\u001b[38;5;241m100\u001b[39m)))\n\u001b[1;32m----> 5\u001b[0m z_final \u001b[38;5;241m=\u001b[39m lr\u001b[38;5;241m.\u001b[39mpredict(final)\u001b[38;5;241m.\u001b[39mreshape(\u001b[38;5;241m10\u001b[39m,\u001b[38;5;241m10\u001b[39m)\n\u001b[0;32m      7\u001b[0m z \u001b[38;5;241m=\u001b[39m z_final\n\u001b[0;32m      9\u001b[0m final \u001b[38;5;241m=\u001b[39m np\u001b[38;5;241m.\u001b[39mvstack((xGrid\u001b[38;5;241m.\u001b[39mravel()\u001b[38;5;241m.\u001b[39mreshape(\u001b[38;5;241m1\u001b[39m,\u001b[38;5;241m100\u001b[39m),yGrid\u001b[38;5;241m.\u001b[39mravel()\u001b[38;5;241m.\u001b[39mreshape(\u001b[38;5;241m1\u001b[39m,\u001b[38;5;241m100\u001b[39m)))\u001b[38;5;241m.\u001b[39mT\n",
      "File \u001b[1;32m~\\anaconda3\\Lib\\site-packages\\sklearn\\linear_model\\_base.py:354\u001b[0m, in \u001b[0;36mLinearModel.predict\u001b[1;34m(self, X)\u001b[0m\n\u001b[0;32m    340\u001b[0m \u001b[38;5;28;01mdef\u001b[39;00m \u001b[38;5;21mpredict\u001b[39m(\u001b[38;5;28mself\u001b[39m, X):\n\u001b[0;32m    341\u001b[0m \u001b[38;5;250m    \u001b[39m\u001b[38;5;124;03m\"\"\"\u001b[39;00m\n\u001b[0;32m    342\u001b[0m \u001b[38;5;124;03m    Predict using the linear model.\u001b[39;00m\n\u001b[0;32m    343\u001b[0m \n\u001b[1;32m   (...)\u001b[0m\n\u001b[0;32m    352\u001b[0m \u001b[38;5;124;03m        Returns predicted values.\u001b[39;00m\n\u001b[0;32m    353\u001b[0m \u001b[38;5;124;03m    \"\"\"\u001b[39;00m\n\u001b[1;32m--> 354\u001b[0m     \u001b[38;5;28;01mreturn\u001b[39;00m \u001b[38;5;28mself\u001b[39m\u001b[38;5;241m.\u001b[39m_decision_function(X)\n",
      "File \u001b[1;32m~\\anaconda3\\Lib\\site-packages\\sklearn\\linear_model\\_base.py:337\u001b[0m, in \u001b[0;36mLinearModel._decision_function\u001b[1;34m(self, X)\u001b[0m\n\u001b[0;32m    334\u001b[0m \u001b[38;5;28;01mdef\u001b[39;00m \u001b[38;5;21m_decision_function\u001b[39m(\u001b[38;5;28mself\u001b[39m, X):\n\u001b[0;32m    335\u001b[0m     check_is_fitted(\u001b[38;5;28mself\u001b[39m)\n\u001b[1;32m--> 337\u001b[0m     X \u001b[38;5;241m=\u001b[39m \u001b[38;5;28mself\u001b[39m\u001b[38;5;241m.\u001b[39m_validate_data(X, accept_sparse\u001b[38;5;241m=\u001b[39m[\u001b[38;5;124m\"\u001b[39m\u001b[38;5;124mcsr\u001b[39m\u001b[38;5;124m\"\u001b[39m, \u001b[38;5;124m\"\u001b[39m\u001b[38;5;124mcsc\u001b[39m\u001b[38;5;124m\"\u001b[39m, \u001b[38;5;124m\"\u001b[39m\u001b[38;5;124mcoo\u001b[39m\u001b[38;5;124m\"\u001b[39m], reset\u001b[38;5;241m=\u001b[39m\u001b[38;5;28;01mFalse\u001b[39;00m)\n\u001b[0;32m    338\u001b[0m     \u001b[38;5;28;01mreturn\u001b[39;00m safe_sparse_dot(X, \u001b[38;5;28mself\u001b[39m\u001b[38;5;241m.\u001b[39mcoef_\u001b[38;5;241m.\u001b[39mT, dense_output\u001b[38;5;241m=\u001b[39m\u001b[38;5;28;01mTrue\u001b[39;00m) \u001b[38;5;241m+\u001b[39m \u001b[38;5;28mself\u001b[39m\u001b[38;5;241m.\u001b[39mintercept_\n",
      "File \u001b[1;32m~\\anaconda3\\Lib\\site-packages\\sklearn\\base.py:588\u001b[0m, in \u001b[0;36mBaseEstimator._validate_data\u001b[1;34m(self, X, y, reset, validate_separately, **check_params)\u001b[0m\n\u001b[0;32m    585\u001b[0m     out \u001b[38;5;241m=\u001b[39m X, y\n\u001b[0;32m    587\u001b[0m \u001b[38;5;28;01mif\u001b[39;00m \u001b[38;5;129;01mnot\u001b[39;00m no_val_X \u001b[38;5;129;01mand\u001b[39;00m check_params\u001b[38;5;241m.\u001b[39mget(\u001b[38;5;124m\"\u001b[39m\u001b[38;5;124mensure_2d\u001b[39m\u001b[38;5;124m\"\u001b[39m, \u001b[38;5;28;01mTrue\u001b[39;00m):\n\u001b[1;32m--> 588\u001b[0m     \u001b[38;5;28mself\u001b[39m\u001b[38;5;241m.\u001b[39m_check_n_features(X, reset\u001b[38;5;241m=\u001b[39mreset)\n\u001b[0;32m    590\u001b[0m \u001b[38;5;28;01mreturn\u001b[39;00m out\n",
      "File \u001b[1;32m~\\anaconda3\\Lib\\site-packages\\sklearn\\base.py:389\u001b[0m, in \u001b[0;36mBaseEstimator._check_n_features\u001b[1;34m(self, X, reset)\u001b[0m\n\u001b[0;32m    386\u001b[0m     \u001b[38;5;28;01mreturn\u001b[39;00m\n\u001b[0;32m    388\u001b[0m \u001b[38;5;28;01mif\u001b[39;00m n_features \u001b[38;5;241m!=\u001b[39m \u001b[38;5;28mself\u001b[39m\u001b[38;5;241m.\u001b[39mn_features_in_:\n\u001b[1;32m--> 389\u001b[0m     \u001b[38;5;28;01mraise\u001b[39;00m \u001b[38;5;167;01mValueError\u001b[39;00m(\n\u001b[0;32m    390\u001b[0m         \u001b[38;5;124mf\u001b[39m\u001b[38;5;124m\"\u001b[39m\u001b[38;5;124mX has \u001b[39m\u001b[38;5;132;01m{\u001b[39;00mn_features\u001b[38;5;132;01m}\u001b[39;00m\u001b[38;5;124m features, but \u001b[39m\u001b[38;5;132;01m{\u001b[39;00m\u001b[38;5;28mself\u001b[39m\u001b[38;5;241m.\u001b[39m\u001b[38;5;18m__class__\u001b[39m\u001b[38;5;241m.\u001b[39m\u001b[38;5;18m__name__\u001b[39m\u001b[38;5;132;01m}\u001b[39;00m\u001b[38;5;124m \u001b[39m\u001b[38;5;124m\"\u001b[39m\n\u001b[0;32m    391\u001b[0m         \u001b[38;5;124mf\u001b[39m\u001b[38;5;124m\"\u001b[39m\u001b[38;5;124mis expecting \u001b[39m\u001b[38;5;132;01m{\u001b[39;00m\u001b[38;5;28mself\u001b[39m\u001b[38;5;241m.\u001b[39mn_features_in_\u001b[38;5;132;01m}\u001b[39;00m\u001b[38;5;124m features as input.\u001b[39m\u001b[38;5;124m\"\u001b[39m\n\u001b[0;32m    392\u001b[0m     )\n",
      "\u001b[1;31mValueError\u001b[0m: X has 100 features, but LinearRegression is expecting 2 features as input."
     ]
    }
   ],
   "source": [
    "x = np.linspace(-5, 5, 10)\n",
    "y = np.linspace(-5, 5, 10)\n",
    "xGrid, yGrid = np.meshgrid(y, x)\n",
    "\n",
    "z_final = lr.predict(final).reshape(10,10)\n",
    "\n",
    "z = z_final\n",
    "\n",
    "final = np.vstack((xGrid.ravel().reshape(1,100),yGrid.ravel().reshape(1,100))).T\n",
    "     "
   ]
  },
  {
   "cell_type": "code",
   "execution_count": 39,
   "id": "5af90537-fc13-447a-919b-cdf0eeb597c3",
   "metadata": {},
   "outputs": [
    {
     "data": {
      "application/vnd.plotly.v1+json": {
       "config": {
        "plotlyServerURL": "https://plot.ly"
       },
       "data": [
        {
         "hovertemplate": "feature1=%{x}<br>feature2=%{y}<br>target=%{z}<extra></extra>",
         "legendgroup": "",
         "marker": {
          "color": "#636efa",
          "symbol": "circle"
         },
         "mode": "markers",
         "name": "",
         "scene": "scene",
         "showlegend": false,
         "type": "scatter3d",
         "x": [
          -0.4307343137776842,
          -0.02078344041084271,
          0.46830659078350684,
          0.4357599257191885,
          2.3973916659318744,
          -0.9631802372405195,
          -1.1982424192861205,
          -0.4499858595733766,
          0.5577180274306712,
          -0.931833675746477,
          -0.5149119922366561,
          -0.01343627594685954,
          0.5572527086879561,
          -0.5390295839187655,
          -0.32865004031126244,
          0.23371990109947754,
          1.5298383184034734,
          0.07420533671668693,
          1.776642565137611,
          0.3846096653106349,
          1.556226951516636,
          0.13538936586985476,
          1.543457683875376,
          -1.2664765324672855,
          2.17776354658065,
          1.1323916381403094,
          -1.0004087836517308,
          0.15162716554845834,
          -0.04056362582771598,
          -0.1445851820380883,
          1.5300370610067724,
          -0.3852551712759338,
          -1.3520108264254413,
          -0.35126354966592427,
          -0.3877846936389349,
          -1.0937775623113208,
          0.301206848994,
          -0.07424776549067041,
          -1.319166181362717,
          0.2936002575106181,
          0.23736895863240068,
          0.2882892201637069,
          0.635774351702729,
          0.0027345748630246973,
          0.8679640583122784,
          -1.5998368944163663,
          1.2451940745603087,
          -1.6192955664156552,
          -0.1377107705443966,
          0.3257013277966175,
          0.4595246254781512,
          -1.677164069393663,
          -0.5208794720057275,
          0.6247916986583082,
          -0.4549960068442446,
          -1.9363721920036032,
          -0.4039631564375606,
          2.1789437554890685,
          1.1163453629634912,
          -0.7312539540204483,
          0.5056826326321423,
          -0.18945907401068363,
          -1.4150662779452523,
          -0.34108605161261,
          1.3157191798326997,
          -0.6298596267997284,
          -0.09393148166039599,
          0.17806588642261353,
          -0.043824505827492796,
          1.7585159183776358,
          1.9171715107980485,
          -1.2417415064970694,
          -0.3999544911688004,
          -0.14488526842444424,
          -0.5585197521825275,
          2.565709486102989,
          -1.1031438766232056,
          0.30587459769896574,
          -0.0913489789067486,
          -0.05292461971768486,
          0.14609052376019913,
          -1.3334708650437594,
          1.800753630609147,
          1.253480961408164,
          0.14239248615926248,
          1.8846505358947023,
          -0.4959759537695206,
          -1.2544731516492937,
          0.28275061714710475,
          -0.32874215646796356,
          -0.20546062222714442,
          0.025460811642345014,
          -0.21670997722041363,
          1.8265411144720165,
          -0.8412511735941293,
          0.8051930077350047,
          0.5828342280234562,
          -1.0622486660580386,
          -1.3257276115705867,
          -0.3497969133647856
         ],
         "y": [
          0.9560681876191011,
          -2.260361862414009,
          1.1033211818818756,
          -2.824829528503685,
          1.199481790142051,
          1.8114984136574095,
          0.023586463671729393,
          -0.02544942353991562,
          0.040235985636997144,
          -0.42449689632676013,
          0.3821677330917565,
          1.1019526979536085,
          -0.8166032540005111,
          -1.096186577044672,
          -1.0113371921795684,
          0.07563562644225671,
          0.21694406339790395,
          1.4125292606579716,
          -0.9884549422943539,
          -0.23715025632787037,
          -0.5506754113205051,
          1.172360898782683,
          -1.2246252203248915,
          -0.319243233342517,
          1.789181809602777,
          -0.4895729204359838,
          0.2706586438346335,
          0.641252558548385,
          0.0051996096926026575,
          0.22175322083448476,
          -2.199283923642862,
          0.3379812923168236,
          -0.24823962777885072,
          -0.3235259183780667,
          -0.21421747637112037,
          -0.6098648716742711,
          1.9433156903569777,
          0.1954843940826453,
          0.3366802436785281,
          -1.4821542503863412,
          -0.9029931388386857,
          -0.5940381129609417,
          0.28186038007908715,
          -1.5013926600420695,
          0.748100254710548,
          0.000398490230121379,
          -0.9015535250372692,
          0.6643733378098126,
          -1.100295017580934,
          -0.5564665622762207,
          0.9986776273538711,
          0.6497455260888352,
          0.6532704101413692,
          -2.2966275567384664,
          -0.34640462396684474,
          -2.0941941892945652,
          -0.47729104421708873,
          0.5312589650151762,
          1.2424160355421907,
          0.6786163324572227,
          0.518696734889028,
          0.731496602236535,
          0.19792232265727475,
          -1.3583320207889882,
          -1.3600852280573976,
          1.5035616902530102,
          0.2843794500533387,
          0.9219034629243278,
          -0.9862452222256045,
          3.201555908755492,
          0.5292009020710166,
          0.19601144190570305,
          -0.7445794993662539,
          0.7008671426415802,
          0.03532981889957388,
          -0.08014059656711811,
          0.5856846164358642,
          -1.3970595583621095,
          0.1584196580880755,
          0.0662919045090424,
          -1.4092813068026149,
          -0.2861357014216675,
          -0.7535858960327317,
          -0.3179706083583993,
          1.6217452874476406,
          -0.766577973965423,
          -1.0805371503752155,
          -0.34531987312868195,
          -0.07676154580835401,
          -1.1942471890156572,
          -0.7002661618764671,
          1.0583226012856135,
          0.5857496230141279,
          0.39946944847867016,
          -0.21889612151823323,
          1.4019156122778709,
          -0.9648228177688699,
          0.3233512129551436,
          -0.18028095242006154,
          0.4318645990734179
         ],
         "z": [
          69.2792707529766,
          -206.09908850688655,
          50.132026096177896,
          -246.95703987469534,
          115.80343145170836,
          61.543359650165655,
          -31.72043834069637,
          -16.558813922511664,
          11.514797685805664,
          -49.588531997295796,
          -125.41022535907672,
          122.04051120217494,
          -63.99295824532896,
          -154.23057365628875,
          -83.57210810340743,
          64.40178187865632,
          69.36999883569842,
          162.12799003618443,
          -56.185664527218165,
          -42.78473943548339,
          42.35941447479705,
          43.91842385824328,
          -31.037913910420208,
          -76.78818006826539,
          161.56464385566906,
          -29.105326252299953,
          -1.1848119536920043,
          69.0691943687344,
          100.9908278984804,
          67.09797900794764,
          -73.56532356939636,
          1.1516314780149202,
          -101.92805384064519,
          -179.94285020580668,
          -41.70188630480053,
          -96.33395887091632,
          164.12207167628225,
          1.3114447111126513,
          -54.50808280507872,
          -98.76324917692484,
          -51.11021589789634,
          -128.53540608377676,
          80.2177568762456,
          -142.04482096309084,
          54.27696729147014,
          -48.19388947139065,
          -27.068024280481666,
          54.4938546009057,
          -84.16384147642984,
          -61.242617608342925,
          56.32786265767982,
          -29.762269729851354,
          47.425620651160656,
          -296.8552593624467,
          -44.945119523224065,
          -151.10296008232302,
          -12.779551596018251,
          112.55187274614609,
          15.851070336669295,
          5.403300576902051,
          20.246618111103402,
          33.316349109836985,
          -52.19960659388826,
          -173.7776007296813,
          -78.9427076359332,
          116.91478950239524,
          82.43277304423034,
          105.02606751969105,
          -62.949668429702534,
          334.3166844381771,
          126.3580807383131,
          -113.91279309925649,
          -69.4608022370485,
          76.47929328071461,
          -7.815945699484879,
          3.0585047688699873,
          -37.044411910389584,
          -101.84011585460401,
          -31.807536206008017,
          -61.59090796179883,
          -74.48507057615649,
          -78.6331211086653,
          29.44325852553839,
          -13.442241538702906,
          140.3879788562526,
          17.790266459058007,
          -165.58821693086065,
          -19.030190016577066,
          39.614501784645746,
          -88.8784769284685,
          -127.24538331469537,
          56.11252013893174,
          25.098266676273553,
          42.57640205447195,
          -93.20579218753103,
          189.17025286522517,
          -31.095191603729212,
          59.69088485008323,
          -59.0515927616174,
          11.495657224175336
         ]
        },
        {
         "type": "surface",
         "x": [
          -5,
          -3.888888888888889,
          -2.7777777777777777,
          -1.6666666666666665,
          -0.5555555555555554,
          0.5555555555555554,
          1.666666666666667,
          2.7777777777777786,
          3.8888888888888893,
          5
         ],
         "y": [
          -5,
          -3.888888888888889,
          -2.7777777777777777,
          -1.6666666666666665,
          -0.5555555555555554,
          0.5555555555555554,
          1.666666666666667,
          2.7777777777777786,
          3.8888888888888893,
          5
         ],
         "z": [
          [
           -543.9393031973893,
           -512.7109805483894,
           -481.48265789938944,
           -450.2543352503895,
           -419.02601260138954,
           -387.79768995238965,
           -356.5693673033897,
           -325.3410446543897,
           -294.1127220053898,
           -262.8843993563899
          ],
          [
           -455.5129012112322,
           -424.28457856223224,
           -393.05625591323235,
           -361.8279332642324,
           -330.59961061523245,
           -299.3712879662325,
           -268.14296531723255,
           -236.91464266823263,
           -205.6863200192327,
           -174.4579973702328
          ],
          [
           -367.0864992250751,
           -335.85817657607515,
           -304.6298539270752,
           -273.4015312780753,
           -242.17320862907536,
           -210.94488598007544,
           -179.7165633310755,
           -148.48824068207554,
           -117.2599180330756,
           -86.03159538407569
          ],
          [
           -278.660097238918,
           -247.4317745899181,
           -216.20345194091814,
           -184.97512929191822,
           -153.74680664291827,
           -122.51848399391832,
           -91.29016134491837,
           -60.06183869591842,
           -28.833516046918497,
           2.394806602081423
          ],
          [
           -190.23369525276092,
           -159.00537260376097,
           -127.77704995476103,
           -96.54872730576109,
           -65.32040465676116,
           -34.09208200776122,
           -2.86375935876127,
           28.364563290238685,
           59.59288593923861,
           90.82120858823853
          ],
          [
           -101.80729326660384,
           -70.5789706176039,
           -39.35064796860396,
           -8.12232531960402,
           23.10599732939592,
           54.33431997839585,
           85.5626426273958,
           116.79096527639575,
           148.01928792539567,
           179.2476105743956
          ],
          [
           -13.38089128044669,
           17.847431368553245,
           49.07575401755318,
           80.30407666655312,
           111.53239931555306,
           142.76072196455297,
           173.98904461355292,
           205.21736726255287,
           236.4456899115528,
           267.67401256055274
          ],
          [
           75.04551070571046,
           106.27383335471039,
           137.5021560037103,
           168.73047865271025,
           199.9588013017102,
           231.18712395071012,
           262.4154465997101,
           293.64376924871004,
           324.87209189771,
           356.1004145467099
          ],
          [
           163.47191269186752,
           194.70023534086744,
           225.9285579898674,
           257.15688063886734,
           288.3852032878673,
           319.61352593686723,
           350.8418485858672,
           382.07017123486713,
           413.298493883867,
           444.526816532867
          ],
          [
           251.8983146780246,
           283.1266373270245,
           314.3549599760245,
           345.5832826250244,
           376.8116052740244,
           408.03992792302427,
           439.2682505720242,
           470.4965732210242,
           501.7248958700241,
           532.953218519024
          ]
         ]
        }
       ],
       "layout": {
        "autosize": true,
        "dragmode": "zoom",
        "legend": {
         "tracegroupgap": 0
        },
        "margin": {
         "t": 60
        },
        "scene": {
         "aspectmode": "auto",
         "aspectratio": {
          "x": 1,
          "y": 1,
          "z": 1
         },
         "camera": {
          "center": {
           "x": 0,
           "y": 0,
           "z": 0
          },
          "eye": {
           "x": 0.7836442113219029,
           "y": 0.8037367008949581,
           "z": 0.608643686436919
          },
          "projection": {
           "type": "perspective"
          },
          "up": {
           "x": -0.14543168127517028,
           "y": 0.9831216670810966,
           "z": -0.11100186393553353
          }
         },
         "domain": {
          "x": [
           0,
           1
          ],
          "y": [
           0,
           1
          ]
         },
         "dragmode": "zoom",
         "xaxis": {
          "title": {
           "text": "feature1"
          },
          "type": "linear"
         },
         "yaxis": {
          "title": {
           "text": "feature2"
          },
          "type": "linear"
         },
         "zaxis": {
          "title": {
           "text": "target"
          },
          "type": "linear"
         }
        },
        "template": {
         "data": {
          "bar": [
           {
            "error_x": {
             "color": "#2a3f5f"
            },
            "error_y": {
             "color": "#2a3f5f"
            },
            "marker": {
             "line": {
              "color": "#E5ECF6",
              "width": 0.5
             },
             "pattern": {
              "fillmode": "overlay",
              "size": 10,
              "solidity": 0.2
             }
            },
            "type": "bar"
           }
          ],
          "barpolar": [
           {
            "marker": {
             "line": {
              "color": "#E5ECF6",
              "width": 0.5
             },
             "pattern": {
              "fillmode": "overlay",
              "size": 10,
              "solidity": 0.2
             }
            },
            "type": "barpolar"
           }
          ],
          "carpet": [
           {
            "aaxis": {
             "endlinecolor": "#2a3f5f",
             "gridcolor": "white",
             "linecolor": "white",
             "minorgridcolor": "white",
             "startlinecolor": "#2a3f5f"
            },
            "baxis": {
             "endlinecolor": "#2a3f5f",
             "gridcolor": "white",
             "linecolor": "white",
             "minorgridcolor": "white",
             "startlinecolor": "#2a3f5f"
            },
            "type": "carpet"
           }
          ],
          "choropleth": [
           {
            "colorbar": {
             "outlinewidth": 0,
             "ticks": ""
            },
            "type": "choropleth"
           }
          ],
          "contour": [
           {
            "colorbar": {
             "outlinewidth": 0,
             "ticks": ""
            },
            "colorscale": [
             [
              0,
              "#0d0887"
             ],
             [
              0.1111111111111111,
              "#46039f"
             ],
             [
              0.2222222222222222,
              "#7201a8"
             ],
             [
              0.3333333333333333,
              "#9c179e"
             ],
             [
              0.4444444444444444,
              "#bd3786"
             ],
             [
              0.5555555555555556,
              "#d8576b"
             ],
             [
              0.6666666666666666,
              "#ed7953"
             ],
             [
              0.7777777777777778,
              "#fb9f3a"
             ],
             [
              0.8888888888888888,
              "#fdca26"
             ],
             [
              1,
              "#f0f921"
             ]
            ],
            "type": "contour"
           }
          ],
          "contourcarpet": [
           {
            "colorbar": {
             "outlinewidth": 0,
             "ticks": ""
            },
            "type": "contourcarpet"
           }
          ],
          "heatmap": [
           {
            "colorbar": {
             "outlinewidth": 0,
             "ticks": ""
            },
            "colorscale": [
             [
              0,
              "#0d0887"
             ],
             [
              0.1111111111111111,
              "#46039f"
             ],
             [
              0.2222222222222222,
              "#7201a8"
             ],
             [
              0.3333333333333333,
              "#9c179e"
             ],
             [
              0.4444444444444444,
              "#bd3786"
             ],
             [
              0.5555555555555556,
              "#d8576b"
             ],
             [
              0.6666666666666666,
              "#ed7953"
             ],
             [
              0.7777777777777778,
              "#fb9f3a"
             ],
             [
              0.8888888888888888,
              "#fdca26"
             ],
             [
              1,
              "#f0f921"
             ]
            ],
            "type": "heatmap"
           }
          ],
          "heatmapgl": [
           {
            "colorbar": {
             "outlinewidth": 0,
             "ticks": ""
            },
            "colorscale": [
             [
              0,
              "#0d0887"
             ],
             [
              0.1111111111111111,
              "#46039f"
             ],
             [
              0.2222222222222222,
              "#7201a8"
             ],
             [
              0.3333333333333333,
              "#9c179e"
             ],
             [
              0.4444444444444444,
              "#bd3786"
             ],
             [
              0.5555555555555556,
              "#d8576b"
             ],
             [
              0.6666666666666666,
              "#ed7953"
             ],
             [
              0.7777777777777778,
              "#fb9f3a"
             ],
             [
              0.8888888888888888,
              "#fdca26"
             ],
             [
              1,
              "#f0f921"
             ]
            ],
            "type": "heatmapgl"
           }
          ],
          "histogram": [
           {
            "marker": {
             "pattern": {
              "fillmode": "overlay",
              "size": 10,
              "solidity": 0.2
             }
            },
            "type": "histogram"
           }
          ],
          "histogram2d": [
           {
            "colorbar": {
             "outlinewidth": 0,
             "ticks": ""
            },
            "colorscale": [
             [
              0,
              "#0d0887"
             ],
             [
              0.1111111111111111,
              "#46039f"
             ],
             [
              0.2222222222222222,
              "#7201a8"
             ],
             [
              0.3333333333333333,
              "#9c179e"
             ],
             [
              0.4444444444444444,
              "#bd3786"
             ],
             [
              0.5555555555555556,
              "#d8576b"
             ],
             [
              0.6666666666666666,
              "#ed7953"
             ],
             [
              0.7777777777777778,
              "#fb9f3a"
             ],
             [
              0.8888888888888888,
              "#fdca26"
             ],
             [
              1,
              "#f0f921"
             ]
            ],
            "type": "histogram2d"
           }
          ],
          "histogram2dcontour": [
           {
            "colorbar": {
             "outlinewidth": 0,
             "ticks": ""
            },
            "colorscale": [
             [
              0,
              "#0d0887"
             ],
             [
              0.1111111111111111,
              "#46039f"
             ],
             [
              0.2222222222222222,
              "#7201a8"
             ],
             [
              0.3333333333333333,
              "#9c179e"
             ],
             [
              0.4444444444444444,
              "#bd3786"
             ],
             [
              0.5555555555555556,
              "#d8576b"
             ],
             [
              0.6666666666666666,
              "#ed7953"
             ],
             [
              0.7777777777777778,
              "#fb9f3a"
             ],
             [
              0.8888888888888888,
              "#fdca26"
             ],
             [
              1,
              "#f0f921"
             ]
            ],
            "type": "histogram2dcontour"
           }
          ],
          "mesh3d": [
           {
            "colorbar": {
             "outlinewidth": 0,
             "ticks": ""
            },
            "type": "mesh3d"
           }
          ],
          "parcoords": [
           {
            "line": {
             "colorbar": {
              "outlinewidth": 0,
              "ticks": ""
             }
            },
            "type": "parcoords"
           }
          ],
          "pie": [
           {
            "automargin": true,
            "type": "pie"
           }
          ],
          "scatter": [
           {
            "fillpattern": {
             "fillmode": "overlay",
             "size": 10,
             "solidity": 0.2
            },
            "type": "scatter"
           }
          ],
          "scatter3d": [
           {
            "line": {
             "colorbar": {
              "outlinewidth": 0,
              "ticks": ""
             }
            },
            "marker": {
             "colorbar": {
              "outlinewidth": 0,
              "ticks": ""
             }
            },
            "type": "scatter3d"
           }
          ],
          "scattercarpet": [
           {
            "marker": {
             "colorbar": {
              "outlinewidth": 0,
              "ticks": ""
             }
            },
            "type": "scattercarpet"
           }
          ],
          "scattergeo": [
           {
            "marker": {
             "colorbar": {
              "outlinewidth": 0,
              "ticks": ""
             }
            },
            "type": "scattergeo"
           }
          ],
          "scattergl": [
           {
            "marker": {
             "colorbar": {
              "outlinewidth": 0,
              "ticks": ""
             }
            },
            "type": "scattergl"
           }
          ],
          "scattermapbox": [
           {
            "marker": {
             "colorbar": {
              "outlinewidth": 0,
              "ticks": ""
             }
            },
            "type": "scattermapbox"
           }
          ],
          "scatterpolar": [
           {
            "marker": {
             "colorbar": {
              "outlinewidth": 0,
              "ticks": ""
             }
            },
            "type": "scatterpolar"
           }
          ],
          "scatterpolargl": [
           {
            "marker": {
             "colorbar": {
              "outlinewidth": 0,
              "ticks": ""
             }
            },
            "type": "scatterpolargl"
           }
          ],
          "scatterternary": [
           {
            "marker": {
             "colorbar": {
              "outlinewidth": 0,
              "ticks": ""
             }
            },
            "type": "scatterternary"
           }
          ],
          "surface": [
           {
            "colorbar": {
             "outlinewidth": 0,
             "ticks": ""
            },
            "colorscale": [
             [
              0,
              "#0d0887"
             ],
             [
              0.1111111111111111,
              "#46039f"
             ],
             [
              0.2222222222222222,
              "#7201a8"
             ],
             [
              0.3333333333333333,
              "#9c179e"
             ],
             [
              0.4444444444444444,
              "#bd3786"
             ],
             [
              0.5555555555555556,
              "#d8576b"
             ],
             [
              0.6666666666666666,
              "#ed7953"
             ],
             [
              0.7777777777777778,
              "#fb9f3a"
             ],
             [
              0.8888888888888888,
              "#fdca26"
             ],
             [
              1,
              "#f0f921"
             ]
            ],
            "type": "surface"
           }
          ],
          "table": [
           {
            "cells": {
             "fill": {
              "color": "#EBF0F8"
             },
             "line": {
              "color": "white"
             }
            },
            "header": {
             "fill": {
              "color": "#C8D4E3"
             },
             "line": {
              "color": "white"
             }
            },
            "type": "table"
           }
          ]
         },
         "layout": {
          "annotationdefaults": {
           "arrowcolor": "#2a3f5f",
           "arrowhead": 0,
           "arrowwidth": 1
          },
          "autotypenumbers": "strict",
          "coloraxis": {
           "colorbar": {
            "outlinewidth": 0,
            "ticks": ""
           }
          },
          "colorscale": {
           "diverging": [
            [
             0,
             "#8e0152"
            ],
            [
             0.1,
             "#c51b7d"
            ],
            [
             0.2,
             "#de77ae"
            ],
            [
             0.3,
             "#f1b6da"
            ],
            [
             0.4,
             "#fde0ef"
            ],
            [
             0.5,
             "#f7f7f7"
            ],
            [
             0.6,
             "#e6f5d0"
            ],
            [
             0.7,
             "#b8e186"
            ],
            [
             0.8,
             "#7fbc41"
            ],
            [
             0.9,
             "#4d9221"
            ],
            [
             1,
             "#276419"
            ]
           ],
           "sequential": [
            [
             0,
             "#0d0887"
            ],
            [
             0.1111111111111111,
             "#46039f"
            ],
            [
             0.2222222222222222,
             "#7201a8"
            ],
            [
             0.3333333333333333,
             "#9c179e"
            ],
            [
             0.4444444444444444,
             "#bd3786"
            ],
            [
             0.5555555555555556,
             "#d8576b"
            ],
            [
             0.6666666666666666,
             "#ed7953"
            ],
            [
             0.7777777777777778,
             "#fb9f3a"
            ],
            [
             0.8888888888888888,
             "#fdca26"
            ],
            [
             1,
             "#f0f921"
            ]
           ],
           "sequentialminus": [
            [
             0,
             "#0d0887"
            ],
            [
             0.1111111111111111,
             "#46039f"
            ],
            [
             0.2222222222222222,
             "#7201a8"
            ],
            [
             0.3333333333333333,
             "#9c179e"
            ],
            [
             0.4444444444444444,
             "#bd3786"
            ],
            [
             0.5555555555555556,
             "#d8576b"
            ],
            [
             0.6666666666666666,
             "#ed7953"
            ],
            [
             0.7777777777777778,
             "#fb9f3a"
            ],
            [
             0.8888888888888888,
             "#fdca26"
            ],
            [
             1,
             "#f0f921"
            ]
           ]
          },
          "colorway": [
           "#636efa",
           "#EF553B",
           "#00cc96",
           "#ab63fa",
           "#FFA15A",
           "#19d3f3",
           "#FF6692",
           "#B6E880",
           "#FF97FF",
           "#FECB52"
          ],
          "font": {
           "color": "#2a3f5f"
          },
          "geo": {
           "bgcolor": "white",
           "lakecolor": "white",
           "landcolor": "#E5ECF6",
           "showlakes": true,
           "showland": true,
           "subunitcolor": "white"
          },
          "hoverlabel": {
           "align": "left"
          },
          "hovermode": "closest",
          "mapbox": {
           "style": "light"
          },
          "paper_bgcolor": "white",
          "plot_bgcolor": "#E5ECF6",
          "polar": {
           "angularaxis": {
            "gridcolor": "white",
            "linecolor": "white",
            "ticks": ""
           },
           "bgcolor": "#E5ECF6",
           "radialaxis": {
            "gridcolor": "white",
            "linecolor": "white",
            "ticks": ""
           }
          },
          "scene": {
           "xaxis": {
            "backgroundcolor": "#E5ECF6",
            "gridcolor": "white",
            "gridwidth": 2,
            "linecolor": "white",
            "showbackground": true,
            "ticks": "",
            "zerolinecolor": "white"
           },
           "yaxis": {
            "backgroundcolor": "#E5ECF6",
            "gridcolor": "white",
            "gridwidth": 2,
            "linecolor": "white",
            "showbackground": true,
            "ticks": "",
            "zerolinecolor": "white"
           },
           "zaxis": {
            "backgroundcolor": "#E5ECF6",
            "gridcolor": "white",
            "gridwidth": 2,
            "linecolor": "white",
            "showbackground": true,
            "ticks": "",
            "zerolinecolor": "white"
           }
          },
          "shapedefaults": {
           "line": {
            "color": "#2a3f5f"
           }
          },
          "ternary": {
           "aaxis": {
            "gridcolor": "white",
            "linecolor": "white",
            "ticks": ""
           },
           "baxis": {
            "gridcolor": "white",
            "linecolor": "white",
            "ticks": ""
           },
           "bgcolor": "#E5ECF6",
           "caxis": {
            "gridcolor": "white",
            "linecolor": "white",
            "ticks": ""
           }
          },
          "title": {
           "x": 0.05
          },
          "xaxis": {
           "automargin": true,
           "gridcolor": "white",
           "linecolor": "white",
           "ticks": "",
           "title": {
            "standoff": 15
           },
           "zerolinecolor": "white",
           "zerolinewidth": 2
          },
          "yaxis": {
           "automargin": true,
           "gridcolor": "white",
           "linecolor": "white",
           "ticks": "",
           "title": {
            "standoff": 15
           },
           "zerolinecolor": "white",
           "zerolinewidth": 2
          }
         }
        }
       }
      },
      "image/png": "[encoded data removed]",
      "text/html": [
       "<div>                            <div id=\"baf3d2b4-98d0-486b-89a1-639fc672be91\" class=\"plotly-graph-div\" style=\"height:525px; width:100%;\"></div>            <script type=\"text/javascript\">                require([\"plotly\"], function(Plotly) {                    window.PLOTLYENV=window.PLOTLYENV || {};                                    if (document.getElementById(\"baf3d2b4-98d0-486b-89a1-639fc672be91\")) {                    Plotly.newPlot(                        \"baf3d2b4-98d0-486b-89a1-639fc672be91\",                        [{\"hovertemplate\":\"feature1=%{x}<br>feature2=%{y}<br>target=%{z}<extra></extra>\",\"legendgroup\":\"\",\"marker\":{\"color\":\"#636efa\",\"symbol\":\"circle\"},\"mode\":\"markers\",\"name\":\"\",\"scene\":\"scene\",\"showlegend\":false,\"x\":[-0.4307343137776842,-0.02078344041084271,0.46830659078350684,0.4357599257191885,2.3973916659318744,-0.9631802372405195,-1.1982424192861205,-0.4499858595733766,0.5577180274306712,-0.931833675746477,-0.5149119922366561,-0.01343627594685954,0.5572527086879561,-0.5390295839187655,-0.32865004031126244,0.23371990109947754,1.5298383184034734,0.07420533671668693,1.776642565137611,0.3846096653106349,1.556226951516636,0.13538936586985476,1.543457683875376,-1.2664765324672855,2.17776354658065,1.1323916381403094,-1.0004087836517308,0.15162716554845834,-0.04056362582771598,-0.1445851820380883,1.5300370610067724,-0.3852551712759338,-1.3520108264254413,-0.35126354966592427,-0.3877846936389349,-1.0937775623113208,0.301206848994,-0.07424776549067041,-1.319166181362717,0.2936002575106181,0.23736895863240068,0.2882892201637069,0.635774351702729,0.0027345748630246973,0.8679640583122784,-1.5998368944163663,1.2451940745603087,-1.6192955664156552,-0.1377107705443966,0.3257013277966175,0.4595246254781512,-1.677164069393663,-0.5208794720057275,0.6247916986583082,-0.4549960068442446,-1.9363721920036032,-0.4039631564375606,2.1789437554890685,1.1163453629634912,-0.7312539540204483,0.5056826326321423,-0.18945907401068363,-1.4150662779452523,-0.34108605161261,1.3157191798326997,-0.6298596267997284,-0.09393148166039599,0.17806588642261353,-0.043824505827492796,1.7585159183776358,1.9171715107980485,-1.2417415064970694,-0.3999544911688004,-0.14488526842444424,-0.5585197521825275,2.565709486102989,-1.1031438766232056,0.30587459769896574,-0.0913489789067486,-0.05292461971768486,0.14609052376019913,-1.3334708650437594,1.800753630609147,1.253480961408164,0.14239248615926248,1.8846505358947023,-0.4959759537695206,-1.2544731516492937,0.28275061714710475,-0.32874215646796356,-0.20546062222714442,0.025460811642345014,-0.21670997722041363,1.8265411144720165,-0.8412511735941293,0.8051930077350047,0.5828342280234562,-1.0622486660580386,-1.3257276115705867,-0.3497969133647856],\"y\":[0.9560681876191011,-2.260361862414009,1.1033211818818756,-2.824829528503685,1.199481790142051,1.8114984136574095,0.023586463671729393,-0.02544942353991562,0.040235985636997144,-0.42449689632676013,0.3821677330917565,1.1019526979536085,-0.8166032540005111,-1.096186577044672,-1.0113371921795684,0.07563562644225671,0.21694406339790395,1.4125292606579716,-0.9884549422943539,-0.23715025632787037,-0.5506754113205051,1.172360898782683,-1.2246252203248915,-0.319243233342517,1.789181809602777,-0.4895729204359838,0.2706586438346335,0.641252558548385,0.0051996096926026575,0.22175322083448476,-2.199283923642862,0.3379812923168236,-0.24823962777885072,-0.3235259183780667,-0.21421747637112037,-0.6098648716742711,1.9433156903569777,0.1954843940826453,0.3366802436785281,-1.4821542503863412,-0.9029931388386857,-0.5940381129609417,0.28186038007908715,-1.5013926600420695,0.748100254710548,0.000398490230121379,-0.9015535250372692,0.6643733378098126,-1.100295017580934,-0.5564665622762207,0.9986776273538711,0.6497455260888352,0.6532704101413692,-2.2966275567384664,-0.34640462396684474,-2.0941941892945652,-0.47729104421708873,0.5312589650151762,1.2424160355421907,0.6786163324572227,0.518696734889028,0.731496602236535,0.19792232265727475,-1.3583320207889882,-1.3600852280573976,1.5035616902530102,0.2843794500533387,0.9219034629243278,-0.9862452222256045,3.201555908755492,0.5292009020710166,0.19601144190570305,-0.7445794993662539,0.7008671426415802,0.03532981889957388,-0.08014059656711811,0.5856846164358642,-1.3970595583621095,0.1584196580880755,0.0662919045090424,-1.4092813068026149,-0.2861357014216675,-0.7535858960327317,-0.3179706083583993,1.6217452874476406,-0.766577973965423,-1.0805371503752155,-0.34531987312868195,-0.07676154580835401,-1.1942471890156572,-0.7002661618764671,1.0583226012856135,0.5857496230141279,0.39946944847867016,-0.21889612151823323,1.4019156122778709,-0.9648228177688699,0.3233512129551436,-0.18028095242006154,0.4318645990734179],\"z\":[69.2792707529766,-206.09908850688655,50.132026096177896,-246.95703987469534,115.80343145170836,61.543359650165655,-31.72043834069637,-16.558813922511664,11.514797685805664,-49.588531997295796,-125.41022535907672,122.04051120217494,-63.99295824532896,-154.23057365628875,-83.57210810340743,64.40178187865632,69.36999883569842,162.12799003618443,-56.185664527218165,-42.78473943548339,42.35941447479705,43.91842385824328,-31.037913910420208,-76.78818006826539,161.56464385566906,-29.105326252299953,-1.1848119536920043,69.0691943687344,100.9908278984804,67.09797900794764,-73.56532356939636,1.1516314780149202,-101.92805384064519,-179.94285020580668,-41.70188630480053,-96.33395887091632,164.12207167628225,1.3114447111126513,-54.50808280507872,-98.76324917692484,-51.11021589789634,-128.53540608377676,80.2177568762456,-142.04482096309084,54.27696729147014,-48.19388947139065,-27.068024280481666,54.4938546009057,-84.16384147642984,-61.242617608342925,56.32786265767982,-29.762269729851354,47.425620651160656,-296.8552593624467,-44.945119523224065,-151.10296008232302,-12.779551596018251,112.55187274614609,15.851070336669295,5.403300576902051,20.246618111103402,33.316349109836985,-52.19960659388826,-173.7776007296813,-78.9427076359332,116.91478950239524,82.43277304423034,105.02606751969105,-62.949668429702534,334.3166844381771,126.3580807383131,-113.91279309925649,-69.4608022370485,76.47929328071461,-7.815945699484879,3.0585047688699873,-37.044411910389584,-101.84011585460401,-31.807536206008017,-61.59090796179883,-74.48507057615649,-78.6331211086653,29.44325852553839,-13.442241538702906,140.3879788562526,17.790266459058007,-165.58821693086065,-19.030190016577066,39.614501784645746,-88.8784769284685,-127.24538331469537,56.11252013893174,25.098266676273553,42.57640205447195,-93.20579218753103,189.17025286522517,-31.095191603729212,59.69088485008323,-59.0515927616174,11.495657224175336],\"type\":\"scatter3d\"},{\"x\":[-5.0,-3.888888888888889,-2.7777777777777777,-1.6666666666666665,-0.5555555555555554,0.5555555555555554,1.666666666666667,2.7777777777777786,3.8888888888888893,5.0],\"y\":[-5.0,-3.888888888888889,-2.7777777777777777,-1.6666666666666665,-0.5555555555555554,0.5555555555555554,1.666666666666667,2.7777777777777786,3.8888888888888893,5.0],\"z\":[[-543.9393031973893,-512.7109805483894,-481.48265789938944,-450.2543352503895,-419.02601260138954,-387.79768995238965,-356.5693673033897,-325.3410446543897,-294.1127220053898,-262.8843993563899],[-455.5129012112322,-424.28457856223224,-393.05625591323235,-361.8279332642324,-330.59961061523245,-299.3712879662325,-268.14296531723255,-236.91464266823263,-205.6863200192327,-174.4579973702328],[-367.0864992250751,-335.85817657607515,-304.6298539270752,-273.4015312780753,-242.17320862907536,-210.94488598007544,-179.7165633310755,-148.48824068207554,-117.2599180330756,-86.03159538407569],[-278.660097238918,-247.4317745899181,-216.20345194091814,-184.97512929191822,-153.74680664291827,-122.51848399391832,-91.29016134491837,-60.06183869591842,-28.833516046918497,2.394806602081423],[-190.23369525276092,-159.00537260376097,-127.77704995476103,-96.54872730576109,-65.32040465676116,-34.09208200776122,-2.86375935876127,28.364563290238685,59.59288593923861,90.82120858823853],[-101.80729326660384,-70.5789706176039,-39.35064796860396,-8.12232531960402,23.10599732939592,54.33431997839585,85.5626426273958,116.79096527639575,148.01928792539567,179.2476105743956],[-13.38089128044669,17.847431368553245,49.07575401755318,80.30407666655312,111.53239931555306,142.76072196455297,173.98904461355292,205.21736726255287,236.4456899115528,267.67401256055274],[75.04551070571046,106.27383335471039,137.5021560037103,168.73047865271025,199.9588013017102,231.18712395071012,262.4154465997101,293.64376924871004,324.87209189771,356.1004145467099],[163.47191269186752,194.70023534086744,225.9285579898674,257.15688063886734,288.3852032878673,319.61352593686723,350.8418485858672,382.07017123486713,413.298493883867,444.526816532867],[251.8983146780246,283.1266373270245,314.3549599760245,345.5832826250244,376.8116052740244,408.03992792302427,439.2682505720242,470.4965732210242,501.7248958700241,532.953218519024]],\"type\":\"surface\"}],                        {\"template\":{\"data\":{\"histogram2dcontour\":[{\"type\":\"histogram2dcontour\",\"colorbar\":{\"outlinewidth\":0,\"ticks\":\"\"},\"colorscale\":[[0.0,\"#0d0887\"],[0.1111111111111111,\"#46039f\"],[0.2222222222222222,\"#7201a8\"],[0.3333333333333333,\"#9c179e\"],[0.4444444444444444,\"#bd3786\"],[0.5555555555555556,\"#d8576b\"],[0.6666666666666666,\"#ed7953\"],[0.7777777777777778,\"#fb9f3a\"],[0.8888888888888888,\"#fdca26\"],[1.0,\"#f0f921\"]]}],\"choropleth\":[{\"type\":\"choropleth\",\"colorbar\":{\"outlinewidth\":0,\"ticks\":\"\"}}],\"histogram2d\":[{\"type\":\"histogram2d\",\"colorbar\":{\"outlinewidth\":0,\"ticks\":\"\"},\"colorscale\":[[0.0,\"#0d0887\"],[0.1111111111111111,\"#46039f\"],[0.2222222222222222,\"#7201a8\"],[0.3333333333333333,\"#9c179e\"],[0.4444444444444444,\"#bd3786\"],[0.5555555555555556,\"#d8576b\"],[0.6666666666666666,\"#ed7953\"],[0.7777777777777778,\"#fb9f3a\"],[0.8888888888888888,\"#fdca26\"],[1.0,\"#f0f921\"]]}],\"heatmap\":[{\"type\":\"heatmap\",\"colorbar\":{\"outlinewidth\":0,\"ticks\":\"\"},\"colorscale\":[[0.0,\"#0d0887\"],[0.1111111111111111,\"#46039f\"],[0.2222222222222222,\"#7201a8\"],[0.3333333333333333,\"#9c179e\"],[0.4444444444444444,\"#bd3786\"],[0.5555555555555556,\"#d8576b\"],[0.6666666666666666,\"#ed7953\"],[0.7777777777777778,\"#fb9f3a\"],[0.8888888888888888,\"#fdca26\"],[1.0,\"#f0f921\"]]}],\"heatmapgl\":[{\"type\":\"heatmapgl\",\"colorbar\":{\"outlinewidth\":0,\"ticks\":\"\"},\"colorscale\":[[0.0,\"#0d0887\"],[0.1111111111111111,\"#46039f\"],[0.2222222222222222,\"#7201a8\"],[0.3333333333333333,\"#9c179e\"],[0.4444444444444444,\"#bd3786\"],[0.5555555555555556,\"#d8576b\"],[0.6666666666666666,\"#ed7953\"],[0.7777777777777778,\"#fb9f3a\"],[0.8888888888888888,\"#fdca26\"],[1.0,\"#f0f921\"]]}],\"contourcarpet\":[{\"type\":\"contourcarpet\",\"colorbar\":{\"outlinewidth\":0,\"ticks\":\"\"}}],\"contour\":[{\"type\":\"contour\",\"colorbar\":{\"outlinewidth\":0,\"ticks\":\"\"},\"colorscale\":[[0.0,\"#0d0887\"],[0.1111111111111111,\"#46039f\"],[0.2222222222222222,\"#7201a8\"],[0.3333333333333333,\"#9c179e\"],[0.4444444444444444,\"#bd3786\"],[0.5555555555555556,\"#d8576b\"],[0.6666666666666666,\"#ed7953\"],[0.7777777777777778,\"#fb9f3a\"],[0.8888888888888888,\"#fdca26\"],[1.0,\"#f0f921\"]]}],\"surface\":[{\"type\":\"surface\",\"colorbar\":{\"outlinewidth\":0,\"ticks\":\"\"},\"colorscale\":[[0.0,\"#0d0887\"],[0.1111111111111111,\"#46039f\"],[0.2222222222222222,\"#7201a8\"],[0.3333333333333333,\"#9c179e\"],[0.4444444444444444,\"#bd3786\"],[0.5555555555555556,\"#d8576b\"],[0.6666666666666666,\"#ed7953\"],[0.7777777777777778,\"#fb9f3a\"],[0.8888888888888888,\"#fdca26\"],[1.0,\"#f0f921\"]]}],\"mesh3d\":[{\"type\":\"mesh3d\",\"colorbar\":{\"outlinewidth\":0,\"ticks\":\"\"}}],\"scatter\":[{\"fillpattern\":{\"fillmode\":\"overlay\",\"size\":10,\"solidity\":0.2},\"type\":\"scatter\"}],\"parcoords\":[{\"type\":\"parcoords\",\"line\":{\"colorbar\":{\"outlinewidth\":0,\"ticks\":\"\"}}}],\"scatterpolargl\":[{\"type\":\"scatterpolargl\",\"marker\":{\"colorbar\":{\"outlinewidth\":0,\"ticks\":\"\"}}}],\"bar\":[{\"error_x\":{\"color\":\"#2a3f5f\"},\"error_y\":{\"color\":\"#2a3f5f\"},\"marker\":{\"line\":{\"color\":\"#E5ECF6\",\"width\":0.5},\"pattern\":{\"fillmode\":\"overlay\",\"size\":10,\"solidity\":0.2}},\"type\":\"bar\"}],\"scattergeo\":[{\"type\":\"scattergeo\",\"marker\":{\"colorbar\":{\"outlinewidth\":0,\"ticks\":\"\"}}}],\"scatterpolar\":[{\"type\":\"scatterpolar\",\"marker\":{\"colorbar\":{\"outlinewidth\":0,\"ticks\":\"\"}}}],\"histogram\":[{\"marker\":{\"pattern\":{\"fillmode\":\"overlay\",\"size\":10,\"solidity\":0.2}},\"type\":\"histogram\"}],\"scattergl\":[{\"type\":\"scattergl\",\"marker\":{\"colorbar\":{\"outlinewidth\":0,\"ticks\":\"\"}}}],\"scatter3d\":[{\"type\":\"scatter3d\",\"line\":{\"colorbar\":{\"outlinewidth\":0,\"ticks\":\"\"}},\"marker\":{\"colorbar\":{\"outlinewidth\":0,\"ticks\":\"\"}}}],\"scattermapbox\":[{\"type\":\"scattermapbox\",\"marker\":{\"colorbar\":{\"outlinewidth\":0,\"ticks\":\"\"}}}],\"scatterternary\":[{\"type\":\"scatterternary\",\"marker\":{\"colorbar\":{\"outlinewidth\":0,\"ticks\":\"\"}}}],\"scattercarpet\":[{\"type\":\"scattercarpet\",\"marker\":{\"colorbar\":{\"outlinewidth\":0,\"ticks\":\"\"}}}],\"carpet\":[{\"aaxis\":{\"endlinecolor\":\"#2a3f5f\",\"gridcolor\":\"white\",\"linecolor\":\"white\",\"minorgridcolor\":\"white\",\"startlinecolor\":\"#2a3f5f\"},\"baxis\":{\"endlinecolor\":\"#2a3f5f\",\"gridcolor\":\"white\",\"linecolor\":\"white\",\"minorgridcolor\":\"white\",\"startlinecolor\":\"#2a3f5f\"},\"type\":\"carpet\"}],\"table\":[{\"cells\":{\"fill\":{\"color\":\"#EBF0F8\"},\"line\":{\"color\":\"white\"}},\"header\":{\"fill\":{\"color\":\"#C8D4E3\"},\"line\":{\"color\":\"white\"}},\"type\":\"table\"}],\"barpolar\":[{\"marker\":{\"line\":{\"color\":\"#E5ECF6\",\"width\":0.5},\"pattern\":{\"fillmode\":\"overlay\",\"size\":10,\"solidity\":0.2}},\"type\":\"barpolar\"}],\"pie\":[{\"automargin\":true,\"type\":\"pie\"}]},\"layout\":{\"autotypenumbers\":\"strict\",\"colorway\":[\"#636efa\",\"#EF553B\",\"#00cc96\",\"#ab63fa\",\"#FFA15A\",\"#19d3f3\",\"#FF6692\",\"#B6E880\",\"#FF97FF\",\"#FECB52\"],\"font\":{\"color\":\"#2a3f5f\"},\"hovermode\":\"closest\",\"hoverlabel\":{\"align\":\"left\"},\"paper_bgcolor\":\"white\",\"plot_bgcolor\":\"#E5ECF6\",\"polar\":{\"bgcolor\":\"#E5ECF6\",\"angularaxis\":{\"gridcolor\":\"white\",\"linecolor\":\"white\",\"ticks\":\"\"},\"radialaxis\":{\"gridcolor\":\"white\",\"linecolor\":\"white\",\"ticks\":\"\"}},\"ternary\":{\"bgcolor\":\"#E5ECF6\",\"aaxis\":{\"gridcolor\":\"white\",\"linecolor\":\"white\",\"ticks\":\"\"},\"baxis\":{\"gridcolor\":\"white\",\"linecolor\":\"white\",\"ticks\":\"\"},\"caxis\":{\"gridcolor\":\"white\",\"linecolor\":\"white\",\"ticks\":\"\"}},\"coloraxis\":{\"colorbar\":{\"outlinewidth\":0,\"ticks\":\"\"}},\"colorscale\":{\"sequential\":[[0.0,\"#0d0887\"],[0.1111111111111111,\"#46039f\"],[0.2222222222222222,\"#7201a8\"],[0.3333333333333333,\"#9c179e\"],[0.4444444444444444,\"#bd3786\"],[0.5555555555555556,\"#d8576b\"],[0.6666666666666666,\"#ed7953\"],[0.7777777777777778,\"#fb9f3a\"],[0.8888888888888888,\"#fdca26\"],[1.0,\"#f0f921\"]],\"sequentialminus\":[[0.0,\"#0d0887\"],[0.1111111111111111,\"#46039f\"],[0.2222222222222222,\"#7201a8\"],[0.3333333333333333,\"#9c179e\"],[0.4444444444444444,\"#bd3786\"],[0.5555555555555556,\"#d8576b\"],[0.6666666666666666,\"#ed7953\"],[0.7777777777777778,\"#fb9f3a\"],[0.8888888888888888,\"#fdca26\"],[1.0,\"#f0f921\"]],\"diverging\":[[0,\"#8e0152\"],[0.1,\"#c51b7d\"],[0.2,\"#de77ae\"],[0.3,\"#f1b6da\"],[0.4,\"#fde0ef\"],[0.5,\"#f7f7f7\"],[0.6,\"#e6f5d0\"],[0.7,\"#b8e186\"],[0.8,\"#7fbc41\"],[0.9,\"#4d9221\"],[1,\"#276419\"]]},\"xaxis\":{\"gridcolor\":\"white\",\"linecolor\":\"white\",\"ticks\":\"\",\"title\":{\"standoff\":15},\"zerolinecolor\":\"white\",\"automargin\":true,\"zerolinewidth\":2},\"yaxis\":{\"gridcolor\":\"white\",\"linecolor\":\"white\",\"ticks\":\"\",\"title\":{\"standoff\":15},\"zerolinecolor\":\"white\",\"automargin\":true,\"zerolinewidth\":2},\"scene\":{\"xaxis\":{\"backgroundcolor\":\"#E5ECF6\",\"gridcolor\":\"white\",\"linecolor\":\"white\",\"showbackground\":true,\"ticks\":\"\",\"zerolinecolor\":\"white\",\"gridwidth\":2},\"yaxis\":{\"backgroundcolor\":\"#E5ECF6\",\"gridcolor\":\"white\",\"linecolor\":\"white\",\"showbackground\":true,\"ticks\":\"\",\"zerolinecolor\":\"white\",\"gridwidth\":2},\"zaxis\":{\"backgroundcolor\":\"#E5ECF6\",\"gridcolor\":\"white\",\"linecolor\":\"white\",\"showbackground\":true,\"ticks\":\"\",\"zerolinecolor\":\"white\",\"gridwidth\":2}},\"shapedefaults\":{\"line\":{\"color\":\"#2a3f5f\"}},\"annotationdefaults\":{\"arrowcolor\":\"#2a3f5f\",\"arrowhead\":0,\"arrowwidth\":1},\"geo\":{\"bgcolor\":\"white\",\"landcolor\":\"#E5ECF6\",\"subunitcolor\":\"white\",\"showland\":true,\"showlakes\":true,\"lakecolor\":\"white\"},\"title\":{\"x\":0.05},\"mapbox\":{\"style\":\"light\"}}},\"scene\":{\"domain\":{\"x\":[0.0,1.0],\"y\":[0.0,1.0]},\"xaxis\":{\"title\":{\"text\":\"feature1\"}},\"yaxis\":{\"title\":{\"text\":\"feature2\"}},\"zaxis\":{\"title\":{\"text\":\"target\"}}},\"legend\":{\"tracegroupgap\":0},\"margin\":{\"t\":60}},                        {\"responsive\": true}                    ).then(function(){\n",
       "                            \n",
       "var gd = document.getElementById('baf3d2b4-98d0-486b-89a1-639fc672be91');\n",
       "var x = new MutationObserver(function (mutations, observer) {{\n",
       "        var display = window.getComputedStyle(gd).display;\n",
       "        if (!display || display === 'none') {{\n",
       "            console.log([gd, 'removed!']);\n",
       "            Plotly.purge(gd);\n",
       "            observer.disconnect();\n",
       "        }}\n",
       "}});\n",
       "\n",
       "// Listen for the removal of the full notebook cells\n",
       "var notebookContainer = gd.closest('#notebook-container');\n",
       "if (notebookContainer) {{\n",
       "    x.observe(notebookContainer, {childList: true});\n",
       "}}\n",
       "\n",
       "// Listen for the clearing of the current output cell\n",
       "var outputEl = gd.closest('.output');\n",
       "if (outputEl) {{\n",
       "    x.observe(outputEl, {childList: true});\n",
       "}}\n",
       "\n",
       "                        })                };                });            </script>        </div>"
      ]
     },
     "metadata": {},
     "output_type": "display_data"
    }
   ],
   "source": [
    "fig = px.scatter_3d(df, x='feature1', y='feature2', z='target')\n",
    "\n",
    "fig.add_trace(go.Surface(x = x, y = y, z =z ))\n",
    "\n",
    "fig.show()"
   ]
  },
  {
   "cell_type": "code",
   "execution_count": 41,
   "id": "b837f3fb-421c-4846-a941-a755f2691c1b",
   "metadata": {},
   "outputs": [
    {
     "data": {
      "text/plain": [
       "array([28.10549038, 79.58376179])"
      ]
     },
     "execution_count": 41,
     "metadata": {},
     "output_type": "execute_result"
    }
   ],
   "source": [
    "lr.coef_"
   ]
  },
  {
   "cell_type": "code",
   "execution_count": null,
   "id": "2226b3c4-6e15-4991-95c4-bb5f08f8652b",
   "metadata": {},
   "outputs": [],
   "source": []
  }
 ],
 "metadata": {
  "kernelspec": {
   "display_name": "Python 3 (ipykernel)",
   "language": "python",
   "name": "python3"
  },
  "language_info": {
   "codemirror_mode": {
    "name": "ipython",
    "version": 3
   },
   "file_extension": ".py",
   "mimetype": "text/x-python",
   "name": "python",
   "nbconvert_exporter": "python",
   "pygments_lexer": "ipython3",
   "version": "3.11.7"
  }
 },
 "nbformat": 4,
 "nbformat_minor": 5
}
