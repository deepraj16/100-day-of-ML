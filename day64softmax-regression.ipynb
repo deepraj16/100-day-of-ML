{
 "cells": [
  {
   "cell_type": "code",
   "execution_count": 1,
   "id": "ccdaacfe-4b2a-49aa-ab33-9619cbf6ad7c",
   "metadata": {},
   "outputs": [],
   "source": [
    "import pandas as pd \n",
    "import numpy as np \n",
    "from sklearn.model_selection import train_test_split\n",
    "from sklearn.linear_model import LogisticRegression \n",
    "from sklearn.metrics import classification_report"
   ]
  },
  {
   "cell_type": "code",
   "execution_count": 2,
   "id": "f007ef00-a177-4282-818c-fb9958c904af",
   "metadata": {},
   "outputs": [],
   "source": [
    "df = pd.read_csv('iris.csv.xls')"
   ]
  },
  {
   "cell_type": "code",
   "execution_count": 3,
   "id": "e239787b-35f7-4040-86b1-7c9d2d9bb408",
   "metadata": {},
   "outputs": [
    {
     "data": {
      "text/html": [
       "<div>\n",
       "<style scoped>\n",
       "    .dataframe tbody tr th:only-of-type {\n",
       "        vertical-align: middle;\n",
       "    }\n",
       "\n",
       "    .dataframe tbody tr th {\n",
       "        vertical-align: top;\n",
       "    }\n",
       "\n",
       "    .dataframe thead th {\n",
       "        text-align: right;\n",
       "    }\n",
       "</style>\n",
       "<table border=\"1\" class=\"dataframe\">\n",
       "  <thead>\n",
       "    <tr style=\"text-align: right;\">\n",
       "      <th></th>\n",
       "      <th>sepal_length</th>\n",
       "      <th>sepal_width</th>\n",
       "      <th>petal_length</th>\n",
       "      <th>petal_width</th>\n",
       "      <th>species</th>\n",
       "    </tr>\n",
       "  </thead>\n",
       "  <tbody>\n",
       "    <tr>\n",
       "      <th>122</th>\n",
       "      <td>7.7</td>\n",
       "      <td>2.8</td>\n",
       "      <td>6.7</td>\n",
       "      <td>2.0</td>\n",
       "      <td>virginica</td>\n",
       "    </tr>\n",
       "    <tr>\n",
       "      <th>49</th>\n",
       "      <td>5.0</td>\n",
       "      <td>3.3</td>\n",
       "      <td>1.4</td>\n",
       "      <td>0.2</td>\n",
       "      <td>setosa</td>\n",
       "    </tr>\n",
       "    <tr>\n",
       "      <th>149</th>\n",
       "      <td>5.9</td>\n",
       "      <td>3.0</td>\n",
       "      <td>5.1</td>\n",
       "      <td>1.8</td>\n",
       "      <td>virginica</td>\n",
       "    </tr>\n",
       "    <tr>\n",
       "      <th>34</th>\n",
       "      <td>4.9</td>\n",
       "      <td>3.1</td>\n",
       "      <td>1.5</td>\n",
       "      <td>0.1</td>\n",
       "      <td>setosa</td>\n",
       "    </tr>\n",
       "    <tr>\n",
       "      <th>76</th>\n",
       "      <td>6.8</td>\n",
       "      <td>2.8</td>\n",
       "      <td>4.8</td>\n",
       "      <td>1.4</td>\n",
       "      <td>versicolor</td>\n",
       "    </tr>\n",
       "    <tr>\n",
       "      <th>70</th>\n",
       "      <td>5.9</td>\n",
       "      <td>3.2</td>\n",
       "      <td>4.8</td>\n",
       "      <td>1.8</td>\n",
       "      <td>versicolor</td>\n",
       "    </tr>\n",
       "    <tr>\n",
       "      <th>104</th>\n",
       "      <td>6.5</td>\n",
       "      <td>3.0</td>\n",
       "      <td>5.8</td>\n",
       "      <td>2.2</td>\n",
       "      <td>virginica</td>\n",
       "    </tr>\n",
       "    <tr>\n",
       "      <th>105</th>\n",
       "      <td>7.6</td>\n",
       "      <td>3.0</td>\n",
       "      <td>6.6</td>\n",
       "      <td>2.1</td>\n",
       "      <td>virginica</td>\n",
       "    </tr>\n",
       "    <tr>\n",
       "      <th>7</th>\n",
       "      <td>5.0</td>\n",
       "      <td>3.4</td>\n",
       "      <td>1.5</td>\n",
       "      <td>0.2</td>\n",
       "      <td>setosa</td>\n",
       "    </tr>\n",
       "    <tr>\n",
       "      <th>71</th>\n",
       "      <td>6.1</td>\n",
       "      <td>2.8</td>\n",
       "      <td>4.0</td>\n",
       "      <td>1.3</td>\n",
       "      <td>versicolor</td>\n",
       "    </tr>\n",
       "    <tr>\n",
       "      <th>133</th>\n",
       "      <td>6.3</td>\n",
       "      <td>2.8</td>\n",
       "      <td>5.1</td>\n",
       "      <td>1.5</td>\n",
       "      <td>virginica</td>\n",
       "    </tr>\n",
       "    <tr>\n",
       "      <th>41</th>\n",
       "      <td>4.5</td>\n",
       "      <td>2.3</td>\n",
       "      <td>1.3</td>\n",
       "      <td>0.3</td>\n",
       "      <td>setosa</td>\n",
       "    </tr>\n",
       "  </tbody>\n",
       "</table>\n",
       "</div>"
      ],
      "text/plain": [
       "     sepal_length  sepal_width  petal_length  petal_width     species\n",
       "122           7.7          2.8           6.7          2.0   virginica\n",
       "49            5.0          3.3           1.4          0.2      setosa\n",
       "149           5.9          3.0           5.1          1.8   virginica\n",
       "34            4.9          3.1           1.5          0.1      setosa\n",
       "76            6.8          2.8           4.8          1.4  versicolor\n",
       "70            5.9          3.2           4.8          1.8  versicolor\n",
       "104           6.5          3.0           5.8          2.2   virginica\n",
       "105           7.6          3.0           6.6          2.1   virginica\n",
       "7             5.0          3.4           1.5          0.2      setosa\n",
       "71            6.1          2.8           4.0          1.3  versicolor\n",
       "133           6.3          2.8           5.1          1.5   virginica\n",
       "41            4.5          2.3           1.3          0.3      setosa"
      ]
     },
     "execution_count": 3,
     "metadata": {},
     "output_type": "execute_result"
    }
   ],
   "source": [
    "df.sample(12)"
   ]
  },
  {
   "cell_type": "code",
   "execution_count": 4,
   "id": "3b667b54-a33d-4332-98c8-ee24cbfee49c",
   "metadata": {},
   "outputs": [],
   "source": [
    "from sklearn.preprocessing import LabelEncoder \n",
    "lab = LabelEncoder()\n",
    "df['species']=lab.fit_transform(df['species'])"
   ]
  },
  {
   "cell_type": "code",
   "execution_count": 5,
   "id": "605fbb3a-51e0-4017-8542-8d99f1b5c823",
   "metadata": {},
   "outputs": [
    {
     "data": {
      "text/html": [
       "<div>\n",
       "<style scoped>\n",
       "    .dataframe tbody tr th:only-of-type {\n",
       "        vertical-align: middle;\n",
       "    }\n",
       "\n",
       "    .dataframe tbody tr th {\n",
       "        vertical-align: top;\n",
       "    }\n",
       "\n",
       "    .dataframe thead th {\n",
       "        text-align: right;\n",
       "    }\n",
       "</style>\n",
       "<table border=\"1\" class=\"dataframe\">\n",
       "  <thead>\n",
       "    <tr style=\"text-align: right;\">\n",
       "      <th></th>\n",
       "      <th>sepal_length</th>\n",
       "      <th>sepal_width</th>\n",
       "      <th>petal_length</th>\n",
       "      <th>petal_width</th>\n",
       "      <th>species</th>\n",
       "    </tr>\n",
       "  </thead>\n",
       "  <tbody>\n",
       "    <tr>\n",
       "      <th>89</th>\n",
       "      <td>5.5</td>\n",
       "      <td>2.5</td>\n",
       "      <td>4.0</td>\n",
       "      <td>1.3</td>\n",
       "      <td>1</td>\n",
       "    </tr>\n",
       "    <tr>\n",
       "      <th>102</th>\n",
       "      <td>7.1</td>\n",
       "      <td>3.0</td>\n",
       "      <td>5.9</td>\n",
       "      <td>2.1</td>\n",
       "      <td>2</td>\n",
       "    </tr>\n",
       "    <tr>\n",
       "      <th>121</th>\n",
       "      <td>5.6</td>\n",
       "      <td>2.8</td>\n",
       "      <td>4.9</td>\n",
       "      <td>2.0</td>\n",
       "      <td>2</td>\n",
       "    </tr>\n",
       "  </tbody>\n",
       "</table>\n",
       "</div>"
      ],
      "text/plain": [
       "     sepal_length  sepal_width  petal_length  petal_width  species\n",
       "89            5.5          2.5           4.0          1.3        1\n",
       "102           7.1          3.0           5.9          2.1        2\n",
       "121           5.6          2.8           4.9          2.0        2"
      ]
     },
     "execution_count": 5,
     "metadata": {},
     "output_type": "execute_result"
    }
   ],
   "source": [
    "df.sample(3)"
   ]
  },
  {
   "cell_type": "code",
   "execution_count": 7,
   "id": "dbb14c43-7586-4c7a-88b0-6bf1c9510e91",
   "metadata": {},
   "outputs": [
    {
     "data": {
      "text/plain": [
       "103    2\n",
       "116    2\n",
       "22     0\n",
       "93     1\n",
       "91     1\n",
       "Name: species, dtype: int32"
      ]
     },
     "execution_count": 7,
     "metadata": {},
     "output_type": "execute_result"
    }
   ],
   "source": [
    "df['species'].sample(5)"
   ]
  },
  {
   "cell_type": "code",
   "execution_count": 24,
   "id": "fa26c779-9538-430d-be88-dc07cccc2c0f",
   "metadata": {},
   "outputs": [],
   "source": [
    "df = df[['sepal_length','petal_length','species']]"
   ]
  },
  {
   "cell_type": "code",
   "execution_count": 25,
   "id": "644dd4c4-0e45-4f6b-88db-b4bb2f9a7ae2",
   "metadata": {},
   "outputs": [],
   "source": [
    "import seaborn as sns\n",
    "import matplotlib as plt   \n",
    "X=df.iloc[:,[0,1]]\n",
    "y=df['species']\n"
   ]
  },
  {
   "cell_type": "code",
   "execution_count": 26,
   "id": "012d81af-6d2e-4fed-beab-e822862e240c",
   "metadata": {},
   "outputs": [],
   "source": [
    "from sklearn.model_selection import train_test_split\n",
    "X_train,X_test,y_train,y_test = train_test_split(X,y,test_size=0.2,random_state=42)"
   ]
  },
  {
   "cell_type": "code",
   "execution_count": 27,
   "id": "ac1715c0-4bb7-4adc-8e94-17fa20e6ba6d",
   "metadata": {},
   "outputs": [],
   "source": [
    "from sklearn.linear_model import LogisticRegression\n",
    "log = LogisticRegression(multi_class='multinomial')"
   ]
  },
  {
   "cell_type": "code",
   "execution_count": 28,
   "id": "200ac34f-1cce-491f-af3c-e860e7653d7d",
   "metadata": {},
   "outputs": [
    {
     "data": {
      "text/html": [
       "<style>#sk-container-id-2 {color: black;background-color: white;}#sk-container-id-2 pre{padding: 0;}#sk-container-id-2 div.sk-toggleable {background-color: white;}#sk-container-id-2 label.sk-toggleable__label {cursor: pointer;display: block;width: 100%;margin-bottom: 0;padding: 0.3em;box-sizing: border-box;text-align: center;}#sk-container-id-2 label.sk-toggleable__label-arrow:before {content: \"▸\";float: left;margin-right: 0.25em;color: #696969;}#sk-container-id-2 label.sk-toggleable__label-arrow:hover:before {color: black;}#sk-container-id-2 div.sk-estimator:hover label.sk-toggleable__label-arrow:before {color: black;}#sk-container-id-2 div.sk-toggleable__content {max-height: 0;max-width: 0;overflow: hidden;text-align: left;background-color: #f0f8ff;}#sk-container-id-2 div.sk-toggleable__content pre {margin: 0.2em;color: black;border-radius: 0.25em;background-color: #f0f8ff;}#sk-container-id-2 input.sk-toggleable__control:checked~div.sk-toggleable__content {max-height: 200px;max-width: 100%;overflow: auto;}#sk-container-id-2 input.sk-toggleable__control:checked~label.sk-toggleable__label-arrow:before {content: \"▾\";}#sk-container-id-2 div.sk-estimator input.sk-toggleable__control:checked~label.sk-toggleable__label {background-color: #d4ebff;}#sk-container-id-2 div.sk-label input.sk-toggleable__control:checked~label.sk-toggleable__label {background-color: #d4ebff;}#sk-container-id-2 input.sk-hidden--visually {border: 0;clip: rect(1px 1px 1px 1px);clip: rect(1px, 1px, 1px, 1px);height: 1px;margin: -1px;overflow: hidden;padding: 0;position: absolute;width: 1px;}#sk-container-id-2 div.sk-estimator {font-family: monospace;background-color: #f0f8ff;border: 1px dotted black;border-radius: 0.25em;box-sizing: border-box;margin-bottom: 0.5em;}#sk-container-id-2 div.sk-estimator:hover {background-color: #d4ebff;}#sk-container-id-2 div.sk-parallel-item::after {content: \"\";width: 100%;border-bottom: 1px solid gray;flex-grow: 1;}#sk-container-id-2 div.sk-label:hover label.sk-toggleable__label {background-color: #d4ebff;}#sk-container-id-2 div.sk-serial::before {content: \"\";position: absolute;border-left: 1px solid gray;box-sizing: border-box;top: 0;bottom: 0;left: 50%;z-index: 0;}#sk-container-id-2 div.sk-serial {display: flex;flex-direction: column;align-items: center;background-color: white;padding-right: 0.2em;padding-left: 0.2em;position: relative;}#sk-container-id-2 div.sk-item {position: relative;z-index: 1;}#sk-container-id-2 div.sk-parallel {display: flex;align-items: stretch;justify-content: center;background-color: white;position: relative;}#sk-container-id-2 div.sk-item::before, #sk-container-id-2 div.sk-parallel-item::before {content: \"\";position: absolute;border-left: 1px solid gray;box-sizing: border-box;top: 0;bottom: 0;left: 50%;z-index: -1;}#sk-container-id-2 div.sk-parallel-item {display: flex;flex-direction: column;z-index: 1;position: relative;background-color: white;}#sk-container-id-2 div.sk-parallel-item:first-child::after {align-self: flex-end;width: 50%;}#sk-container-id-2 div.sk-parallel-item:last-child::after {align-self: flex-start;width: 50%;}#sk-container-id-2 div.sk-parallel-item:only-child::after {width: 0;}#sk-container-id-2 div.sk-dashed-wrapped {border: 1px dashed gray;margin: 0 0.4em 0.5em 0.4em;box-sizing: border-box;padding-bottom: 0.4em;background-color: white;}#sk-container-id-2 div.sk-label label {font-family: monospace;font-weight: bold;display: inline-block;line-height: 1.2em;}#sk-container-id-2 div.sk-label-container {text-align: center;}#sk-container-id-2 div.sk-container {/* jupyter's `normalize.less` sets `[hidden] { display: none; }` but bootstrap.min.css set `[hidden] { display: none !important; }` so we also need the `!important` here to be able to override the default hidden behavior on the sphinx rendered scikit-learn.org. See: https://github.com/scikit-learn/scikit-learn/issues/21755 */display: inline-block !important;position: relative;}#sk-container-id-2 div.sk-text-repr-fallback {display: none;}</style><div id=\"sk-container-id-2\" class=\"sk-top-container\"><div class=\"sk-text-repr-fallback\"><pre>LogisticRegression(multi_class=&#x27;multinomial&#x27;)</pre><b>In a Jupyter environment, please rerun this cell to show the HTML representation or trust the notebook. <br />On GitHub, the HTML representation is unable to render, please try loading this page with nbviewer.org.</b></div><div class=\"sk-container\" hidden><div class=\"sk-item\"><div class=\"sk-estimator sk-toggleable\"><input class=\"sk-toggleable__control sk-hidden--visually\" id=\"sk-estimator-id-2\" type=\"checkbox\" checked><label for=\"sk-estimator-id-2\" class=\"sk-toggleable__label sk-toggleable__label-arrow\">LogisticRegression</label><div class=\"sk-toggleable__content\"><pre>LogisticRegression(multi_class=&#x27;multinomial&#x27;)</pre></div></div></div></div></div>"
      ],
      "text/plain": [
       "LogisticRegression(multi_class='multinomial')"
      ]
     },
     "execution_count": 28,
     "metadata": {},
     "output_type": "execute_result"
    }
   ],
   "source": [
    "log.fit(X_train,y_train)"
   ]
  },
  {
   "cell_type": "code",
   "execution_count": 29,
   "id": "75ef76c0-16b9-43d8-a179-efeb7773a841",
   "metadata": {},
   "outputs": [],
   "source": [
    "y_hat=log.predict(X_test)"
   ]
  },
  {
   "cell_type": "code",
   "execution_count": 33,
   "id": "769215b5-8971-4754-b111-57af93cb245e",
   "metadata": {},
   "outputs": [
    {
     "data": {
      "text/plain": [
       "1.0"
      ]
     },
     "execution_count": 33,
     "metadata": {},
     "output_type": "execute_result"
    }
   ],
   "source": [
    "from sklearn.metrics import r2_score,accuracy_score,confusion_matrix\n",
    "r2_score(y_test,y_hat)"
   ]
  },
  {
   "cell_type": "code",
   "execution_count": 34,
   "id": "05091a71-94e2-4546-8ab3-f9e6e70bbaf0",
   "metadata": {},
   "outputs": [
    {
     "name": "stdout",
     "output_type": "stream",
     "text": [
      "1.0\n"
     ]
    }
   ],
   "source": [
    "print(accuracy_score(y_test,y_hat))"
   ]
  },
  {
   "cell_type": "code",
   "execution_count": 36,
   "id": "892c0fbe-3681-44f3-8df4-25449e6035d4",
   "metadata": {},
   "outputs": [
    {
     "data": {
      "text/html": [
       "<div>\n",
       "<style scoped>\n",
       "    .dataframe tbody tr th:only-of-type {\n",
       "        vertical-align: middle;\n",
       "    }\n",
       "\n",
       "    .dataframe tbody tr th {\n",
       "        vertical-align: top;\n",
       "    }\n",
       "\n",
       "    .dataframe thead th {\n",
       "        text-align: right;\n",
       "    }\n",
       "</style>\n",
       "<table border=\"1\" class=\"dataframe\">\n",
       "  <thead>\n",
       "    <tr style=\"text-align: right;\">\n",
       "      <th></th>\n",
       "      <th>0</th>\n",
       "      <th>1</th>\n",
       "      <th>2</th>\n",
       "    </tr>\n",
       "  </thead>\n",
       "  <tbody>\n",
       "    <tr>\n",
       "      <th>0</th>\n",
       "      <td>10</td>\n",
       "      <td>0</td>\n",
       "      <td>0</td>\n",
       "    </tr>\n",
       "    <tr>\n",
       "      <th>1</th>\n",
       "      <td>0</td>\n",
       "      <td>9</td>\n",
       "      <td>0</td>\n",
       "    </tr>\n",
       "    <tr>\n",
       "      <th>2</th>\n",
       "      <td>0</td>\n",
       "      <td>0</td>\n",
       "      <td>11</td>\n",
       "    </tr>\n",
       "  </tbody>\n",
       "</table>\n",
       "</div>"
      ],
      "text/plain": [
       "    0  1   2\n",
       "0  10  0   0\n",
       "1   0  9   0\n",
       "2   0  0  11"
      ]
     },
     "execution_count": 36,
     "metadata": {},
     "output_type": "execute_result"
    }
   ],
   "source": [
    "pd.DataFrame(confusion_matrix(y_test,y_hat))"
   ]
  },
  {
   "cell_type": "code",
   "execution_count": 37,
   "id": "dd0c515d-9c27-45a4-a1ac-0507548aa419",
   "metadata": {},
   "outputs": [
    {
     "ename": "ModuleNotFoundError",
     "evalue": "No module named 'mlxtend'",
     "output_type": "error",
     "traceback": [
      "\u001b[1;31m---------------------------------------------------------------------------\u001b[0m",
      "\u001b[1;31mModuleNotFoundError\u001b[0m                       Traceback (most recent call last)",
      "Cell \u001b[1;32mIn[37], line 1\u001b[0m\n\u001b[1;32m----> 1\u001b[0m \u001b[38;5;28;01mfrom\u001b[39;00m \u001b[38;5;21;01mmlxtend\u001b[39;00m\u001b[38;5;21;01m.\u001b[39;00m\u001b[38;5;21;01mplotting\u001b[39;00m \u001b[38;5;28;01mimport\u001b[39;00m plot_decision_regions\n",
      "\u001b[1;31mModuleNotFoundError\u001b[0m: No module named 'mlxtend'"
     ]
    }
   ],
   "source": [
    "from mlxtend.plotting import plot_decision_regions"
   ]
  },
  {
   "cell_type": "code",
   "execution_count": 38,
   "id": "e9c924c9-46f3-4ea2-b856-a50cec15ec60",
   "metadata": {},
   "outputs": [
    {
     "name": "stdout",
     "output_type": "stream",
     "text": [
      "Collecting mlxtend\n",
      "  Downloading mlxtend-0.23.1-py3-none-any.whl.metadata (7.3 kB)\n",
      "Requirement already satisfied: scipy>=1.2.1 in c:\\users\\raj\\anaconda3\\lib\\site-packages (from mlxtend) (1.10.1)\n",
      "Requirement already satisfied: numpy>=1.16.2 in c:\\users\\raj\\anaconda3\\lib\\site-packages (from mlxtend) (1.24.3)\n",
      "Requirement already satisfied: pandas>=0.24.2 in c:\\users\\raj\\anaconda3\\lib\\site-packages (from mlxtend) (2.1.4)\n",
      "Requirement already satisfied: scikit-learn>=1.0.2 in c:\\users\\raj\\anaconda3\\lib\\site-packages (from mlxtend) (1.2.2)\n",
      "Requirement already satisfied: matplotlib>=3.0.0 in c:\\users\\raj\\anaconda3\\lib\\site-packages (from mlxtend) (3.8.0)\n",
      "Requirement already satisfied: joblib>=0.13.2 in c:\\users\\raj\\anaconda3\\lib\\site-packages (from mlxtend) (1.1.1)\n",
      "Requirement already satisfied: contourpy>=1.0.1 in c:\\users\\raj\\anaconda3\\lib\\site-packages (from matplotlib>=3.0.0->mlxtend) (1.2.0)\n",
      "Requirement already satisfied: cycler>=0.10 in c:\\users\\raj\\anaconda3\\lib\\site-packages (from matplotlib>=3.0.0->mlxtend) (0.11.0)\n",
      "Requirement already satisfied: fonttools>=4.22.0 in c:\\users\\raj\\anaconda3\\lib\\site-packages (from matplotlib>=3.0.0->mlxtend) (4.25.0)\n",
      "Requirement already satisfied: kiwisolver>=1.0.1 in c:\\users\\raj\\anaconda3\\lib\\site-packages (from matplotlib>=3.0.0->mlxtend) (1.4.4)\n",
      "Requirement already satisfied: packaging>=20.0 in c:\\users\\raj\\anaconda3\\lib\\site-packages (from matplotlib>=3.0.0->mlxtend) (23.1)\n",
      "Requirement already satisfied: pillow>=6.2.0 in c:\\users\\raj\\anaconda3\\lib\\site-packages (from matplotlib>=3.0.0->mlxtend) (10.2.0)\n",
      "Requirement already satisfied: pyparsing>=2.3.1 in c:\\users\\raj\\anaconda3\\lib\\site-packages (from matplotlib>=3.0.0->mlxtend) (3.0.9)\n",
      "Requirement already satisfied: python-dateutil>=2.7 in c:\\users\\raj\\anaconda3\\lib\\site-packages (from matplotlib>=3.0.0->mlxtend) (2.8.2)\n",
      "Requirement already satisfied: pytz>=2020.1 in c:\\users\\raj\\anaconda3\\lib\\site-packages (from pandas>=0.24.2->mlxtend) (2023.3.post1)\n",
      "Requirement already satisfied: tzdata>=2022.1 in c:\\users\\raj\\anaconda3\\lib\\site-packages (from pandas>=0.24.2->mlxtend) (2023.3)\n",
      "Requirement already satisfied: threadpoolctl>=2.0.0 in c:\\users\\raj\\anaconda3\\lib\\site-packages (from scikit-learn>=1.0.2->mlxtend) (2.2.0)\n",
      "Requirement already satisfied: six>=1.5 in c:\\users\\raj\\anaconda3\\lib\\site-packages (from python-dateutil>=2.7->matplotlib>=3.0.0->mlxtend) (1.16.0)\n",
      "Downloading mlxtend-0.23.1-py3-none-any.whl (1.4 MB)\n",
      "   ---------------------------------------- 0.0/1.4 MB ? eta -:--:--\n",
      "   ---------------------------------------- 0.0/1.4 MB ? eta -:--:--\n",
      "   ---------------------------------------- 0.0/1.4 MB ? eta -:--:--\n",
      "   ---------------------------------------- 0.0/1.4 MB ? eta -:--:--\n",
      "   ---------------------------------------- 0.0/1.4 MB ? eta -:--:--\n",
      "   ---------------------------------------- 0.0/1.4 MB ? eta -:--:--\n",
      "   - -------------------------------------- 0.0/1.4 MB 653.6 kB/s eta 0:00:03\n",
      "   - -------------------------------------- 0.0/1.4 MB 653.6 kB/s eta 0:00:03\n",
      "   - -------------------------------------- 0.1/1.4 MB 435.7 kB/s eta 0:00:04\n",
      "   -- ------------------------------------- 0.1/1.4 MB 476.3 kB/s eta 0:00:03\n",
      "   -- ------------------------------------- 0.1/1.4 MB 476.3 kB/s eta 0:00:03\n",
      "   --- ------------------------------------ 0.1/1.4 MB 423.5 kB/s eta 0:00:04\n",
      "   --- ------------------------------------ 0.1/1.4 MB 423.5 kB/s eta 0:00:04\n",
      "   ---- ----------------------------------- 0.2/1.4 MB 398.2 kB/s eta 0:00:04\n",
      "   ---- ----------------------------------- 0.2/1.4 MB 398.2 kB/s eta 0:00:04\n",
      "   ---- ----------------------------------- 0.2/1.4 MB 398.2 kB/s eta 0:00:04\n",
      "   ---- ----------------------------------- 0.2/1.4 MB 398.2 kB/s eta 0:00:04\n",
      "   ----- ---------------------------------- 0.2/1.4 MB 345.6 kB/s eta 0:00:04\n",
      "   ----- ---------------------------------- 0.2/1.4 MB 345.6 kB/s eta 0:00:04\n",
      "   ----- ---------------------------------- 0.2/1.4 MB 345.6 kB/s eta 0:00:04\n",
      "   ----- ---------------------------------- 0.2/1.4 MB 345.6 kB/s eta 0:00:04\n",
      "   ----- ---------------------------------- 0.2/1.4 MB 345.6 kB/s eta 0:00:04\n",
      "   ----- ---------------------------------- 0.2/1.4 MB 345.6 kB/s eta 0:00:04\n",
      "   ------ --------------------------------- 0.2/1.4 MB 262.0 kB/s eta 0:00:05\n",
      "   ------- -------------------------------- 0.3/1.4 MB 275.8 kB/s eta 0:00:05\n",
      "   ------- -------------------------------- 0.3/1.4 MB 282.2 kB/s eta 0:00:05\n",
      "   ------- -------------------------------- 0.3/1.4 MB 285.3 kB/s eta 0:00:05\n",
      "   ------- -------------------------------- 0.3/1.4 MB 285.3 kB/s eta 0:00:05\n",
      "   ------- -------------------------------- 0.3/1.4 MB 285.3 kB/s eta 0:00:05\n",
      "   ------- -------------------------------- 0.3/1.4 MB 285.3 kB/s eta 0:00:05\n",
      "   -------- ------------------------------- 0.3/1.4 MB 260.3 kB/s eta 0:00:05\n",
      "   -------- ------------------------------- 0.3/1.4 MB 260.3 kB/s eta 0:00:05\n",
      "   -------- ------------------------------- 0.3/1.4 MB 260.3 kB/s eta 0:00:05\n",
      "   -------- ------------------------------- 0.3/1.4 MB 239.6 kB/s eta 0:00:05\n",
      "   -------- ------------------------------- 0.3/1.4 MB 239.6 kB/s eta 0:00:05\n",
      "   -------- ------------------------------- 0.3/1.4 MB 239.6 kB/s eta 0:00:05\n",
      "   -------- ------------------------------- 0.3/1.4 MB 239.6 kB/s eta 0:00:05\n",
      "   -------- ------------------------------- 0.3/1.4 MB 239.6 kB/s eta 0:00:05\n",
      "   -------- ------------------------------- 0.3/1.4 MB 239.6 kB/s eta 0:00:05\n",
      "   --------- ------------------------------ 0.3/1.4 MB 207.7 kB/s eta 0:00:06\n",
      "   --------- ------------------------------ 0.3/1.4 MB 209.9 kB/s eta 0:00:06\n",
      "   --------- ------------------------------ 0.3/1.4 MB 209.9 kB/s eta 0:00:06\n",
      "   ---------- ----------------------------- 0.4/1.4 MB 210.5 kB/s eta 0:00:06\n",
      "   ---------- ----------------------------- 0.4/1.4 MB 212.6 kB/s eta 0:00:05\n",
      "   ---------- ----------------------------- 0.4/1.4 MB 212.6 kB/s eta 0:00:05\n",
      "   ----------- ---------------------------- 0.4/1.4 MB 207.5 kB/s eta 0:00:06\n",
      "   ----------- ---------------------------- 0.4/1.4 MB 207.5 kB/s eta 0:00:06\n",
      "   ----------- ---------------------------- 0.4/1.4 MB 209.7 kB/s eta 0:00:05\n",
      "   ----------- ---------------------------- 0.4/1.4 MB 209.7 kB/s eta 0:00:05\n",
      "   ----------- ---------------------------- 0.4/1.4 MB 209.7 kB/s eta 0:00:05\n",
      "   ----------- ---------------------------- 0.4/1.4 MB 202.0 kB/s eta 0:00:06\n",
      "   ----------- ---------------------------- 0.4/1.4 MB 202.0 kB/s eta 0:00:06\n",
      "   ------------ --------------------------- 0.5/1.4 MB 202.7 kB/s eta 0:00:05\n",
      "   ------------ --------------------------- 0.5/1.4 MB 202.7 kB/s eta 0:00:05\n",
      "   ------------ --------------------------- 0.5/1.4 MB 202.7 kB/s eta 0:00:05\n",
      "   ------------ --------------------------- 0.5/1.4 MB 197.9 kB/s eta 0:00:05\n",
      "   ------------ --------------------------- 0.5/1.4 MB 197.9 kB/s eta 0:00:05\n",
      "   ------------- -------------------------- 0.5/1.4 MB 195.7 kB/s eta 0:00:05\n",
      "   ------------- -------------------------- 0.5/1.4 MB 195.7 kB/s eta 0:00:05\n",
      "   ------------- -------------------------- 0.5/1.4 MB 196.6 kB/s eta 0:00:05\n",
      "   ------------- -------------------------- 0.5/1.4 MB 196.6 kB/s eta 0:00:05\n",
      "   ------------- -------------------------- 0.5/1.4 MB 196.6 kB/s eta 0:00:05\n",
      "   -------------- ------------------------- 0.5/1.4 MB 190.0 kB/s eta 0:00:05\n",
      "   -------------- ------------------------- 0.5/1.4 MB 190.0 kB/s eta 0:00:05\n",
      "   -------------- ------------------------- 0.5/1.4 MB 190.9 kB/s eta 0:00:05\n",
      "   -------------- ------------------------- 0.5/1.4 MB 189.3 kB/s eta 0:00:05\n",
      "   -------------- ------------------------- 0.5/1.4 MB 189.3 kB/s eta 0:00:05\n",
      "   --------------- ------------------------ 0.6/1.4 MB 190.2 kB/s eta 0:00:05\n",
      "   --------------- ------------------------ 0.6/1.4 MB 190.2 kB/s eta 0:00:05\n",
      "   ---------------- ----------------------- 0.6/1.4 MB 193.1 kB/s eta 0:00:05\n",
      "   ---------------- ----------------------- 0.6/1.4 MB 193.1 kB/s eta 0:00:05\n",
      "   ---------------- ----------------------- 0.6/1.4 MB 190.6 kB/s eta 0:00:05\n",
      "   ---------------- ----------------------- 0.6/1.4 MB 193.3 kB/s eta 0:00:05\n",
      "   ---------------- ----------------------- 0.6/1.4 MB 193.3 kB/s eta 0:00:05\n",
      "   ----------------- ---------------------- 0.6/1.4 MB 191.8 kB/s eta 0:00:05\n",
      "   ----------------- ---------------------- 0.6/1.4 MB 191.8 kB/s eta 0:00:05\n",
      "   ----------------- ---------------------- 0.6/1.4 MB 191.8 kB/s eta 0:00:05\n",
      "   ----------------- ---------------------- 0.6/1.4 MB 191.8 kB/s eta 0:00:05\n",
      "   ------------------ --------------------- 0.7/1.4 MB 194.5 kB/s eta 0:00:04\n",
      "   ------------------- -------------------- 0.7/1.4 MB 197.8 kB/s eta 0:00:04\n",
      "   ------------------- -------------------- 0.7/1.4 MB 197.8 kB/s eta 0:00:04\n",
      "   ------------------- -------------------- 0.7/1.4 MB 197.1 kB/s eta 0:00:04\n",
      "   -------------------- ------------------- 0.7/1.4 MB 198.6 kB/s eta 0:00:04\n",
      "   -------------------- ------------------- 0.7/1.4 MB 202.5 kB/s eta 0:00:04\n",
      "   -------------------- ------------------- 0.8/1.4 MB 201.9 kB/s eta 0:00:04\n",
      "   -------------------- ------------------- 0.8/1.4 MB 201.9 kB/s eta 0:00:04\n",
      "   --------------------- ------------------ 0.8/1.4 MB 203.1 kB/s eta 0:00:04\n",
      "   --------------------- ------------------ 0.8/1.4 MB 203.1 kB/s eta 0:00:04\n",
      "   --------------------- ------------------ 0.8/1.4 MB 201.6 kB/s eta 0:00:04\n",
      "   ---------------------- ----------------- 0.8/1.4 MB 204.4 kB/s eta 0:00:04\n",
      "   ---------------------- ----------------- 0.8/1.4 MB 204.4 kB/s eta 0:00:04\n",
      "   ---------------------- ----------------- 0.8/1.4 MB 204.0 kB/s eta 0:00:04\n",
      "   ---------------------- ----------------- 0.8/1.4 MB 204.0 kB/s eta 0:00:04\n",
      "   ----------------------- ---------------- 0.8/1.4 MB 202.6 kB/s eta 0:00:04\n",
      "   ----------------------- ---------------- 0.9/1.4 MB 203.7 kB/s eta 0:00:03\n",
      "   ----------------------- ---------------- 0.9/1.4 MB 203.7 kB/s eta 0:00:03\n",
      "   ------------------------ --------------- 0.9/1.4 MB 201.6 kB/s eta 0:00:03\n",
      "   ------------------------ --------------- 0.9/1.4 MB 201.6 kB/s eta 0:00:03\n",
      "   ------------------------ --------------- 0.9/1.4 MB 202.7 kB/s eta 0:00:03\n",
      "   ------------------------ --------------- 0.9/1.4 MB 202.7 kB/s eta 0:00:03\n",
      "   ------------------------- -------------- 0.9/1.4 MB 203.8 kB/s eta 0:00:03\n",
      "   ------------------------- -------------- 0.9/1.4 MB 203.2 kB/s eta 0:00:03\n",
      "   ------------------------- -------------- 0.9/1.4 MB 204.9 kB/s eta 0:00:03\n",
      "   ------------------------- -------------- 0.9/1.4 MB 204.9 kB/s eta 0:00:03\n",
      "   -------------------------- ------------- 1.0/1.4 MB 204.4 kB/s eta 0:00:03\n",
      "   -------------------------- ------------- 1.0/1.4 MB 205.3 kB/s eta 0:00:03\n",
      "   -------------------------- ------------- 1.0/1.4 MB 205.3 kB/s eta 0:00:03\n",
      "   --------------------------- ------------ 1.0/1.4 MB 206.3 kB/s eta 0:00:03\n",
      "   --------------------------- ------------ 1.0/1.4 MB 206.4 kB/s eta 0:00:03\n",
      "   --------------------------- ------------ 1.0/1.4 MB 206.4 kB/s eta 0:00:03\n",
      "   ---------------------------- ----------- 1.0/1.4 MB 207.3 kB/s eta 0:00:03\n",
      "   ---------------------------- ----------- 1.0/1.4 MB 208.0 kB/s eta 0:00:02\n",
      "   ----------------------------- ---------- 1.1/1.4 MB 209.5 kB/s eta 0:00:02\n",
      "   ----------------------------- ---------- 1.1/1.4 MB 211.0 kB/s eta 0:00:02\n",
      "   ----------------------------- ---------- 1.1/1.4 MB 211.0 kB/s eta 0:00:02\n",
      "   ----------------------------- ---------- 1.1/1.4 MB 211.0 kB/s eta 0:00:02\n",
      "   ----------------------------- ---------- 1.1/1.4 MB 211.0 kB/s eta 0:00:02\n",
      "   ----------------------------- ---------- 1.1/1.4 MB 211.0 kB/s eta 0:00:02\n",
      "   ----------------------------- ---------- 1.1/1.4 MB 211.0 kB/s eta 0:00:02\n",
      "   ----------------------------- ---------- 1.1/1.4 MB 211.0 kB/s eta 0:00:02\n",
      "   ------------------------------ --------- 1.1/1.4 MB 206.3 kB/s eta 0:00:02\n",
      "   ------------------------------- -------- 1.1/1.4 MB 207.7 kB/s eta 0:00:02\n",
      "   ------------------------------- -------- 1.1/1.4 MB 207.7 kB/s eta 0:00:02\n",
      "   ------------------------------- -------- 1.2/1.4 MB 207.9 kB/s eta 0:00:02\n",
      "   -------------------------------- ------- 1.2/1.4 MB 208.0 kB/s eta 0:00:02\n",
      "   -------------------------------- ------- 1.2/1.4 MB 209.9 kB/s eta 0:00:02\n",
      "   -------------------------------- ------- 1.2/1.4 MB 209.9 kB/s eta 0:00:02\n",
      "   --------------------------------- ------ 1.2/1.4 MB 208.8 kB/s eta 0:00:02\n",
      "   --------------------------------- ------ 1.2/1.4 MB 208.8 kB/s eta 0:00:02\n",
      "   --------------------------------- ------ 1.2/1.4 MB 209.0 kB/s eta 0:00:02\n",
      "   ---------------------------------- ----- 1.2/1.4 MB 209.7 kB/s eta 0:00:02\n",
      "   ---------------------------------- ----- 1.2/1.4 MB 209.7 kB/s eta 0:00:02\n",
      "   ---------------------------------- ----- 1.2/1.4 MB 209.8 kB/s eta 0:00:01\n",
      "   ----------------------------------- ---- 1.3/1.4 MB 211.6 kB/s eta 0:00:01\n",
      "   ----------------------------------- ---- 1.3/1.4 MB 210.5 kB/s eta 0:00:01\n",
      "   ----------------------------------- ---- 1.3/1.4 MB 212.3 kB/s eta 0:00:01\n",
      "   ------------------------------------ --- 1.3/1.4 MB 214.0 kB/s eta 0:00:01\n",
      "   ------------------------------------ --- 1.3/1.4 MB 214.0 kB/s eta 0:00:01\n",
      "   ------------------------------------ --- 1.3/1.4 MB 214.0 kB/s eta 0:00:01\n",
      "   ------------------------------------ --- 1.3/1.4 MB 214.0 kB/s eta 0:00:01\n",
      "   ------------------------------------ --- 1.3/1.4 MB 214.0 kB/s eta 0:00:01\n",
      "   ------------------------------------ --- 1.3/1.4 MB 214.0 kB/s eta 0:00:01\n",
      "   ------------------------------------- -- 1.4/1.4 MB 209.9 kB/s eta 0:00:01\n",
      "   ------------------------------------- -- 1.4/1.4 MB 209.9 kB/s eta 0:00:01\n",
      "   ------------------------------------- -- 1.4/1.4 MB 208.4 kB/s eta 0:00:01\n",
      "   -------------------------------------- - 1.4/1.4 MB 210.1 kB/s eta 0:00:01\n",
      "   -------------------------------------- - 1.4/1.4 MB 211.2 kB/s eta 0:00:01\n",
      "   -------------------------------------- - 1.4/1.4 MB 211.2 kB/s eta 0:00:01\n",
      "   -------------------------------------- - 1.4/1.4 MB 211.2 kB/s eta 0:00:01\n",
      "   -------------------------------------- - 1.4/1.4 MB 208.3 kB/s eta 0:00:01\n",
      "   -------------------------------------- - 1.4/1.4 MB 208.3 kB/s eta 0:00:01\n",
      "   ---------------------------------------  1.4/1.4 MB 208.9 kB/s eta 0:00:01\n",
      "   ---------------------------------------- 1.4/1.4 MB 209.4 kB/s eta 0:00:00\n",
      "Installing collected packages: mlxtend\n",
      "Successfully installed mlxtend-0.23.1\n"
     ]
    }
   ],
   "source": [
    "! pip install mlxtend"
   ]
  },
  {
   "cell_type": "code",
   "execution_count": 39,
   "id": "704f143e-b67b-421d-9d94-7e47bd241129",
   "metadata": {},
   "outputs": [],
   "source": [
    "from mlxtend.plotting import plot_decision_regions"
   ]
  },
  {
   "cell_type": "code",
   "execution_count": 48,
   "id": "59636bb6-aa47-474b-8bf0-cb5b59c3f582",
   "metadata": {},
   "outputs": [
    {
     "name": "stderr",
     "output_type": "stream",
     "text": [
      "C:\\Users\\raj\\anaconda3\\Lib\\site-packages\\sklearn\\base.py:439: UserWarning: X does not have valid feature names, but LogisticRegression was fitted with feature names\n",
      "  warnings.warn(\n"
     ]
    },
    {
     "data": {
      "image/png": "[encoded data removed]",
      "text/plain": [
       "<Figure size 640x480 with 1 Axes>"
      ]
     },
     "metadata": {},
     "output_type": "display_data"
    }
   ],
   "source": [
    "plot_decision_regions(X.values, y.values, log, legend=2)\n",
    "import matplotlib.pyplot as plt\n",
    "# Adding axes annotations\n",
    "plt.xlabel('sepal length [cm]')\n",
    "plt.ylabel('petal length [cm]')\n",
    "plt.title('Softmax on Iris')\n",
    "\n",
    "plt.show()"
   ]
  },
  {
   "cell_type": "code",
   "execution_count": null,
   "id": "a8aaf195-d170-40b3-b54a-7bab785bd644",
   "metadata": {},
   "outputs": [],
   "source": []
  }
 ],
 "metadata": {
  "kernelspec": {
   "display_name": "Python 3 (ipykernel)",
   "language": "python",
   "name": "python3"
  },
  "language_info": {
   "codemirror_mode": {
    "name": "ipython",
    "version": 3
   },
   "file_extension": ".py",
   "mimetype": "text/x-python",
   "name": "python",
   "nbconvert_exporter": "python",
   "pygments_lexer": "ipython3",
   "version": "3.11.7"
  },
  "widgets": {
   "application/vnd.jupyter.widget-state+json": {
    "state": {},
    "version_major": 2,
    "version_minor": 0
   }
  }
 },
 "nbformat": 4,
 "nbformat_minor": 5
}
