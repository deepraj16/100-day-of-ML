{
 "cells": [
  {
   "cell_type": "code",
   "execution_count": 3,
   "id": "f31aadcb-0ba1-42b2-abd2-3f89032bfdbf",
   "metadata": {},
   "outputs": [],
   "source": [
    "import pandas as pd\n",
    "df=pd.read_csv('titanic_toy.csv')"
   ]
  },
  {
   "cell_type": "code",
   "execution_count": 4,
   "id": "82634899-fa42-424b-9a62-cd829edd8419",
   "metadata": {},
   "outputs": [
    {
     "data": {
      "text/html": [
       "<div>\n",
       "<style scoped>\n",
       "    .dataframe tbody tr th:only-of-type {\n",
       "        vertical-align: middle;\n",
       "    }\n",
       "\n",
       "    .dataframe tbody tr th {\n",
       "        vertical-align: top;\n",
       "    }\n",
       "\n",
       "    .dataframe thead th {\n",
       "        text-align: right;\n",
       "    }\n",
       "</style>\n",
       "<table border=\"1\" class=\"dataframe\">\n",
       "  <thead>\n",
       "    <tr style=\"text-align: right;\">\n",
       "      <th></th>\n",
       "      <th>Age</th>\n",
       "      <th>Fare</th>\n",
       "      <th>Family</th>\n",
       "      <th>Survived</th>\n",
       "    </tr>\n",
       "  </thead>\n",
       "  <tbody>\n",
       "    <tr>\n",
       "      <th>416</th>\n",
       "      <td>34.0</td>\n",
       "      <td>32.5000</td>\n",
       "      <td>2</td>\n",
       "      <td>1</td>\n",
       "    </tr>\n",
       "    <tr>\n",
       "      <th>69</th>\n",
       "      <td>26.0</td>\n",
       "      <td>8.6625</td>\n",
       "      <td>2</td>\n",
       "      <td>0</td>\n",
       "    </tr>\n",
       "  </tbody>\n",
       "</table>\n",
       "</div>"
      ],
      "text/plain": [
       "      Age     Fare  Family  Survived\n",
       "416  34.0  32.5000       2         1\n",
       "69   26.0   8.6625       2         0"
      ]
     },
     "execution_count": 4,
     "metadata": {},
     "output_type": "execute_result"
    }
   ],
   "source": [
    "df.sample(2)"
   ]
  },
  {
   "cell_type": "code",
   "execution_count": 5,
   "id": "c497ec71-d830-483e-adae-7c157022a0aa",
   "metadata": {},
   "outputs": [
    {
     "data": {
      "text/plain": [
       "Age         177\n",
       "Fare         45\n",
       "Family        0\n",
       "Survived      0\n",
       "dtype: int64"
      ]
     },
     "execution_count": 5,
     "metadata": {},
     "output_type": "execute_result"
    }
   ],
   "source": [
    "df.isnull().sum()"
   ]
  },
  {
   "cell_type": "code",
   "execution_count": 8,
   "id": "987ce94c-c21e-4961-bb24-e07b12346662",
   "metadata": {},
   "outputs": [],
   "source": [
    "#incodeing data for missing value Simple imputing"
   ]
  },
  {
   "cell_type": "code",
   "execution_count": 19,
   "id": "84e1ef20-ba1a-4db8-adfd-e9ae47055a78",
   "metadata": {},
   "outputs": [],
   "source": [
    "from sklearn.impute import SimpleImputer\n",
    "import numpy as np\n",
    "from sklearn.compose import ColumnTransformer"
   ]
  },
  {
   "cell_type": "code",
   "execution_count": 20,
   "id": "6e9b1d25-0bac-46b9-b620-3a11d685047c",
   "metadata": {},
   "outputs": [
    {
     "data": {
      "text/plain": [
       "Age         177\n",
       "Fare         45\n",
       "Family        0\n",
       "Survived      0\n",
       "dtype: int64"
      ]
     },
     "execution_count": 20,
     "metadata": {},
     "output_type": "execute_result"
    }
   ],
   "source": [
    "df.isnull().sum()"
   ]
  },
  {
   "cell_type": "code",
   "execution_count": 24,
   "id": "275cddce-d79e-4b0f-9c86-3a1bf629cfa9",
   "metadata": {},
   "outputs": [
    {
     "name": "stdout",
     "output_type": "stream",
     "text": [
      "<class 'pandas.core.frame.DataFrame'> <class 'pandas.core.frame.DataFrame'>\n"
     ]
    }
   ],
   "source": [
    "x=df.drop(columns=['Survived'])\n",
    "y=df['Survived']\n",
    "y=pd.DataFrame(y)\n",
    "print(type(x),type(y))"
   ]
  },
  {
   "cell_type": "code",
   "execution_count": 25,
   "id": "574dc0c6-fe31-4b93-a794-eb2a5f8e6df1",
   "metadata": {},
   "outputs": [],
   "source": [
    "from sklearn.model_selection import train_test_split"
   ]
  },
  {
   "cell_type": "code",
   "execution_count": 27,
   "id": "910613e7-6256-4ecb-9966-2560235f0ec6",
   "metadata": {},
   "outputs": [],
   "source": [
    "x_train,x_test,y_train,y_test=train_test_split(x,y,test_size=0.3,random_state=42)"
   ]
  },
  {
   "cell_type": "code",
   "execution_count": 35,
   "id": "dbac1675-e1ea-4af4-892b-d94a2f19c5e5",
   "metadata": {},
   "outputs": [
    {
     "data": {
      "text/plain": [
       "Age       0.199037\n",
       "Fare      0.048154\n",
       "Family    0.000000\n",
       "dtype: float64"
      ]
     },
     "execution_count": 35,
     "metadata": {},
     "output_type": "execute_result"
    }
   ],
   "source": [
    "x_train.isna().mean()"
   ]
  },
  {
   "cell_type": "code",
   "execution_count": 43,
   "id": "b0c2d659-bc51-4b7c-848e-516e93e6bbaa",
   "metadata": {},
   "outputs": [],
   "source": [
    "mean_age=x_train['Age'].mean()\n",
    "median_age=x_train['Age'].median()\n",
    "\n",
    "mean_fare=x_train['Fare'].mean()\n",
    "median_fare=x_train['Fare'].median()\n"
   ]
  },
  {
   "cell_type": "code",
   "execution_count": 45,
   "id": "2aadc265-ad64-41e0-8cf4-af7b8a561481",
   "metadata": {},
   "outputs": [],
   "source": [
    "x_train['Age_median'] = x_train['Age'].fillna(median_age)\n",
    "x_train['Age_mean'] = x_train['Age'].fillna(mean_age)\n",
    "\n",
    "x_train['Fare_median'] = x_train['Fare'].fillna(median_fare)\n",
    "x_train['Fare_mean'] = x_train['Fare'].fillna(mean_fare)"
   ]
  },
  {
   "cell_type": "code",
   "execution_count": 49,
   "id": "cc9cd45c-9b2e-418b-a952-b00c96f98cd1",
   "metadata": {},
   "outputs": [
    {
     "data": {
      "text/html": [
       "<div>\n",
       "<style scoped>\n",
       "    .dataframe tbody tr th:only-of-type {\n",
       "        vertical-align: middle;\n",
       "    }\n",
       "\n",
       "    .dataframe tbody tr th {\n",
       "        vertical-align: top;\n",
       "    }\n",
       "\n",
       "    .dataframe thead th {\n",
       "        text-align: right;\n",
       "    }\n",
       "</style>\n",
       "<table border=\"1\" class=\"dataframe\">\n",
       "  <thead>\n",
       "    <tr style=\"text-align: right;\">\n",
       "      <th></th>\n",
       "      <th>Age</th>\n",
       "      <th>Fare</th>\n",
       "      <th>Family</th>\n",
       "      <th>Age_median</th>\n",
       "      <th>Age_mean</th>\n",
       "      <th>Fare_median</th>\n",
       "      <th>Fare_mean</th>\n",
       "    </tr>\n",
       "  </thead>\n",
       "  <tbody>\n",
       "    <tr>\n",
       "      <th>759</th>\n",
       "      <td>33.0</td>\n",
       "      <td>86.5</td>\n",
       "      <td>0</td>\n",
       "      <td>33.0</td>\n",
       "      <td>33.0</td>\n",
       "      <td>86.5000</td>\n",
       "      <td>86.500000</td>\n",
       "    </tr>\n",
       "    <tr>\n",
       "      <th>695</th>\n",
       "      <td>52.0</td>\n",
       "      <td>13.5</td>\n",
       "      <td>0</td>\n",
       "      <td>52.0</td>\n",
       "      <td>52.0</td>\n",
       "      <td>13.5000</td>\n",
       "      <td>13.500000</td>\n",
       "    </tr>\n",
       "    <tr>\n",
       "      <th>871</th>\n",
       "      <td>47.0</td>\n",
       "      <td>NaN</td>\n",
       "      <td>2</td>\n",
       "      <td>47.0</td>\n",
       "      <td>47.0</td>\n",
       "      <td>14.4542</td>\n",
       "      <td>31.798348</td>\n",
       "    </tr>\n",
       "    <tr>\n",
       "      <th>343</th>\n",
       "      <td>25.0</td>\n",
       "      <td>13.0</td>\n",
       "      <td>0</td>\n",
       "      <td>25.0</td>\n",
       "      <td>25.0</td>\n",
       "      <td>13.0000</td>\n",
       "      <td>13.000000</td>\n",
       "    </tr>\n",
       "    <tr>\n",
       "      <th>257</th>\n",
       "      <td>30.0</td>\n",
       "      <td>86.5</td>\n",
       "      <td>0</td>\n",
       "      <td>30.0</td>\n",
       "      <td>30.0</td>\n",
       "      <td>86.5000</td>\n",
       "      <td>86.500000</td>\n",
       "    </tr>\n",
       "  </tbody>\n",
       "</table>\n",
       "</div>"
      ],
      "text/plain": [
       "      Age  Fare  Family  Age_median  Age_mean  Fare_median  Fare_mean\n",
       "759  33.0  86.5       0        33.0      33.0      86.5000  86.500000\n",
       "695  52.0  13.5       0        52.0      52.0      13.5000  13.500000\n",
       "871  47.0   NaN       2        47.0      47.0      14.4542  31.798348\n",
       "343  25.0  13.0       0        25.0      25.0      13.0000  13.000000\n",
       "257  30.0  86.5       0        30.0      30.0      86.5000  86.500000"
      ]
     },
     "execution_count": 49,
     "metadata": {},
     "output_type": "execute_result"
    }
   ],
   "source": [
    "x_train.sample(5)"
   ]
  },
  {
   "cell_type": "code",
   "execution_count": 50,
   "id": "f2d0ff94-9bf0-4b2d-96b7-e680708a8be1",
   "metadata": {},
   "outputs": [
    {
     "data": {
      "text/plain": [
       "Age            124\n",
       "Fare            30\n",
       "Family           0\n",
       "Age_median       0\n",
       "Age_mean         0\n",
       "Fare_median      0\n",
       "Fare_mean        0\n",
       "dtype: int64"
      ]
     },
     "execution_count": 50,
     "metadata": {},
     "output_type": "execute_result"
    }
   ],
   "source": [
    "x_train.isna().sum()"
   ]
  },
  {
   "cell_type": "code",
   "execution_count": 52,
   "id": "d5bc3039-7df3-4853-b173-5efb9e0a32a7",
   "metadata": {},
   "outputs": [
    {
     "name": "stdout",
     "output_type": "stream",
     "text": [
      "Original Age variable variance:  211.95188064643307\n",
      "Age Variance after median imputation:  169.94984651902135\n",
      "Age Variance after mean imputation:  169.69780797736954\n",
      "Original Fare variable variance:  2666.9296723129796\n",
      "Fare Variance after median imputation:  2552.1099348908224\n",
      "Fare Variance after mean imputation:  2538.2996238091378\n"
     ]
    }
   ],
   "source": [
    "print('Original Age variable variance: ', x_train['Age'].var())\n",
    "print('Age Variance after median imputation: ', x_train['Age_median'].var())\n",
    "print('Age Variance after mean imputation: ', x_train['Age_mean'].var())\n",
    "\n",
    "print('Original Fare variable variance: ', x_train['Fare'].var())\n",
    "print('Fare Variance after median imputation: ', x_train['Fare_median'].var())\n",
    "print('Fare Variance after mean imputation: ', x_train['Fare_mean'].var())"
   ]
  },
  {
   "cell_type": "code",
   "execution_count": 58,
   "id": "77a2ffe5-79e9-4de0-ad71-f5ddbffb7dde",
   "metadata": {},
   "outputs": [
    {
     "name": "stdout",
     "output_type": "stream",
     "text": [
      "<class 'pandas.core.frame.DataFrame'>\n",
      "Index: 623 entries, 445 to 102\n",
      "Data columns (total 7 columns):\n",
      " #   Column       Non-Null Count  Dtype  \n",
      "---  ------       --------------  -----  \n",
      " 0   Age          499 non-null    float64\n",
      " 1   Fare         593 non-null    float64\n",
      " 2   Family       623 non-null    int64  \n",
      " 3   Age_median   623 non-null    float64\n",
      " 4   Age_mean     623 non-null    float64\n",
      " 5   Fare_median  623 non-null    float64\n",
      " 6   Fare_mean    623 non-null    float64\n",
      "dtypes: float64(6), int64(1)\n",
      "memory usage: 38.9 KB\n"
     ]
    }
   ],
   "source": [
    "import matplotlib.pyplot as plt\n",
    "import seaborn as sns\n",
    "x_train.info()"
   ]
  },
  {
   "cell_type": "code",
   "execution_count": 67,
   "id": "e9907998-8ead-4f5d-8366-5f793a78d8a2",
   "metadata": {},
   "outputs": [
    {
     "data": {
      "text/plain": [
       "<matplotlib.legend.Legend at 0x25d7334c450>"
      ]
     },
     "execution_count": 67,
     "metadata": {},
     "output_type": "execute_result"
    },
    {
     "data": {
      "image/png": "[encoded data removed]",
      "text/plain": [
       "<Figure size 640x480 with 1 Axes>"
      ]
     },
     "metadata": {},
     "output_type": "display_data"
    }
   ],
   "source": [
    "fig=plt.figure()\n",
    "ax=fig.add_subplot(111)\n",
    "\n",
    "x_train['Age'].plot(kind='kde',ax=ax,color='red')\n",
    "x_train['Age_mean'].plot(kind='kde',ax=ax,color='blue')\n",
    "x_train['Age_median'].plot(kind='kde',ax=ax,color='green')\n",
    "lines, labels = ax.get_legend_handles_labels()\n",
    "\n",
    "ax.legend(lines, labels, loc='best')"
   ]
  },
  {
   "cell_type": "code",
   "execution_count": 68,
   "id": "cb8e642f-e759-497c-8334-2de4a28d4367",
   "metadata": {},
   "outputs": [
    {
     "data": {
      "text/html": [
       "<div>\n",
       "<style scoped>\n",
       "    .dataframe tbody tr th:only-of-type {\n",
       "        vertical-align: middle;\n",
       "    }\n",
       "\n",
       "    .dataframe tbody tr th {\n",
       "        vertical-align: top;\n",
       "    }\n",
       "\n",
       "    .dataframe thead th {\n",
       "        text-align: right;\n",
       "    }\n",
       "</style>\n",
       "<table border=\"1\" class=\"dataframe\">\n",
       "  <thead>\n",
       "    <tr style=\"text-align: right;\">\n",
       "      <th></th>\n",
       "      <th>Age</th>\n",
       "      <th>Fare</th>\n",
       "      <th>Family</th>\n",
       "      <th>Age_median</th>\n",
       "      <th>Age_mean</th>\n",
       "      <th>Fare_median</th>\n",
       "      <th>Fare_mean</th>\n",
       "    </tr>\n",
       "  </thead>\n",
       "  <tbody>\n",
       "    <tr>\n",
       "      <th>Age</th>\n",
       "      <td>211.951881</td>\n",
       "      <td>71.822073</td>\n",
       "      <td>-6.932603</td>\n",
       "      <td>211.951881</td>\n",
       "      <td>211.951881</td>\n",
       "      <td>65.775061</td>\n",
       "      <td>67.757268</td>\n",
       "    </tr>\n",
       "    <tr>\n",
       "      <th>Fare</th>\n",
       "      <td>71.822073</td>\n",
       "      <td>2666.929672</td>\n",
       "      <td>18.612474</td>\n",
       "      <td>59.765747</td>\n",
       "      <td>56.998513</td>\n",
       "      <td>2666.929672</td>\n",
       "      <td>2666.929672</td>\n",
       "    </tr>\n",
       "    <tr>\n",
       "      <th>Family</th>\n",
       "      <td>-6.932603</td>\n",
       "      <td>18.612474</td>\n",
       "      <td>2.997027</td>\n",
       "      <td>-5.533529</td>\n",
       "      <td>-5.550541</td>\n",
       "      <td>17.767537</td>\n",
       "      <td>17.714766</td>\n",
       "    </tr>\n",
       "    <tr>\n",
       "      <th>Age_median</th>\n",
       "      <td>211.951881</td>\n",
       "      <td>59.765747</td>\n",
       "      <td>-5.533529</td>\n",
       "      <td>169.949847</td>\n",
       "      <td>169.697808</td>\n",
       "      <td>55.227061</td>\n",
       "      <td>56.883154</td>\n",
       "    </tr>\n",
       "    <tr>\n",
       "      <th>Age_mean</th>\n",
       "      <td>211.951881</td>\n",
       "      <td>56.998513</td>\n",
       "      <td>-5.550541</td>\n",
       "      <td>169.697808</td>\n",
       "      <td>169.697808</td>\n",
       "      <td>52.662348</td>\n",
       "      <td>54.249388</td>\n",
       "    </tr>\n",
       "    <tr>\n",
       "      <th>Fare_median</th>\n",
       "      <td>65.775061</td>\n",
       "      <td>2666.929672</td>\n",
       "      <td>17.767537</td>\n",
       "      <td>55.227061</td>\n",
       "      <td>52.662348</td>\n",
       "      <td>2552.109935</td>\n",
       "      <td>2538.299624</td>\n",
       "    </tr>\n",
       "    <tr>\n",
       "      <th>Fare_mean</th>\n",
       "      <td>67.757268</td>\n",
       "      <td>2666.929672</td>\n",
       "      <td>17.714766</td>\n",
       "      <td>56.883154</td>\n",
       "      <td>54.249388</td>\n",
       "      <td>2538.299624</td>\n",
       "      <td>2538.299624</td>\n",
       "    </tr>\n",
       "  </tbody>\n",
       "</table>\n",
       "</div>"
      ],
      "text/plain": [
       "                    Age         Fare     Family  Age_median    Age_mean  \\\n",
       "Age          211.951881    71.822073  -6.932603  211.951881  211.951881   \n",
       "Fare          71.822073  2666.929672  18.612474   59.765747   56.998513   \n",
       "Family        -6.932603    18.612474   2.997027   -5.533529   -5.550541   \n",
       "Age_median   211.951881    59.765747  -5.533529  169.949847  169.697808   \n",
       "Age_mean     211.951881    56.998513  -5.550541  169.697808  169.697808   \n",
       "Fare_median   65.775061  2666.929672  17.767537   55.227061   52.662348   \n",
       "Fare_mean     67.757268  2666.929672  17.714766   56.883154   54.249388   \n",
       "\n",
       "             Fare_median    Fare_mean  \n",
       "Age            65.775061    67.757268  \n",
       "Fare         2666.929672  2666.929672  \n",
       "Family         17.767537    17.714766  \n",
       "Age_median     55.227061    56.883154  \n",
       "Age_mean       52.662348    54.249388  \n",
       "Fare_median  2552.109935  2538.299624  \n",
       "Fare_mean    2538.299624  2538.299624  "
      ]
     },
     "execution_count": 68,
     "metadata": {},
     "output_type": "execute_result"
    }
   ],
   "source": [
    "x_train.cov()"
   ]
  },
  {
   "cell_type": "code",
   "execution_count": 70,
   "id": "4f1a3093-6b4d-441a-98b3-06e58136399d",
   "metadata": {},
   "outputs": [
    {
     "data": {
      "text/html": [
       "<div>\n",
       "<style scoped>\n",
       "    .dataframe tbody tr th:only-of-type {\n",
       "        vertical-align: middle;\n",
       "    }\n",
       "\n",
       "    .dataframe tbody tr th {\n",
       "        vertical-align: top;\n",
       "    }\n",
       "\n",
       "    .dataframe thead th {\n",
       "        text-align: right;\n",
       "    }\n",
       "</style>\n",
       "<table border=\"1\" class=\"dataframe\">\n",
       "  <thead>\n",
       "    <tr style=\"text-align: right;\">\n",
       "      <th></th>\n",
       "      <th>Age</th>\n",
       "      <th>Fare</th>\n",
       "      <th>Family</th>\n",
       "      <th>Age_median</th>\n",
       "      <th>Age_mean</th>\n",
       "      <th>Fare_median</th>\n",
       "      <th>Fare_mean</th>\n",
       "    </tr>\n",
       "  </thead>\n",
       "  <tbody>\n",
       "    <tr>\n",
       "      <th>Age</th>\n",
       "      <td>1.000000</td>\n",
       "      <td>0.088197</td>\n",
       "      <td>-0.310167</td>\n",
       "      <td>1.000000</td>\n",
       "      <td>1.000000</td>\n",
       "      <td>0.083017</td>\n",
       "      <td>0.085804</td>\n",
       "    </tr>\n",
       "    <tr>\n",
       "      <th>Fare</th>\n",
       "      <td>0.088197</td>\n",
       "      <td>1.000000</td>\n",
       "      <td>0.205140</td>\n",
       "      <td>0.088616</td>\n",
       "      <td>0.084564</td>\n",
       "      <td>1.000000</td>\n",
       "      <td>1.000000</td>\n",
       "    </tr>\n",
       "    <tr>\n",
       "      <th>Family</th>\n",
       "      <td>-0.310167</td>\n",
       "      <td>0.205140</td>\n",
       "      <td>1.000000</td>\n",
       "      <td>-0.245186</td>\n",
       "      <td>-0.246123</td>\n",
       "      <td>0.203157</td>\n",
       "      <td>0.203104</td>\n",
       "    </tr>\n",
       "    <tr>\n",
       "      <th>Age_median</th>\n",
       "      <td>1.000000</td>\n",
       "      <td>0.088616</td>\n",
       "      <td>-0.245186</td>\n",
       "      <td>1.000000</td>\n",
       "      <td>0.999258</td>\n",
       "      <td>0.083857</td>\n",
       "      <td>0.086607</td>\n",
       "    </tr>\n",
       "    <tr>\n",
       "      <th>Age_mean</th>\n",
       "      <td>1.000000</td>\n",
       "      <td>0.084564</td>\n",
       "      <td>-0.246123</td>\n",
       "      <td>0.999258</td>\n",
       "      <td>1.000000</td>\n",
       "      <td>0.080023</td>\n",
       "      <td>0.082658</td>\n",
       "    </tr>\n",
       "    <tr>\n",
       "      <th>Fare_median</th>\n",
       "      <td>0.083017</td>\n",
       "      <td>1.000000</td>\n",
       "      <td>0.203157</td>\n",
       "      <td>0.083857</td>\n",
       "      <td>0.080023</td>\n",
       "      <td>1.000000</td>\n",
       "      <td>0.997291</td>\n",
       "    </tr>\n",
       "    <tr>\n",
       "      <th>Fare_mean</th>\n",
       "      <td>0.085804</td>\n",
       "      <td>1.000000</td>\n",
       "      <td>0.203104</td>\n",
       "      <td>0.086607</td>\n",
       "      <td>0.082658</td>\n",
       "      <td>0.997291</td>\n",
       "      <td>1.000000</td>\n",
       "    </tr>\n",
       "  </tbody>\n",
       "</table>\n",
       "</div>"
      ],
      "text/plain": [
       "                  Age      Fare    Family  Age_median  Age_mean  Fare_median  \\\n",
       "Age          1.000000  0.088197 -0.310167    1.000000  1.000000     0.083017   \n",
       "Fare         0.088197  1.000000  0.205140    0.088616  0.084564     1.000000   \n",
       "Family      -0.310167  0.205140  1.000000   -0.245186 -0.246123     0.203157   \n",
       "Age_median   1.000000  0.088616 -0.245186    1.000000  0.999258     0.083857   \n",
       "Age_mean     1.000000  0.084564 -0.246123    0.999258  1.000000     0.080023   \n",
       "Fare_median  0.083017  1.000000  0.203157    0.083857  0.080023     1.000000   \n",
       "Fare_mean    0.085804  1.000000  0.203104    0.086607  0.082658     0.997291   \n",
       "\n",
       "             Fare_mean  \n",
       "Age           0.085804  \n",
       "Fare          1.000000  \n",
       "Family        0.203104  \n",
       "Age_median    0.086607  \n",
       "Age_mean      0.082658  \n",
       "Fare_median   0.997291  \n",
       "Fare_mean     1.000000  "
      ]
     },
     "execution_count": 70,
     "metadata": {},
     "output_type": "execute_result"
    }
   ],
   "source": [
    "x_train.corr()"
   ]
  },
  {
   "cell_type": "code",
   "execution_count": 71,
   "id": "876a8b18-e9a6-46df-8f12-cc92e39d988c",
   "metadata": {},
   "outputs": [
    {
     "data": {
      "text/plain": [
       "<Axes: >"
      ]
     },
     "execution_count": 71,
     "metadata": {},
     "output_type": "execute_result"
    },
    {
     "data": {
      "image/png": "[encoded data removed]",
      "text/plain": [
       "<Figure size 640x480 with 1 Axes>"
      ]
     },
     "metadata": {},
     "output_type": "display_data"
    }
   ],
   "source": [
    "x_train[['Age','Age_median','Age_mean']].boxplot()"
   ]
  },
  {
   "cell_type": "code",
   "execution_count": 73,
   "id": "05770a73-42ce-458a-9414-a3f330e8f1a4",
   "metadata": {},
   "outputs": [
    {
     "data": {
      "text/plain": [
       "<Axes: >"
      ]
     },
     "execution_count": 73,
     "metadata": {},
     "output_type": "execute_result"
    },
    {
     "data": {
      "image/png": "[encoded data removed]",
      "text/plain": [
       "<Figure size 640x480 with 1 Axes>"
      ]
     },
     "metadata": {},
     "output_type": "display_data"
    }
   ],
   "source": [
    "x_train[['Fare', 'Fare_median', 'Fare_mean']].boxplot()"
   ]
  },
  {
   "cell_type": "markdown",
   "id": "82eb1967-0c19-4d32-a279-9a8bbb698980",
   "metadata": {},
   "source": [
    "# Simple mean ,median imputer is a used for only data which is less contataic\n"
   ]
  },
  {
   "cell_type": "markdown",
   "id": "a27a11fa-01d3-48a7-b337-b5093778ddda",
   "metadata": {},
   "source": [
    "# example fare"
   ]
  },
  {
   "cell_type": "code",
   "execution_count": 76,
   "id": "9ce5d8f2-8d2b-402d-ab63-57ba4e715f05",
   "metadata": {},
   "outputs": [],
   "source": [
    "X_train,X_test,y_train,y_test = train_test_split(x,y,test_size=0.2,random_state=2)"
   ]
  },
  {
   "cell_type": "code",
   "execution_count": 78,
   "id": "bd34f082-ef54-429b-a7f2-a36a8c9c74de",
   "metadata": {},
   "outputs": [],
   "source": [
    "from sklearn.impute import SimpleImputer"
   ]
  },
  {
   "cell_type": "code",
   "execution_count": 79,
   "id": "6102f1a4-b308-491e-9b40-e369a65f1994",
   "metadata": {},
   "outputs": [],
   "source": [
    "impu1=SimpleImputer(strategy='median')\n",
    "impu2=SimpleImputer(strategy='mean')"
   ]
  },
  {
   "cell_type": "code",
   "execution_count": 80,
   "id": "5ad22469-064e-4a7a-a5a2-1f77d02a26ab",
   "metadata": {},
   "outputs": [],
   "source": [
    "from sklearn.compose import ColumnTransformer"
   ]
  },
  {
   "cell_type": "code",
   "execution_count": 87,
   "id": "7fe37604-c8fd-42bd-8525-4e2ac277dfd3",
   "metadata": {},
   "outputs": [],
   "source": [
    "trf=ColumnTransformer(\n",
    "    [ \n",
    "    ('impu1',impu1,['Age']),\n",
    "    ('impu2',impu2,['Fare'])\n",
    "    ],\n",
    "remainder='passthrough')"
   ]
  },
  {
   "cell_type": "code",
   "execution_count": 88,
   "id": "6187cd9f-d6b6-4aed-afc3-3dadb37bbc64",
   "metadata": {},
   "outputs": [
    {
     "data": {
      "text/html": [
       "<style>#sk-container-id-1 {color: black;background-color: white;}#sk-container-id-1 pre{padding: 0;}#sk-container-id-1 div.sk-toggleable {background-color: white;}#sk-container-id-1 label.sk-toggleable__label {cursor: pointer;display: block;width: 100%;margin-bottom: 0;padding: 0.3em;box-sizing: border-box;text-align: center;}#sk-container-id-1 label.sk-toggleable__label-arrow:before {content: \"▸\";float: left;margin-right: 0.25em;color: #696969;}#sk-container-id-1 label.sk-toggleable__label-arrow:hover:before {color: black;}#sk-container-id-1 div.sk-estimator:hover label.sk-toggleable__label-arrow:before {color: black;}#sk-container-id-1 div.sk-toggleable__content {max-height: 0;max-width: 0;overflow: hidden;text-align: left;background-color: #f0f8ff;}#sk-container-id-1 div.sk-toggleable__content pre {margin: 0.2em;color: black;border-radius: 0.25em;background-color: #f0f8ff;}#sk-container-id-1 input.sk-toggleable__control:checked~div.sk-toggleable__content {max-height: 200px;max-width: 100%;overflow: auto;}#sk-container-id-1 input.sk-toggleable__control:checked~label.sk-toggleable__label-arrow:before {content: \"▾\";}#sk-container-id-1 div.sk-estimator input.sk-toggleable__control:checked~label.sk-toggleable__label {background-color: #d4ebff;}#sk-container-id-1 div.sk-label input.sk-toggleable__control:checked~label.sk-toggleable__label {background-color: #d4ebff;}#sk-container-id-1 input.sk-hidden--visually {border: 0;clip: rect(1px 1px 1px 1px);clip: rect(1px, 1px, 1px, 1px);height: 1px;margin: -1px;overflow: hidden;padding: 0;position: absolute;width: 1px;}#sk-container-id-1 div.sk-estimator {font-family: monospace;background-color: #f0f8ff;border: 1px dotted black;border-radius: 0.25em;box-sizing: border-box;margin-bottom: 0.5em;}#sk-container-id-1 div.sk-estimator:hover {background-color: #d4ebff;}#sk-container-id-1 div.sk-parallel-item::after {content: \"\";width: 100%;border-bottom: 1px solid gray;flex-grow: 1;}#sk-container-id-1 div.sk-label:hover label.sk-toggleable__label {background-color: #d4ebff;}#sk-container-id-1 div.sk-serial::before {content: \"\";position: absolute;border-left: 1px solid gray;box-sizing: border-box;top: 0;bottom: 0;left: 50%;z-index: 0;}#sk-container-id-1 div.sk-serial {display: flex;flex-direction: column;align-items: center;background-color: white;padding-right: 0.2em;padding-left: 0.2em;position: relative;}#sk-container-id-1 div.sk-item {position: relative;z-index: 1;}#sk-container-id-1 div.sk-parallel {display: flex;align-items: stretch;justify-content: center;background-color: white;position: relative;}#sk-container-id-1 div.sk-item::before, #sk-container-id-1 div.sk-parallel-item::before {content: \"\";position: absolute;border-left: 1px solid gray;box-sizing: border-box;top: 0;bottom: 0;left: 50%;z-index: -1;}#sk-container-id-1 div.sk-parallel-item {display: flex;flex-direction: column;z-index: 1;position: relative;background-color: white;}#sk-container-id-1 div.sk-parallel-item:first-child::after {align-self: flex-end;width: 50%;}#sk-container-id-1 div.sk-parallel-item:last-child::after {align-self: flex-start;width: 50%;}#sk-container-id-1 div.sk-parallel-item:only-child::after {width: 0;}#sk-container-id-1 div.sk-dashed-wrapped {border: 1px dashed gray;margin: 0 0.4em 0.5em 0.4em;box-sizing: border-box;padding-bottom: 0.4em;background-color: white;}#sk-container-id-1 div.sk-label label {font-family: monospace;font-weight: bold;display: inline-block;line-height: 1.2em;}#sk-container-id-1 div.sk-label-container {text-align: center;}#sk-container-id-1 div.sk-container {/* jupyter's `normalize.less` sets `[hidden] { display: none; }` but bootstrap.min.css set `[hidden] { display: none !important; }` so we also need the `!important` here to be able to override the default hidden behavior on the sphinx rendered scikit-learn.org. See: https://github.com/scikit-learn/scikit-learn/issues/21755 */display: inline-block !important;position: relative;}#sk-container-id-1 div.sk-text-repr-fallback {display: none;}</style><div id=\"sk-container-id-1\" class=\"sk-top-container\"><div class=\"sk-text-repr-fallback\"><pre>ColumnTransformer(remainder=&#x27;passthrough&#x27;,\n",
       "                  transformers=[(&#x27;impu1&#x27;, SimpleImputer(strategy=&#x27;median&#x27;),\n",
       "                                 [&#x27;Age&#x27;]),\n",
       "                                (&#x27;impu2&#x27;, SimpleImputer(), [&#x27;Fare&#x27;])])</pre><b>In a Jupyter environment, please rerun this cell to show the HTML representation or trust the notebook. <br />On GitHub, the HTML representation is unable to render, please try loading this page with nbviewer.org.</b></div><div class=\"sk-container\" hidden><div class=\"sk-item sk-dashed-wrapped\"><div class=\"sk-label-container\"><div class=\"sk-label sk-toggleable\"><input class=\"sk-toggleable__control sk-hidden--visually\" id=\"sk-estimator-id-1\" type=\"checkbox\" ><label for=\"sk-estimator-id-1\" class=\"sk-toggleable__label sk-toggleable__label-arrow\">ColumnTransformer</label><div class=\"sk-toggleable__content\"><pre>ColumnTransformer(remainder=&#x27;passthrough&#x27;,\n",
       "                  transformers=[(&#x27;impu1&#x27;, SimpleImputer(strategy=&#x27;median&#x27;),\n",
       "                                 [&#x27;Age&#x27;]),\n",
       "                                (&#x27;impu2&#x27;, SimpleImputer(), [&#x27;Fare&#x27;])])</pre></div></div></div><div class=\"sk-parallel\"><div class=\"sk-parallel-item\"><div class=\"sk-item\"><div class=\"sk-label-container\"><div class=\"sk-label sk-toggleable\"><input class=\"sk-toggleable__control sk-hidden--visually\" id=\"sk-estimator-id-2\" type=\"checkbox\" ><label for=\"sk-estimator-id-2\" class=\"sk-toggleable__label sk-toggleable__label-arrow\">impu1</label><div class=\"sk-toggleable__content\"><pre>[&#x27;Age&#x27;]</pre></div></div></div><div class=\"sk-serial\"><div class=\"sk-item\"><div class=\"sk-estimator sk-toggleable\"><input class=\"sk-toggleable__control sk-hidden--visually\" id=\"sk-estimator-id-3\" type=\"checkbox\" ><label for=\"sk-estimator-id-3\" class=\"sk-toggleable__label sk-toggleable__label-arrow\">SimpleImputer</label><div class=\"sk-toggleable__content\"><pre>SimpleImputer(strategy=&#x27;median&#x27;)</pre></div></div></div></div></div></div><div class=\"sk-parallel-item\"><div class=\"sk-item\"><div class=\"sk-label-container\"><div class=\"sk-label sk-toggleable\"><input class=\"sk-toggleable__control sk-hidden--visually\" id=\"sk-estimator-id-4\" type=\"checkbox\" ><label for=\"sk-estimator-id-4\" class=\"sk-toggleable__label sk-toggleable__label-arrow\">impu2</label><div class=\"sk-toggleable__content\"><pre>[&#x27;Fare&#x27;]</pre></div></div></div><div class=\"sk-serial\"><div class=\"sk-item\"><div class=\"sk-estimator sk-toggleable\"><input class=\"sk-toggleable__control sk-hidden--visually\" id=\"sk-estimator-id-5\" type=\"checkbox\" ><label for=\"sk-estimator-id-5\" class=\"sk-toggleable__label sk-toggleable__label-arrow\">SimpleImputer</label><div class=\"sk-toggleable__content\"><pre>SimpleImputer()</pre></div></div></div></div></div></div><div class=\"sk-parallel-item\"><div class=\"sk-item\"><div class=\"sk-label-container\"><div class=\"sk-label sk-toggleable\"><input class=\"sk-toggleable__control sk-hidden--visually\" id=\"sk-estimator-id-6\" type=\"checkbox\" ><label for=\"sk-estimator-id-6\" class=\"sk-toggleable__label sk-toggleable__label-arrow\">remainder</label><div class=\"sk-toggleable__content\"><pre>[&#x27;Family&#x27;, &#x27;Age_median&#x27;, &#x27;Age_mean&#x27;, &#x27;Fare_median&#x27;, &#x27;Fare_mean&#x27;]</pre></div></div></div><div class=\"sk-serial\"><div class=\"sk-item\"><div class=\"sk-estimator sk-toggleable\"><input class=\"sk-toggleable__control sk-hidden--visually\" id=\"sk-estimator-id-7\" type=\"checkbox\" ><label for=\"sk-estimator-id-7\" class=\"sk-toggleable__label sk-toggleable__label-arrow\">passthrough</label><div class=\"sk-toggleable__content\"><pre>passthrough</pre></div></div></div></div></div></div></div></div></div></div>"
      ],
      "text/plain": [
       "ColumnTransformer(remainder='passthrough',\n",
       "                  transformers=[('impu1', SimpleImputer(strategy='median'),\n",
       "                                 ['Age']),\n",
       "                                ('impu2', SimpleImputer(), ['Fare'])])"
      ]
     },
     "execution_count": 88,
     "metadata": {},
     "output_type": "execute_result"
    }
   ],
   "source": [
    "trf.fit(x_train)"
   ]
  },
  {
   "cell_type": "code",
   "execution_count": 91,
   "id": "a4697aab-6f0d-4400-beed-bd2bc8f3bd01",
   "metadata": {},
   "outputs": [
    {
     "data": {
      "text/plain": [
       "array([28.])"
      ]
     },
     "execution_count": 91,
     "metadata": {},
     "output_type": "execute_result"
    }
   ],
   "source": [
    "trf.named_transformers_['impu1'].statistics_"
   ]
  },
  {
   "cell_type": "code",
   "execution_count": 92,
   "id": "90002838-5784-4b94-84b7-d2f6779c3047",
   "metadata": {},
   "outputs": [
    {
     "data": {
      "text/plain": [
       "array([31.79834806])"
      ]
     },
     "execution_count": 92,
     "metadata": {},
     "output_type": "execute_result"
    }
   ],
   "source": [
    "trf.named_transformers_['impu2'].statistics_"
   ]
  },
  {
   "cell_type": "code",
   "execution_count": 93,
   "id": "374911bf-51f7-4e10-ba71-aa6ee36a30a6",
   "metadata": {},
   "outputs": [],
   "source": [
    "x_train=trf.fit_transform(x_train)\n",
    "x_test=trf.fit_transform(x_test)"
   ]
  },
  {
   "cell_type": "markdown",
   "id": "51540f28-2b86-40de-8d42-c663b46cb685",
   "metadata": {},
   "source": [
    "# we have to always use train data mean and median for test data also"
   ]
  },
  {
   "cell_type": "code",
   "execution_count": null,
   "id": "d892c250-9b86-424b-9104-bdd153a4912e",
   "metadata": {},
   "outputs": [],
   "source": []
  }
 ],
 "metadata": {
  "kernelspec": {
   "display_name": "Python 3 (ipykernel)",
   "language": "python",
   "name": "python3"
  },
  "language_info": {
   "codemirror_mode": {
    "name": "ipython",
    "version": 3
   },
   "file_extension": ".py",
   "mimetype": "text/x-python",
   "name": "python",
   "nbconvert_exporter": "python",
   "pygments_lexer": "ipython3",
   "version": "3.11.7"
  }
 },
 "nbformat": 4,
 "nbformat_minor": 5
}
